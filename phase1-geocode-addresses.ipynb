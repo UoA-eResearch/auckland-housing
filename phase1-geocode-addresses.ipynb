{
 "cells": [
  {
   "cell_type": "code",
   "execution_count": null,
   "id": "2793527c-e71d-4f1a-829f-a5943ea05ed0",
   "metadata": {},
   "outputs": [],
   "source": [
    "import numpy as np\n",
    "import pandas as pd\n",
    "import geopandas as gpd\n",
    "import fiona\n",
    "import glob\n",
    "import os\n",
    "import contextily as ctx\n",
    "from scipy.spatial import cKDTree\n",
    "from shapely.geometry import Point\n",
    "import json\n",
    "from tqdm.auto import tqdm\n",
    "from tqdm.contrib.concurrent import process_map, thread_map\n",
    "pd.set_option('min_rows', 30)\n",
    "import sys\n",
    "sys.path.append('..')\n",
    "from importlib import reload\n",
    "# import src.utils as utils\n",
    "# reload(utils)\n",
    "import matplotlib.pyplot as plt\n",
    "plt.rcParams['figure.figsize'] = (12, 12)\n",
    "pd.set_option('display.max_columns', None)\n",
    "pd.set_option('display.max_rows', 10)\n",
    "max_workers = 30"
   ]
  },
  {
   "cell_type": "code",
   "execution_count": null,
   "id": "a31a1b68-7ebb-4f00-ae4a-ccf70918e7f5",
   "metadata": {},
   "outputs": [],
   "source": [
    "def gdf2tree(gdf):\n",
    "    return cKDTree(np.array(list(gdf[~gdf.geometry.isna()].geometry.apply(lambda x: (x.x, x.y)))))"
   ]
  },
  {
   "cell_type": "code",
   "execution_count": null,
   "id": "15f3f91a-ec2d-43fe-99d1-23562c6fa0a8",
   "metadata": {},
   "outputs": [],
   "source": [
    "%%time\n",
    "## read in\n",
    "df = pd.read_csv(\"restricted/BCs_issued_by_AUP_TLADCs_2021FEB (1).csv\", encoding='cp1252')\n",
    "bcs = gpd.GeoDataFrame(df, geometry=gpd.points_from_xy(df.X_Coordinate, df.Y_Coordinate))"
   ]
  },
  {
   "cell_type": "code",
   "execution_count": null,
   "id": "3d8f5909-7911-456f-9c0f-2e4a964176a5",
   "metadata": {},
   "outputs": [],
   "source": [
    "ax = bcs.sample(1000).plot(column='Building_Type_Group', legend=True, figsize=(20,20))\n",
    "ctx.add_basemap(ax, crs=bcs.crs)"
   ]
  },
  {
   "cell_type": "code",
   "execution_count": null,
   "id": "ae0130cd-e0b8-490e-a4b1-6108802e4fe7",
   "metadata": {},
   "outputs": [],
   "source": [
    "# addressing of building consents is very inconsistent\n",
    "# some building consents have street name in ADDRESS_2, some have suburb, some even have 'Auckland'\n",
    "bcs[bcs.ADDRESS_2 == 'Auckland'].sample(5)"
   ]
  },
  {
   "cell_type": "code",
   "execution_count": null,
   "id": "e8150efb-701c-4ff7-9f6f-86e403073e23",
   "metadata": {},
   "outputs": [],
   "source": [
    "# one address has no ADDRESS_1, but an ADDRESS_2 with a leading digit\n",
    "display(bcs[bcs.ADDRESS_1.isna() & ~bcs.ADDRESS_2.isna()][bcs[bcs.ADDRESS_1.isna() & ~bcs.ADDRESS_2.isna()].ADDRESS_2.str.contains('^[0-9]', regex=True)])\n",
    "# move address 2 to address 1 for that one BC...\n",
    "bcs.loc[bcs.OBS == 146813, 'ADDRESS_1'] = \"25 HOLLYFORD DRV\"\n",
    "bcs.loc[bcs.OBS == 146813, 'ADDRESS_2'] = \"\""
   ]
  },
  {
   "cell_type": "code",
   "execution_count": null,
   "id": "87712170-0626-41cb-a11c-adbb01625f71",
   "metadata": {},
   "outputs": [],
   "source": [
    "%%time\n",
    "# get number and name of street (but not 'road', 'street', 'place' etc)\n",
    "# this can be used to match addresses with building consents\n",
    "\n",
    "def number_name_bc(x):\n",
    "    \"\"\"extract street number and first complete word of the street name from building consents\"\"\"\n",
    "    if x.ADDRESS_1 is None:\n",
    "        pass\n",
    "    else:\n",
    "        # get number and first word of address\n",
    "        joined_address = ' '.join([str(x[f'ADDRESS_{i}']) for i in [1,2, 3]]).lower()\n",
    "        return ' '.join(joined_address.split(' ')[:2])\n",
    "\n",
    "def full_address_bc(x):\n",
    "    \"\"\"extract full address from building consents\"\"\"\n",
    "    if x.ADDRESS_1 is None:\n",
    "        pass\n",
    "    else:\n",
    "        # get number and first word of address\n",
    "        joined_address = ' '.join([str(x[f'ADDRESS_{i}']) for i in [1,2, 3] if not str(x[f'ADDRESS_{i}']) == 'nan']).lower()\n",
    "        return joined_address\n",
    "\n",
    "bcs['number_name'] = bcs.apply(number_name_bc, axis=1)\n",
    "bcs['full_address'] = bcs.apply(full_address_bc, axis=1)\n",
    "\n",
    "# there will still be some cases where there is no street number\n",
    "display(bcs.number_name.sample(5))"
   ]
  },
  {
   "cell_type": "code",
   "execution_count": null,
   "id": "ac992811-e403-42e5-a34f-01cd2a5ff448",
   "metadata": {},
   "outputs": [],
   "source": [
    "# check the number of rows where number_name has its last character as numeric; this should be zero\n",
    "print(sum(bcs['number_name'].apply(lambda x: x[-1] in [i for i in range(10)])))"
   ]
  },
  {
   "cell_type": "markdown",
   "id": "6d66feec-2487-413b-9b55-e8675af60f0c",
   "metadata": {},
   "source": [
    "#### Split into three branches:  \n",
    "- those with an address number range (e.g. 10-20)\n",
    "- those with a single number (e.g. 10)\n",
    "- those with no number  \n",
    "\n",
    "Those with no number cannot be matched with addresses to get a more accuract coordinate."
   ]
  },
  {
   "cell_type": "code",
   "execution_count": null,
   "id": "91139b9d-e640-4e3e-a1b8-fef692fce689",
   "metadata": {},
   "outputs": [],
   "source": [
    "bcs_non_na = bcs[~bcs.ADDRESS_1.isna()]\n",
    "bcs_ranged = bcs_non_na[bcs_non_na.ADDRESS_1.str.contains('^[0-9]+-[0-9]', regex=True)]\n",
    "# get all bcs which start with a digit\n",
    "bcs_numbered = bcs_non_na[bcs_non_na.ADDRESS_1.str.contains('^[0-9]', regex=True)]\n",
    "# exclude those in bcs_ranged\n",
    "bcs_numbered = bcs_numbered[~bcs_numbered.ADDRESS_1.str.contains('^[0-9]+-[0-9]', regex=True)]\n",
    "bcs_others = pd.concat([bcs_non_na[~bcs_non_na.ADDRESS_1.str.contains('^[0-9]', regex=True)], bcs[bcs.ADDRESS_1.isna()]])\n",
    "print('non na bcs:', len(bcs_non_na))\n",
    "print()\n",
    "print('1. ranged:', len(bcs_ranged))\n",
    "print('2. numbered:', len(bcs_numbered))\n",
    "print('3. non ranged/non numbered:', len(bcs_others))\n",
    "print('total bcs:', len(bcs))\n",
    "print('sum of 1, 2, 3:', len(bcs_ranged) + len(bcs_numbered) + len(bcs_others))"
   ]
  },
  {
   "cell_type": "markdown",
   "id": "6548b657-3ea6-4ece-b396-8f05cfaf3e25",
   "metadata": {},
   "source": [
    "## How many building consents have coordinates that match with the correct parcel?  \n",
    "Building consents may have geocoordinates that are incorrect. We can quantify this by matching building consents to parcels, matching addresses to parcels, and then see whether or not building consents and their corresponding addresses are matched to the same parcels.  \n",
    "(BUT sometimes the geocoordinates could be correct, and the address wrong! E.g. mispelt. Match on the number and first word of address to mitigate this.)  \n",
    "If a building consent matches in this part, then we use the geocoordinate, and LINZ_MATCH_CODE = 1.  \n",
    "Currently this only does numbered building consents."
   ]
  },
  {
   "cell_type": "code",
   "execution_count": null,
   "id": "7ddb90c0-8f40-455c-8edc-a1a16a0ded2b",
   "metadata": {},
   "outputs": [],
   "source": [
    "%%time\n",
    "## read in address dataset and add number_name, just like for BCs\n",
    "# https://data.linz.govt.nz/layer/53353-nz-street-address/\n",
    "addresses = gpd.read_file('input/lds-nz-street-address-GPKG-CLIPPED.gpkg').to_crs(2193)\n",
    "def number_name_addresses(x):\n",
    "    return ' '.join(x.full_address.split(' ')[:2]).lower()\n",
    "addresses['number_name'] = addresses.apply(number_name_addresses, axis=1)"
   ]
  },
  {
   "cell_type": "code",
   "execution_count": null,
   "id": "fbb8b7f3-5d25-406c-b27d-f88fcf31ccfd",
   "metadata": {},
   "outputs": [],
   "source": [
    "%%time\n",
    "parcels = gpd.read_file('input/NZ_Primary_Parcels_Nov_2016_filtered.gpkg').to_crs(2193)"
   ]
  },
  {
   "cell_type": "code",
   "execution_count": null,
   "id": "177c2481-1312-49ad-bbf1-63dbd15658e3",
   "metadata": {},
   "outputs": [],
   "source": [
    "%%time\n",
    "parcels_addressed = gpd.sjoin(parcels, addresses)\n",
    "parcels_addressed = parcels_addressed.rename(columns={'index_right': 'address_index'})"
   ]
  },
  {
   "cell_type": "code",
   "execution_count": null,
   "id": "678c462c-844e-4cb2-bfe1-a930a33bce0a",
   "metadata": {},
   "outputs": [],
   "source": [
    "print('addresses match uniquely to parcels')\n",
    "print(np.unique(parcels_addressed.address_index.value_counts(), return_counts=True))\n",
    "print()\n",
    "print(\"but parcels don't match uniquely to addresses\")\n",
    "print(np.unique(parcels_addressed.index.value_counts(), return_counts=True))"
   ]
  },
  {
   "cell_type": "code",
   "execution_count": null,
   "id": "fcbddf04-bb09-4b7b-9fed-123616bc10af",
   "metadata": {},
   "outputs": [],
   "source": [
    "%%time\n",
    "parcels_addressed_bced = gpd.sjoin(parcels_addressed, bcs_numbered)\n",
    "parcels_addressed_bced = parcels_addressed_bced.rename(columns={'index_right': 'bc_index', 'number_name_right': 'bc_number_name', 'number_name_left': 'address_number_name'})"
   ]
  },
  {
   "cell_type": "code",
   "execution_count": null,
   "id": "66dd356f-66e2-4262-b10f-688f51ff2bbc",
   "metadata": {},
   "outputs": [],
   "source": [
    "%%time\n",
    "matches = []\n",
    "for i in tqdm(bcs_numbered.index):\n",
    "    matched_address_number_name = parcels_addressed_bced[parcels_addressed_bced.bc_index == i].address_number_name.tolist()\n",
    "    matches.append(bcs_numbered.loc[i].number_name in matched_address_number_name)\n",
    "print('proportion of building consents that match to a parcel with the right address information')\n",
    "sum(matches) / len(matches)"
   ]
  },
  {
   "cell_type": "code",
   "execution_count": null,
   "id": "6d3117a6-e042-4c94-aba3-bc54240ad5b5",
   "metadata": {},
   "outputs": [],
   "source": [
    "bcs_numbered['LINZ_MATCH_CODE'] = [1 if m else None for m in matches]"
   ]
  },
  {
   "cell_type": "markdown",
   "id": "c2252e21-3bcf-46dc-a051-013e85ab4cbf",
   "metadata": {},
   "source": [
    "## Get more accurate coordinates from NZ addresses dataset  \n",
    "Check addresses within radius r for those that match on number and first word of address."
   ]
  },
  {
   "cell_type": "code",
   "execution_count": null,
   "id": "e9ea81f9-4814-4e43-a818-d22a50ade3ee",
   "metadata": {},
   "outputs": [],
   "source": [
    "%%time\n",
    "addresses_tree = gdf2tree(addresses)\n",
    "print('addresses tree created')\n",
    "bcs_numbered_tree = gdf2tree(bcs_numbered)\n",
    "print('bcs numbered tree created')\n",
    "bcs_ranged_tree = gdf2tree(bcs_ranged)\n",
    "print('bcs ranged tree created')"
   ]
  },
  {
   "cell_type": "markdown",
   "id": "373f777f-0c12-4164-8a12-8b325f1d7996",
   "metadata": {},
   "source": [
    "### Finding r  \n",
    "Find the best distance threshold  \n",
    "(this was done on sample from all numbered bcs. Perhaps results would differ slightly if limiting to those that did not already match to the correct parcel.)"
   ]
  },
  {
   "cell_type": "code",
   "execution_count": null,
   "id": "4199e2ff-01aa-4af5-b505-0d6914a92b39",
   "metadata": {},
   "outputs": [],
   "source": [
    "# test some radii to see which is suitable\n",
    "bcs_numbered_sample = bcs_numbered.sample(500)\n",
    "bcs_numbered_sample_tree = cKDTree(np.array(list(bcs_numbered_sample.geometry.apply(lambda x: (x.x, x.y)))))\n",
    "matches = {}\n",
    "for r in [10, 50, 100, 175] + list(range(250, 3251, 250)):\n",
    "for r in test_thresholds:\n",
    "    matches[r] = []\n",
    "    # list of lists: ith sub list contains indices of use_tree points within r of the ith data_tree point\n",
    "    bcs_numbered_neighbours = bcs_numbered_sample_tree.query_ball_tree(addresses_tree, r)\n",
    "    for i, neighbours in tqdm(enumerate(bcs_numbered_neighbours)):\n",
    "        # check how many matches there are\n",
    "        matches[r].append(np.sum(bcs_numbered_sample.iloc[i].number_name == addresses.iloc[neighbours].number_name))"
   ]
  },
  {
   "cell_type": "code",
   "execution_count": null,
   "id": "e8f1c3a1-d4f1-4dac-8bb0-652c4ae42020",
   "metadata": {},
   "outputs": [],
   "source": [
    "# for r in sorted(matches.keys()):\n",
    "#     print('####', r, '####')\n",
    "#     print('match:', np.sum(np.array(matches[r]) == 1) / len(matches[r]))\n",
    "#     print('ambiguous:', np.sum(np.array(matches[r]) > 1) / len(matches[r]))\n",
    "#     print('no match:', np.sum(np.array(matches[r]) == 0) / len(matches[r]))\n",
    "r_list = list(sorted(matches.keys()))\n",
    "ax = plt.subplot(1,1,1)\n",
    "ax.plot(r_list, [np.sum(np.array(matches[r]) == 1) / len(matches[r]) for r in r_list], label='match')\n",
    "ax.plot(r_list, [np.sum(np.array(matches[r]) > 1) / len(matches[r]) for r in r_list], label='ambiguous')\n",
    "ax.plot(r_list, [np.sum(np.array(matches[r]) == 0) / len(matches[r]) for r in r_list], label='no match')\n",
    "ax.legend()\n",
    "plt.xlabel('radius')\n",
    "plt.ylabel('proportion')\n",
    "plt.grid()"
   ]
  },
  {
   "cell_type": "markdown",
   "id": "7b808bf0-f479-4990-a79f-d07222154538",
   "metadata": {},
   "source": [
    "### perform matching"
   ]
  },
  {
   "cell_type": "code",
   "execution_count": null,
   "id": "cb4280c6-2653-4864-8de2-0cc1c2c9eab7",
   "metadata": {},
   "outputs": [],
   "source": [
    "# add empty rows with indices -1 and -2; these will be retrieved if there is no match address match\n",
    "# this enables us to use a list of indices to get all information in one step, rather than iterating over in a for loop\n",
    "addresses.loc[-1] = addresses.loc[1]\n",
    "for c in addresses.columns:\n",
    "    addresses.loc[-1, c] = np.nan\n",
    "    addresses.loc[-1, c]\n",
    "addresses.loc[-2] = addresses.loc[-1]"
   ]
  },
  {
   "cell_type": "markdown",
   "id": "96a68f55-a047-44e4-9a6e-98e82321e014",
   "metadata": {},
   "source": [
    "#### Non ranged addresses  \n",
    "Matches with more than 80% success rate for numbered bcs.  \n",
    "Matches more than half the time for numbered bcs that weren't already on the correct parcel."
   ]
  },
  {
   "cell_type": "code",
   "execution_count": null,
   "id": "012d65fd-5137-4db3-8d91-efba397654f8",
   "metadata": {},
   "outputs": [],
   "source": [
    "%%time\n",
    "r = 1250\n",
    "bcs_to_match = bcs_numbered[bcs_numbered.LINZ_MATCH_CODE.isna()]\n",
    "bc_tree = cKDTree(np.array(list(bcs_to_match.geometry.apply(lambda x: (x.x, x.y)))))\n",
    "# this creates a list of lists, where the ith list contains the the neighbours of the ith bc\n",
    "bc_tree_neighbours = bc_tree.query_ball_tree(addresses_tree, r)\n",
    "\n",
    "def perform_matching(item):\n",
    "    \"\"\"check if there is a neighbouring point that matches on number_name\n",
    "    \n",
    "    arguments:\n",
    "    item - (i, neighbours), where neighbours is the result of query_ball_tree\n",
    "    \n",
    "    returns:\n",
    "        - the index of the matching address, if there is a unique match\n",
    "        - -1 if there is more than one match\n",
    "        - -2 if there are no matches\n",
    "    \"\"\"\n",
    "    i, neighbours = item\n",
    "    # subset right to those within r distance\n",
    "    right_neighbours = addresses.iloc[neighbours]\n",
    "    # check how many matches there are\n",
    "    match_indicator = bcs_to_match.iloc[i]['number_name'] == right_neighbours['number_name']\n",
    "    if np.sum(match_indicator) == 1:\n",
    "        # extract the index from right_neighbours\n",
    "        # extracting the index only and later subsetting the full addresses dataframe\n",
    "        # results in a ~4x speed up over extracting the requisite addresses information within this for loop\n",
    "        return right_neighbours[match_indicator].index[0]\n",
    "    elif np.sum(match_indicator) > 1:\n",
    "        return -1\n",
    "    else:\n",
    "        return -2\n",
    "\n",
    "match_indices = process_map(perform_matching, enumerate(bc_tree_neighbours), max_workers=max_workers, chunksize=100, total=len(bc_tree_neighbours))\n",
    "print('#### r =', r, '####')\n",
    "print('match:', np.sum(np.array(match_indices) > -1) / len(match_indices))\n",
    "print('ambiguous:', np.sum(np.array(match_indices) == -1) / len(match_indices))\n",
    "print('no match:', np.sum(np.array(match_indices) == -2) / len(match_indices))"
   ]
  },
  {
   "cell_type": "code",
   "execution_count": null,
   "id": "fefe1e3c-f900-4524-9a74-d9c3fe8f1872",
   "metadata": {},
   "outputs": [],
   "source": [
    "bcs_to_match['addresses_geometry'] = addresses.loc[match_indices].geometry.reset_index(drop=True).tolist()\n",
    "bcs_to_match['addresses_full_address'] = addresses.loc[match_indices].full_address.reset_index(drop=True).tolist()\n",
    "bcs_to_match['euc_distance'] = [np.sqrt((a[0] - b[0]) ** 2 + (a[1] - b[1]) ** 2) for a, b in zip(bcs_to_match.geometry.apply(lambda x: (x.x, x.y)), bcs_to_match['addresses_geometry'].apply(lambda x: (x.x, x.y) if not pd.isna(x) else (0, 0)))]"
   ]
  },
  {
   "cell_type": "code",
   "execution_count": null,
   "id": "46d87cfd-42a4-4f94-937e-31a5efa0e7a4",
   "metadata": {},
   "outputs": [],
   "source": [
    "bcs_to_match[~bcs_to_match.addresses_full_address.isna()].sort_values('euc_distance').reset_index(drop=True).euc_distance.plot()\n",
    "plt.xlabel('Building Consent')\n",
    "plt.ylabel('Distance to Matched Address (metres)')"
   ]
  },
  {
   "cell_type": "code",
   "execution_count": null,
   "id": "bc39019e-f455-4017-a04e-4aeff8751f25",
   "metadata": {},
   "outputs": [],
   "source": [
    "bcs_to_match.sample(20).sort_values('euc_distance')[['full_address', 'addresses_full_address', 'euc_distance']].to_csv('address_match_sample.csv')"
   ]
  },
  {
   "cell_type": "code",
   "execution_count": null,
   "id": "29768bb5-dfbc-4f83-b9c0-7f58739c351f",
   "metadata": {},
   "outputs": [],
   "source": [
    "with pd.option_context('display.max_rows', None, 'display.max_columns', None):\n",
    "    display(bcs_to_match.sample(20).sort_values('euc_distance')[['full_address', 'addresses_full_address', 'euc_distance']])"
   ]
  },
  {
   "cell_type": "markdown",
   "id": "bb531ed6-4f91-4f37-8e2c-56617aa312f4",
   "metadata": {},
   "source": [
    "### Ranged addresses"
   ]
  },
  {
   "cell_type": "code",
   "execution_count": null,
   "id": "c4e0b898-5ee4-46f9-baaa-780553ec7838",
   "metadata": {},
   "outputs": [],
   "source": [
    "# all number ranges that have a non digit in them\n",
    "for index, row in tqdm(bcs_ranged.iterrows(), total=len(bcs_ranged)):\n",
    "    r = row.number_name.split(' ')[0].split('/')[0]\n",
    "    if not all([s.isdecimal() for s in r.split('-')]):\n",
    "        print(row.number_name.split(' ')[0])"
   ]
  },
  {
   "cell_type": "code",
   "execution_count": null,
   "id": "a49d7637-b292-4de8-a0ec-9824198e24c0",
   "metadata": {},
   "outputs": [],
   "source": [
    "# check the proportion of ranged addresses that have endpoints matching in being either even or odd\n",
    "# if this proportion is high, then 20-26 should become 20, 22, 24, 26\n",
    "endpoints_match = []\n",
    "for index, row in tqdm(bcs_ranged.iterrows(), total=len(bcs_ranged)):\n",
    "    r = row.number_name.split(' ')[0].split('/')[0]\n",
    "    if all([s.isdecimal() for s in r.split('-')]):\n",
    "        endpoints = [s for s in r.split('-')]\n",
    "        if '/' not in row.number_name:\n",
    "            endpoints_match.append(int(endpoints[0]) % 2) == (int(endpoints[1]) % 2)\n",
    "# proportion is around what you would expect by chance\n",
    "sum(endpoints_match) / len(endpoints_match)"
   ]
  },
  {
   "cell_type": "code",
   "execution_count": null,
   "id": "23d76b5c-f12e-4c9b-8bda-3b792df74c3a",
   "metadata": {},
   "outputs": [],
   "source": [
    "def range_expand(r):\n",
    "    \"\"\"given a range r, like '20-23', expand the range on one side of the road, e.g. ['20', '21', '22', '23']\"\"\"\n",
    "    if '/' in r:\n",
    "        r, suffix = r.split('/')\n",
    "        suffix = '/' + suffix\n",
    "    else:\n",
    "        suffix = ''\n",
    "    r1, r2 = r.split('-')\n",
    "    if r1.isdecimal() and r2.isdecimal():\n",
    "        return [str(i) + suffix for i in range(int(r1), int(r2) + 1)]\n",
    "    else:\n",
    "        return r + suffix"
   ]
  },
  {
   "cell_type": "code",
   "execution_count": null,
   "id": "462fc553-e2f0-41a0-91db-a94500493a7b",
   "metadata": {},
   "outputs": [],
   "source": [
    "range_expand('20-28')"
   ]
  },
  {
   "cell_type": "code",
   "execution_count": null,
   "id": "32724c70-c89f-4f6f-b520-12e58e3ddbf6",
   "metadata": {},
   "outputs": [],
   "source": [
    "range_expand('1-5/32a')"
   ]
  },
  {
   "cell_type": "code",
   "execution_count": null,
   "id": "bc284b87-5d1c-49b7-8e3d-f1afca58a545",
   "metadata": {},
   "outputs": [],
   "source": [
    "# get a list of gdfs, one gdf per ranged bc \n",
    "# each gdf expands a row of bcs_ranged into many rows, one for each number in the range\n",
    "expanded_gdfs = []\n",
    "for index, row in tqdm(bcs_ranged.iterrows(), total=len(bcs_ranged)):\n",
    "    number_name = row.number_name.split(' ')\n",
    "    number = number_name[0]\n",
    "    name = number_name[1]\n",
    "    range_expanded = range_expand(number)\n",
    "    \n",
    "    range_rows = [row.copy() for _ in range(len(range_expanded))]\n",
    "    for i, rr in enumerate(range_rows):\n",
    "        rr.number_name = range_expanded[i] + ' ' + name\n",
    "    \n",
    "    expanded_gdfs.append(pd.DataFrame(range_rows))\n",
    "expanded_gdfs[0]"
   ]
  }
 ],
 "metadata": {
  "kernelspec": {
   "display_name": "Python 3",
   "language": "python",
   "name": "python3"
  },
  "language_info": {
   "codemirror_mode": {
    "name": "ipython",
    "version": 3
   },
   "file_extension": ".py",
   "mimetype": "text/x-python",
   "name": "python",
   "nbconvert_exporter": "python",
   "pygments_lexer": "ipython3",
   "version": "3.9.7"
  }
 },
 "nbformat": 4,
 "nbformat_minor": 5
}
