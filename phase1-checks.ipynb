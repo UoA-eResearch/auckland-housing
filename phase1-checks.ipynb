{
 "cells": [
  {
   "cell_type": "code",
   "execution_count": null,
   "id": "4a2c65fe",
   "metadata": {},
   "outputs": [],
   "source": [
    "import pandas as pd\n",
    "pd.set_option('display.max_columns', None)\n",
    "pd.set_option('display.max_rows', 300)"
   ]
  },
  {
   "cell_type": "code",
   "execution_count": null,
   "id": "dd95647f",
   "metadata": {},
   "outputs": [],
   "source": [
    "df = pd.read_csv(\"restricted/BCs_issued_by_AUP_TLADCs_2021DEC_augmented.csv\", low_memory=False, lineterminator=\"\\n\")\n",
    "df"
   ]
  },
  {
   "cell_type": "code",
   "execution_count": null,
   "id": "1fb4bb23",
   "metadata": {},
   "outputs": [],
   "source": [
    "df.Ranged_Address_indicator.value_counts(dropna=False)"
   ]
  },
  {
   "cell_type": "code",
   "execution_count": null,
   "id": "52cd1800",
   "metadata": {},
   "outputs": [],
   "source": [
    "df[df.OBS.isin([174571,154936,174571,79682,70707])].to_csv(\"restricted/BCs_issued_by_AUP_TLADCs_2021FEB_ranged_sample_augmented.csv\", index=False)"
   ]
  },
  {
   "cell_type": "code",
   "execution_count": null,
   "id": "0bf3f802",
   "metadata": {},
   "outputs": [],
   "source": []
  }
 ],
 "metadata": {
  "kernelspec": {
   "display_name": "Python 3",
   "language": "python",
   "name": "python3"
  },
  "language_info": {
   "codemirror_mode": {
    "name": "ipython",
    "version": 3
   },
   "file_extension": ".py",
   "mimetype": "text/x-python",
   "name": "python",
   "nbconvert_exporter": "python",
   "pygments_lexer": "ipython3",
   "version": "3.8.5"
  }
 },
 "nbformat": 4,
 "nbformat_minor": 5
}
