{
 "cells": [
  {
   "cell_type": "code",
   "execution_count": 1,
   "id": "2793527c-e71d-4f1a-829f-a5943ea05ed0",
   "metadata": {},
   "outputs": [
    {
     "data": {
      "text/plain": [
       "True"
      ]
     },
     "execution_count": 1,
     "metadata": {},
     "output_type": "execute_result"
    }
   ],
   "source": [
    "import numpy as np\n",
    "import pandas as pd\n",
    "import geopandas as gpd\n",
    "import fiona\n",
    "import glob\n",
    "from collections import namedtuple\n",
    "import os\n",
    "import contextily as ctx\n",
    "from scipy.spatial import cKDTree\n",
    "from shapely.geometry import Point, shape, LineString, MultiLineString, GeometryCollection, MultiPoint, Polygon, MultiPolygon  # creating points\n",
    "import json\n",
    "from tqdm.auto import tqdm\n",
    "from tqdm.contrib.concurrent import process_map, thread_map\n",
    "pd.set_option('min_rows', 30)\n",
    "import sys\n",
    "from importlib import reload\n",
    "from util import *\n",
    "import matplotlib.pyplot as plt\n",
    "import multiprocessing\n",
    "# from pandarallel import pandarallel # parallel operations for speed\n",
    "# pandarallel.initialize(nb_workers=8, progress_bar=True)\n",
    "# import swifter\n",
    "tqdm.pandas()\n",
    "plt.rcParams['figure.figsize'] = (16, 16)\n",
    "pd.set_option('display.max_columns', None)\n",
    "pd.set_option('display.max_rows', 10)\n",
    "gpd.options.use_pygeos "
   ]
  },
  {
   "cell_type": "code",
   "execution_count": 2,
   "id": "08c350f5-323d-4b43-8352-17f0577cc6e7",
   "metadata": {},
   "outputs": [],
   "source": [
    "import time\n",
    "start = time.time()\n",
    "last = time.time()"
   ]
  },
  {
   "cell_type": "code",
   "execution_count": 3,
   "id": "1cb75f6b-9a2f-4368-9dff-e9ddda4fffc9",
   "metadata": {},
   "outputs": [],
   "source": [
    "max_workers = 30"
   ]
  },
  {
   "cell_type": "markdown",
   "id": "edcdb93c-aa0c-4c00-bc54-fc115c5a378f",
   "metadata": {},
   "source": [
    "## Setup"
   ]
  },
  {
   "cell_type": "code",
   "execution_count": null,
   "id": "5edc2a26-7426-43be-9f28-9532dc0b271f",
   "metadata": {},
   "outputs": [
    {
     "data": {
      "text/plain": [
       "<geopandas.sindex.PyGEOSSTRTreeIndex at 0x7f204b156640>"
      ]
     },
     "execution_count": 5,
     "metadata": {},
     "output_type": "execute_result"
    }
   ],
   "source": [
    "# %%time\n",
    "parcels = gpd.read_file('input/lds-nz-primary-parcels-FGDB.zip!nz-primary-parcels.gdb')\n",
    "\n",
    "parcels = parcels[parcels.land_district.isin(['North Auckland', 'South Auckland'])].to_crs(4326)\n",
    "\n",
    "parcels['geometry_polygon_4326'] = parcels.geometry\n",
    "parcels['geometry_polygon_2193'] = parcels.geometry.to_crs(2193)\n",
    "\n",
    "parcels['geometry_centroid_2193'] = parcels['geometry_polygon_2193'].centroid\n",
    "parcels['representative_point_2193'] = parcels['geometry_polygon_2193'].representative_point()\n",
    "\n",
    "parcels['geometry_centroid_4326'] = parcels['geometry_centroid_2193'].to_crs(4326)\n",
    "parcels['representative_point_4326'] = parcels['representative_point_2193'].to_crs(4326)\n",
    "\n",
    "parcels.sindex"
   ]
  },
  {
   "cell_type": "code",
   "execution_count": 6,
   "id": "3e776faf-e8db-4cf4-8d7b-d3fc6a7c1f7b",
   "metadata": {},
   "outputs": [],
   "source": [
    "# get the current columns, so that any columns added later can be selected and saved to disk\n",
    "orginal_columns = parcels.columns"
   ]
  },
  {
   "cell_type": "code",
   "execution_count": 7,
   "id": "16057f60-9219-47b9-ac69-4976c6567b44",
   "metadata": {},
   "outputs": [
    {
     "data": {
      "text/plain": [
       "<geopandas.sindex.PyGEOSSTRTreeIndex at 0x7f204b156040>"
      ]
     },
     "execution_count": 7,
     "metadata": {},
     "output_type": "execute_result"
    }
   ],
   "source": [
    "# this is the actual set of parcels that will have the information added\n",
    "# it could be a copy of parcels, a sample of parcels, etc.\n",
    "parcels_output = parcels.copy()\n",
    "parcels_output.sindex"
   ]
  },
  {
   "cell_type": "code",
   "execution_count": 8,
   "id": "edb44384-1f37-4900-991b-37d51e4dc177",
   "metadata": {},
   "outputs": [
    {
     "name": "stdout",
     "output_type": "stream",
     "text": [
      "loading parcels complete\n",
      "95.08596920967102 seconds\n",
      "\n"
     ]
    }
   ],
   "source": [
    "print('loading parcels complete')\n",
    "print(time.time() - last, 'seconds')\n",
    "last = time.time()\n",
    "print()"
   ]
  },
  {
   "cell_type": "markdown",
   "id": "1d03604b-5502-4ef6-bc7e-ab60da241194",
   "metadata": {
    "tags": []
   },
   "source": [
    "## 1. LINZ parcel information\n",
    "##### a. **LINZ_parcel_ID** Parcel identifier - “certificate of title”.\n"
   ]
  },
  {
   "cell_type": "code",
   "execution_count": 9,
   "id": "a25337b4-9329-448f-9d59-a001df200c1f",
   "metadata": {},
   "outputs": [],
   "source": [
    "parcels_output['LINZ_parcel_ID'] = parcels_output.id"
   ]
  },
  {
   "cell_type": "code",
   "execution_count": 10,
   "id": "ae70d245-61dc-4b4b-aa80-40cf93c415dc",
   "metadata": {},
   "outputs": [
    {
     "name": "stdout",
     "output_type": "stream",
     "text": [
      "1a complete\n",
      "0.023302078247070312 seconds\n",
      "\n"
     ]
    }
   ],
   "source": [
    "print('1a complete')\n",
    "print(time.time() - last, 'seconds')\n",
    "last = time.time()\n",
    "print()"
   ]
  },
  {
   "cell_type": "markdown",
   "id": "fdf334dd-b384-4a84-a68d-85dfdcdac28f",
   "metadata": {
    "tags": []
   },
   "source": [
    "##### b. **LINZ_parcel_centroid_lon**\n",
    "##### c. **LINZ_parcel_centroid_lat**"
   ]
  },
  {
   "cell_type": "code",
   "execution_count": 11,
   "id": "0707bd2e-de4c-40d8-91fd-c50f338a5011",
   "metadata": {},
   "outputs": [],
   "source": [
    "parcels_output['geometry'] = parcels_output.geometry_centroid_4326\n",
    "parcels_output = parcels_output.set_crs(4326)\n",
    "parcels_output['LINZ_parcel_centroid_lon'] = parcels_output.geometry.x\n",
    "parcels_output['LINZ_parcel_centroid_lat'] = parcels_output.geometry.y"
   ]
  },
  {
   "cell_type": "code",
   "execution_count": 12,
   "id": "68eac9ac-36b6-48a8-924a-469f5c7acb3d",
   "metadata": {},
   "outputs": [
    {
     "name": "stdout",
     "output_type": "stream",
     "text": [
      "1bc complete\n",
      "0.6859390735626221 seconds\n",
      "\n"
     ]
    }
   ],
   "source": [
    "print('1bc complete')\n",
    "print(time.time() - last, 'seconds')\n",
    "last = time.time()\n",
    "print()"
   ]
  },
  {
   "cell_type": "markdown",
   "id": "6788b8b4-711e-4f71-878d-237dfe9e80e0",
   "metadata": {
    "tags": []
   },
   "source": [
    "##### d. **LINZ_parcel_vertices_lon** vector of longitudes of the vertices of the matched LINZ parcels \n",
    "##### e. **LINZ_parcel_vertices_lat**"
   ]
  },
  {
   "cell_type": "code",
   "execution_count": 13,
   "id": "aa49129e-e37b-4c3d-81c0-91e253c4a901",
   "metadata": {},
   "outputs": [
    {
     "data": {
      "application/vnd.jupyter.widget-view+json": {
       "model_id": "a73f970d8b114f7bba3b66fcb38de0c4",
       "version_major": 2,
       "version_minor": 0
      },
      "text/plain": [
       "  0%|          | 0/537289 [00:00<?, ?it/s]"
      ]
     },
     "metadata": {},
     "output_type": "display_data"
    }
   ],
   "source": [
    "# %%time\n",
    "parcels_output['geometry'] = parcels_output.geometry_polygon_4326\n",
    "parcels_output = parcels_output.set_crs(4326)\n",
    "\n",
    "def extract_verts(geometry):\n",
    "    lat = np.nan\n",
    "    lng = np.nan\n",
    "    if geometry:\n",
    "        coordinates = []\n",
    "        for polygon in geometry:\n",
    "            # the last point is the same as the first\n",
    "            coordinates.extend(polygon.exterior.coords[:-1])\n",
    "        lng = f\"[{'; '.join([str(round(point[0], 6)) for point in coordinates])}]\"\n",
    "        lat = f\"[{'; '.join([str(round(point[1], 6)) for point in coordinates])}]\"\n",
    "    return lng, lat\n",
    "\n",
    "\n",
    "\n",
    "# lowering chunk size to 1 greatly lengthens time here.\n",
    "# upping chunk size to 10000 doesn't have much impact\n",
    "vertices = process_map(extract_verts, parcels_output.geometry, max_workers=max_workers, chunksize=100)\n",
    "parcels_output[\"LINZ_parcel_vertices_lon\"] = [v[0] for v in vertices]\n",
    "parcels_output[\"LINZ_parcel_vertices_lat\"] = [v[1] for v in vertices]"
   ]
  },
  {
   "cell_type": "code",
   "execution_count": 14,
   "id": "7dae1914-5279-47cb-8aa8-5d5d059856f2",
   "metadata": {},
   "outputs": [
    {
     "name": "stdout",
     "output_type": "stream",
     "text": [
      "1de complete\n",
      "78.06095385551453 seconds\n",
      "\n"
     ]
    }
   ],
   "source": [
    "print('1de complete')\n",
    "print(time.time() - last, 'seconds')\n",
    "last = time.time()\n",
    "print()"
   ]
  },
  {
   "cell_type": "markdown",
   "id": "c57b72cd-b96c-4454-befe-4bd48ce63322",
   "metadata": {
    "tags": []
   },
   "source": [
    "##### f. **LINZ_parcel_roadvertices_lon** subvector of longitudes of parcel that sits adjacent to a road \n",
    "##### g. **LINZ_parcel_roadvertices_lat**"
   ]
  },
  {
   "cell_type": "code",
   "execution_count": 15,
   "id": "3b8b5063-e9a9-49c2-bb8d-4a2e325657f3",
   "metadata": {},
   "outputs": [],
   "source": [
    "parcels_output['geometry'] = parcels_output.geometry_polygon_4326\n",
    "parcels_output = parcels_output.set_crs(4326)\n",
    "parcels['geometry'] = parcels.geometry_polygon_4326\n",
    "parcels = parcels.set_crs(4326)"
   ]
  },
  {
   "cell_type": "code",
   "execution_count": 16,
   "id": "706310c1-5e43-4b05-8f66-bc05ff74594d",
   "metadata": {},
   "outputs": [],
   "source": [
    "roads = parcels[parcels.parcel_intent == \"Road\"]\n",
    "roads = roads.to_crs(parcels.crs)"
   ]
  },
  {
   "cell_type": "code",
   "execution_count": 17,
   "id": "4e4f36e1-39b3-4e72-b961-cbe58aa78197",
   "metadata": {},
   "outputs": [],
   "source": [
    "# %%time\n",
    "roads_dissolved = roads.dissolve()"
   ]
  },
  {
   "cell_type": "code",
   "execution_count": 20,
   "id": "bd0e28d8-a0a3-4296-be73-92fafefcf192",
   "metadata": {},
   "outputs": [],
   "source": [
    "def pointarray2matarrays(pointarray):\n",
    "    \"\"\"list of points to matlab compatible arrays of longs and lats\n",
    "    \n",
    "    i.e.\n",
    "    [point1, point2,...] -> 'point1_x; point2_x; ...', 'point1_y; point2_y; ...'\n",
    "    \"\"\"\n",
    "    lon = [point.xy[0][0] for point in pointarray]\n",
    "    lat = [point.xy[1][0] for point in pointarray]\n",
    "    lon = f\"[{'; '.join([str(round(lon, 6)) for lon in list(lon)])}]\"\n",
    "    lat = f\"[{'; '.join([str(round(lat, 6)) for lat in list(lat)])}]\"\n",
    "    return lon, lat\n",
    "\n",
    "\n",
    "def get_points_in_roads(row, return_matarray=True):\n",
    "    \"\"\"return a list of points from the geometry that fall within roads_dissolved\"\"\"\n",
    "    # assume multipolygon\n",
    "    if row[1].parcel_intent == 'road':\n",
    "        return None\n",
    "    geom = row[1].geometry\n",
    "    assert isinstance(geom, MultiPolygon), f\"not implemented for geometry of type {type(geom)}\"\n",
    "    road_points = []\n",
    "    # iterate over polygons\n",
    "    for poly in geom:\n",
    "        # split polygon into vertices\n",
    "        # the last point is the same as the first\n",
    "        coords = poly.exterior.coords[:-1]\n",
    "        pointsx = [x for x, _ in coords]\n",
    "        pointsy = [y for _, y in coords]\n",
    "        # create gdf with one row per vertex\n",
    "        points_gdf = gpd.GeoDataFrame(geometry=gpd.points_from_xy(pointsx, pointsy)).set_crs(4326)\n",
    "        # sjoin with roads, to eliminate vertices that don't intersect a road\n",
    "        road_points.extend(gpd.sjoin(points_gdf, roads_dissolved, op = 'intersects').geometry.values)\n",
    "    # split into matlab compatible longs and lats like [(longs_list, lats_list), (longs_list, lats_list),...]\n",
    "    if return_matarray:\n",
    "        road_points = pointarray2matarrays(road_points)\n",
    "    return road_points"
   ]
  },
  {
   "cell_type": "code",
   "execution_count": 21,
   "id": "4a55b03c-64b8-4861-ac14-6acedff902ff",
   "metadata": {},
   "outputs": [
    {
     "data": {
      "application/vnd.jupyter.widget-view+json": {
       "model_id": "ada56544e7b14daba31fd7528513dd58",
       "version_major": 2,
       "version_minor": 0
      },
      "text/plain": [
       "  0%|          | 0/537289 [00:00<?, ?it/s]"
      ]
     },
     "metadata": {},
     "output_type": "display_data"
    }
   ],
   "source": [
    "# %%time\n",
    "# this might hang for a few minutes before multiprocessing starts\n",
    "road_intersections = process_map(get_points_in_roads, parcels_output.iterrows(), max_workers=max_workers, chunksize=100, total=len(parcels_output))\n",
    "\n",
    "parcels_output['LINZ_parcel_roadvertices_lon'] = [r[0] for r in road_intersections]\n",
    "parcels_output['LINZ_parcel_roadvertices_lat'] = [r[1] for r in road_intersections]"
   ]
  },
  {
   "cell_type": "code",
   "execution_count": 22,
   "id": "b2922b4e-fc7f-42d0-9a56-61f348716f3c",
   "metadata": {},
   "outputs": [
    {
     "data": {
      "text/html": [
       "<div>\n",
       "<style scoped>\n",
       "    .dataframe tbody tr th:only-of-type {\n",
       "        vertical-align: middle;\n",
       "    }\n",
       "\n",
       "    .dataframe tbody tr th {\n",
       "        vertical-align: top;\n",
       "    }\n",
       "\n",
       "    .dataframe thead th {\n",
       "        text-align: right;\n",
       "    }\n",
       "</style>\n",
       "<table border=\"1\" class=\"dataframe\">\n",
       "  <thead>\n",
       "    <tr style=\"text-align: right;\">\n",
       "      <th></th>\n",
       "      <th>id</th>\n",
       "      <th>appellation</th>\n",
       "      <th>affected_surveys</th>\n",
       "      <th>parcel_intent</th>\n",
       "      <th>topology_type</th>\n",
       "      <th>statutory_actions</th>\n",
       "      <th>land_district</th>\n",
       "      <th>titles</th>\n",
       "      <th>survey_area</th>\n",
       "      <th>calc_area</th>\n",
       "      <th>geometry</th>\n",
       "      <th>geometry_polygon_4326</th>\n",
       "      <th>geometry_polygon_2193</th>\n",
       "      <th>geometry_centroid_2193</th>\n",
       "      <th>representative_point_2193</th>\n",
       "      <th>geometry_centroid_4326</th>\n",
       "      <th>representative_point_4326</th>\n",
       "      <th>LINZ_parcel_ID</th>\n",
       "      <th>LINZ_parcel_centroid_lon</th>\n",
       "      <th>LINZ_parcel_centroid_lat</th>\n",
       "      <th>LINZ_parcel_vertices_lon</th>\n",
       "      <th>LINZ_parcel_vertices_lat</th>\n",
       "      <th>LINZ_parcel_roadvertices_lon</th>\n",
       "      <th>LINZ_parcel_roadvertices_lat</th>\n",
       "    </tr>\n",
       "  </thead>\n",
       "  <tbody>\n",
       "    <tr>\n",
       "      <th>0</th>\n",
       "      <td>5266447</td>\n",
       "      <td>None</td>\n",
       "      <td>None</td>\n",
       "      <td>Hydro</td>\n",
       "      <td>Primary</td>\n",
       "      <td>None</td>\n",
       "      <td>North Auckland</td>\n",
       "      <td>None</td>\n",
       "      <td>NaN</td>\n",
       "      <td>1289690.0</td>\n",
       "      <td>MULTIPOLYGON (((174.46092 -36.26249, 174.46083...</td>\n",
       "      <td>MULTIPOLYGON (((174.46092 -36.26249, 174.46083...</td>\n",
       "      <td>MULTIPOLYGON (((1731236.079 5985947.435, 17312...</td>\n",
       "      <td>POINT (1730833.403 5986554.554)</td>\n",
       "      <td>POINT (1730274.187 5986576.037)</td>\n",
       "      <td>POINT (174.45634 -36.25707)</td>\n",
       "      <td>POINT (174.45011 -36.25695)</td>\n",
       "      <td>5266447</td>\n",
       "      <td>174.456340</td>\n",
       "      <td>-36.257071</td>\n",
       "      <td>[174.460923; 174.460829; 174.460676; 174.46063...</td>\n",
       "      <td>[-36.262488; -36.262398; -36.262201; -36.26216...</td>\n",
       "      <td>[174.460923; 174.460829; 174.460676; 174.46063...</td>\n",
       "      <td>[-36.262488; -36.262398; -36.262201; -36.26216...</td>\n",
       "    </tr>\n",
       "    <tr>\n",
       "      <th>1</th>\n",
       "      <td>4789727</td>\n",
       "      <td>Part Lot 3 Allot 64 Section 1 SBRS OF Auckland</td>\n",
       "      <td>SO 663</td>\n",
       "      <td>DCDB</td>\n",
       "      <td>Primary</td>\n",
       "      <td>None</td>\n",
       "      <td>North Auckland</td>\n",
       "      <td>None</td>\n",
       "      <td>NaN</td>\n",
       "      <td>1.0</td>\n",
       "      <td>MULTIPOLYGON (((174.77836 -36.85187, 174.77838...</td>\n",
       "      <td>MULTIPOLYGON (((174.77836 -36.85187, 174.77838...</td>\n",
       "      <td>MULTIPOLYGON (((1758545.404 5920084.329, 17585...</td>\n",
       "      <td>POINT (1758545.994 5920083.676)</td>\n",
       "      <td>POINT (1758546.083 5920083.350)</td>\n",
       "      <td>POINT (174.77837 -36.85187)</td>\n",
       "      <td>POINT (174.77837 -36.85188)</td>\n",
       "      <td>4789727</td>\n",
       "      <td>174.778370</td>\n",
       "      <td>-36.851873</td>\n",
       "      <td>[174.778363; 174.778375; 174.778372]</td>\n",
       "      <td>[-36.851867; -36.851871; -36.85188]</td>\n",
       "      <td>[174.778363; 174.778375; 174.778372]</td>\n",
       "      <td>[-36.851867; -36.851871; -36.85188]</td>\n",
       "    </tr>\n",
       "    <tr>\n",
       "      <th>2</th>\n",
       "      <td>4810316</td>\n",
       "      <td>Part Tidal Lands of Manukau Harbour Survey Off...</td>\n",
       "      <td>SO 67474</td>\n",
       "      <td>DCDB</td>\n",
       "      <td>Primary</td>\n",
       "      <td>[Create] Revested in the Crown Sec 5 Foreshore...</td>\n",
       "      <td>North Auckland</td>\n",
       "      <td>None</td>\n",
       "      <td>31600000.0</td>\n",
       "      <td>31342451.0</td>\n",
       "      <td>MULTIPOLYGON (((174.68836 -37.01631, 174.68898...</td>\n",
       "      <td>MULTIPOLYGON (((174.68836 -37.01631, 174.68898...</td>\n",
       "      <td>MULTIPOLYGON (((1750198.000 5901985.621, 17502...</td>\n",
       "      <td>POINT (1753089.203 5903264.022)</td>\n",
       "      <td>POINT (1753675.314 5903641.416)</td>\n",
       "      <td>POINT (174.72059 -37.00433)</td>\n",
       "      <td>POINT (174.72710 -37.00083)</td>\n",
       "      <td>4810316</td>\n",
       "      <td>174.720592</td>\n",
       "      <td>-37.004326</td>\n",
       "      <td>[174.688365; 174.688982; 174.689136; 174.68928...</td>\n",
       "      <td>[-37.016311; -37.015182; -37.014898; -37.01462...</td>\n",
       "      <td>[174.744393; 174.744382; 174.744359; 174.74435...</td>\n",
       "      <td>[-36.98912; -36.989153; -36.989188; -36.989204...</td>\n",
       "    </tr>\n",
       "    <tr>\n",
       "      <th>3</th>\n",
       "      <td>4817943</td>\n",
       "      <td>Crown Land Survey Office Plan 58175</td>\n",
       "      <td>SO 58175</td>\n",
       "      <td>DCDB</td>\n",
       "      <td>Primary</td>\n",
       "      <td>[Create] Crown Land Reserved from Sale Sec 58 ...</td>\n",
       "      <td>North Auckland</td>\n",
       "      <td>None</td>\n",
       "      <td>NaN</td>\n",
       "      <td>467490.0</td>\n",
       "      <td>MULTIPOLYGON (((174.33091 -36.32797, 174.33059...</td>\n",
       "      <td>MULTIPOLYGON (((174.33091 -36.32797, 174.33059...</td>\n",
       "      <td>MULTIPOLYGON (((1719456.228 5978851.350, 17194...</td>\n",
       "      <td>POINT (1719037.182 5979087.155)</td>\n",
       "      <td>POINT (1717846.315 5978813.456)</td>\n",
       "      <td>POINT (174.32621 -36.32590)</td>\n",
       "      <td>POINT (174.31298 -36.32851)</td>\n",
       "      <td>4817943</td>\n",
       "      <td>174.326205</td>\n",
       "      <td>-36.325901</td>\n",
       "      <td>[174.330909; 174.330586; 174.330375; 174.33034...</td>\n",
       "      <td>[-36.327975; -36.328501; -36.329319; -36.32935...</td>\n",
       "      <td>[174.320527; 174.320349; 174.320215]</td>\n",
       "      <td>[-36.337798; -36.337787; -36.337779]</td>\n",
       "    </tr>\n",
       "    <tr>\n",
       "      <th>4</th>\n",
       "      <td>4827816</td>\n",
       "      <td>Lot 2 DP 165098</td>\n",
       "      <td>DP 165098</td>\n",
       "      <td>DCDB</td>\n",
       "      <td>Primary</td>\n",
       "      <td>None</td>\n",
       "      <td>North Auckland</td>\n",
       "      <td>NA99B/977</td>\n",
       "      <td>22979.0</td>\n",
       "      <td>22972.0</td>\n",
       "      <td>MULTIPOLYGON (((174.73406 -36.69245, 174.73408...</td>\n",
       "      <td>MULTIPOLYGON (((174.73406 -36.69245, 174.73408...</td>\n",
       "      <td>MULTIPOLYGON (((1754915.994 5937843.620, 17549...</td>\n",
       "      <td>POINT (1754861.838 5937840.725)</td>\n",
       "      <td>POINT (1754850.862 5937822.818)</td>\n",
       "      <td>POINT (174.73346 -36.69248)</td>\n",
       "      <td>POINT (174.73334 -36.69264)</td>\n",
       "      <td>4827816</td>\n",
       "      <td>174.733456</td>\n",
       "      <td>-36.692482</td>\n",
       "      <td>[174.734062; 174.73408; 174.734118; 174.734164...</td>\n",
       "      <td>[-36.692447; -36.692822; -36.692829; -36.69282...</td>\n",
       "      <td>[174.734205; 174.733945; 174.732684]</td>\n",
       "      <td>[-36.693016; -36.693165; -36.693287]</td>\n",
       "    </tr>\n",
       "    <tr>\n",
       "      <th>...</th>\n",
       "      <td>...</td>\n",
       "      <td>...</td>\n",
       "      <td>...</td>\n",
       "      <td>...</td>\n",
       "      <td>...</td>\n",
       "      <td>...</td>\n",
       "      <td>...</td>\n",
       "      <td>...</td>\n",
       "      <td>...</td>\n",
       "      <td>...</td>\n",
       "      <td>...</td>\n",
       "      <td>...</td>\n",
       "      <td>...</td>\n",
       "      <td>...</td>\n",
       "      <td>...</td>\n",
       "      <td>...</td>\n",
       "      <td>...</td>\n",
       "      <td>...</td>\n",
       "      <td>...</td>\n",
       "      <td>...</td>\n",
       "      <td>...</td>\n",
       "      <td>...</td>\n",
       "      <td>...</td>\n",
       "      <td>...</td>\n",
       "    </tr>\n",
       "    <tr>\n",
       "      <th>537285</th>\n",
       "      <td>7291940</td>\n",
       "      <td>Lot 745 DP 433546</td>\n",
       "      <td>DP 433546</td>\n",
       "      <td>Fee Simple Title</td>\n",
       "      <td>Primary</td>\n",
       "      <td>None</td>\n",
       "      <td>North Auckland</td>\n",
       "      <td>528968</td>\n",
       "      <td>247.0</td>\n",
       "      <td>247.0</td>\n",
       "      <td>MULTIPOLYGON (((174.93787 -37.03903, 174.93763...</td>\n",
       "      <td>MULTIPOLYGON (((174.93787 -37.03903, 174.93763...</td>\n",
       "      <td>MULTIPOLYGON (((1772345.368 5899041.420, 17723...</td>\n",
       "      <td>POINT (1772331.528 5899041.157)</td>\n",
       "      <td>POINT (1772331.123 5899040.628)</td>\n",
       "      <td>POINT (174.93772 -37.03904)</td>\n",
       "      <td>POINT (174.93771 -37.03904)</td>\n",
       "      <td>7291940</td>\n",
       "      <td>174.937719</td>\n",
       "      <td>-37.039039</td>\n",
       "      <td>[174.937874; 174.937631; 174.937596; 174.93755...</td>\n",
       "      <td>[-37.039034; -37.039112; -37.039124; -37.03905...</td>\n",
       "      <td>[174.937558; 174.937823]</td>\n",
       "      <td>[-37.039054; -37.038954]</td>\n",
       "    </tr>\n",
       "    <tr>\n",
       "      <th>537286</th>\n",
       "      <td>7266269</td>\n",
       "      <td>Lot 533 DP 427884</td>\n",
       "      <td>DP 427884, LT 454543</td>\n",
       "      <td>Fee Simple Title</td>\n",
       "      <td>Primary</td>\n",
       "      <td>None</td>\n",
       "      <td>North Auckland</td>\n",
       "      <td>520875</td>\n",
       "      <td>336.0</td>\n",
       "      <td>336.0</td>\n",
       "      <td>MULTIPOLYGON (((174.93990 -37.03814, 174.94015...</td>\n",
       "      <td>MULTIPOLYGON (((174.93990 -37.03814, 174.94015...</td>\n",
       "      <td>MULTIPOLYGON (((1772527.587 5899136.912, 17725...</td>\n",
       "      <td>POINT (1772541.274 5899134.582)</td>\n",
       "      <td>POINT (1772541.279 5899134.587)</td>\n",
       "      <td>POINT (174.94005 -37.03816)</td>\n",
       "      <td>POINT (174.94005 -37.03816)</td>\n",
       "      <td>7266269</td>\n",
       "      <td>174.940055</td>\n",
       "      <td>-37.038159</td>\n",
       "      <td>[174.9399; 174.94015; 174.940209; 174.940074; ...</td>\n",
       "      <td>[-37.038141; -37.03806; -37.038177; -37.038221...</td>\n",
       "      <td>[174.9399; 174.939959]</td>\n",
       "      <td>[-37.038141; -37.038258]</td>\n",
       "    </tr>\n",
       "    <tr>\n",
       "      <th>537287</th>\n",
       "      <td>8051540</td>\n",
       "      <td>Lot 8 DP 533517</td>\n",
       "      <td>DP 533517</td>\n",
       "      <td>Fee Simple Title</td>\n",
       "      <td>Primary</td>\n",
       "      <td>None</td>\n",
       "      <td>North Auckland</td>\n",
       "      <td>876934</td>\n",
       "      <td>185.0</td>\n",
       "      <td>185.0</td>\n",
       "      <td>MULTIPOLYGON (((174.67269 -36.59236, 174.67269...</td>\n",
       "      <td>MULTIPOLYGON (((174.67269 -36.59236, 174.67269...</td>\n",
       "      <td>MULTIPOLYGON (((1749626.295 5949044.689, 17496...</td>\n",
       "      <td>POINT (1749631.007 5949038.821)</td>\n",
       "      <td>POINT (1749631.275 5949037.736)</td>\n",
       "      <td>POINT (174.67274 -36.59241)</td>\n",
       "      <td>POINT (174.67275 -36.59242)</td>\n",
       "      <td>8051540</td>\n",
       "      <td>174.672744</td>\n",
       "      <td>-36.592412</td>\n",
       "      <td>[174.67269; 174.672688; 174.672738; 174.672797...</td>\n",
       "      <td>[-36.59236; -36.592317; -36.592315; -36.592358...</td>\n",
       "      <td>[174.672688; 174.672738; 174.672797; 174.672806]</td>\n",
       "      <td>[-36.592317; -36.592315; -36.592358; -36.592493]</td>\n",
       "    </tr>\n",
       "    <tr>\n",
       "      <th>537288</th>\n",
       "      <td>7264065</td>\n",
       "      <td>Lot 518 DP 429024</td>\n",
       "      <td>DP 429024</td>\n",
       "      <td>Fee Simple Title</td>\n",
       "      <td>Primary</td>\n",
       "      <td>None</td>\n",
       "      <td>North Auckland</td>\n",
       "      <td>513803</td>\n",
       "      <td>313.0</td>\n",
       "      <td>313.0</td>\n",
       "      <td>MULTIPOLYGON (((174.93753 -37.03880, 174.93747...</td>\n",
       "      <td>MULTIPOLYGON (((174.93753 -37.03880, 174.93747...</td>\n",
       "      <td>MULTIPOLYGON (((1772315.095 5899068.286, 17723...</td>\n",
       "      <td>POINT (1772316.982 5899081.834)</td>\n",
       "      <td>POINT (1772318.290 5899078.323)</td>\n",
       "      <td>POINT (174.93755 -37.03868)</td>\n",
       "      <td>POINT (174.93756 -37.03871)</td>\n",
       "      <td>7264065</td>\n",
       "      <td>174.937546</td>\n",
       "      <td>-37.038675</td>\n",
       "      <td>[174.937528; 174.937467; 174.937428; 174.93745...</td>\n",
       "      <td>[-37.038798; -37.038675; -37.038596; -37.03858...</td>\n",
       "      <td>[174.937528; 174.937664; 174.937653; 174.937529]</td>\n",
       "      <td>[-37.038798; -37.038755; -37.038758; -37.038797]</td>\n",
       "    </tr>\n",
       "    <tr>\n",
       "      <th>537289</th>\n",
       "      <td>7266268</td>\n",
       "      <td>Lot 532 DP 427884</td>\n",
       "      <td>DP 427884, LT 454543</td>\n",
       "      <td>Fee Simple Title</td>\n",
       "      <td>Primary</td>\n",
       "      <td>None</td>\n",
       "      <td>North Auckland</td>\n",
       "      <td>520874</td>\n",
       "      <td>331.0</td>\n",
       "      <td>331.0</td>\n",
       "      <td>MULTIPOLYGON (((174.94009 -37.03794, 174.94015...</td>\n",
       "      <td>MULTIPOLYGON (((174.94009 -37.03794, 174.94015...</td>\n",
       "      <td>MULTIPOLYGON (((1772545.035 5899158.439, 17725...</td>\n",
       "      <td>POINT (1772536.478 5899147.661)</td>\n",
       "      <td>POINT (1772536.572 5899148.446)</td>\n",
       "      <td>POINT (174.94000 -37.03804)</td>\n",
       "      <td>POINT (174.94000 -37.03803)</td>\n",
       "      <td>7266268</td>\n",
       "      <td>174.939998</td>\n",
       "      <td>-37.038042</td>\n",
       "      <td>[174.940092; 174.94015; 174.9399; 174.939859; ...</td>\n",
       "      <td>[-37.037943; -37.03806; -37.038141; -37.038058...</td>\n",
       "      <td>[174.9399; 174.939859]</td>\n",
       "      <td>[-37.038141; -37.038058]</td>\n",
       "    </tr>\n",
       "  </tbody>\n",
       "</table>\n",
       "<p>537289 rows × 24 columns</p>\n",
       "</div>"
      ],
      "text/plain": [
       "             id                                        appellation  \\\n",
       "0       5266447                                               None   \n",
       "1       4789727     Part Lot 3 Allot 64 Section 1 SBRS OF Auckland   \n",
       "2       4810316  Part Tidal Lands of Manukau Harbour Survey Off...   \n",
       "3       4817943                Crown Land Survey Office Plan 58175   \n",
       "4       4827816                                    Lot 2 DP 165098   \n",
       "...         ...                                                ...   \n",
       "537285  7291940                                  Lot 745 DP 433546   \n",
       "537286  7266269                                  Lot 533 DP 427884   \n",
       "537287  8051540                                    Lot 8 DP 533517   \n",
       "537288  7264065                                  Lot 518 DP 429024   \n",
       "537289  7266268                                  Lot 532 DP 427884   \n",
       "\n",
       "            affected_surveys     parcel_intent topology_type  \\\n",
       "0                       None             Hydro       Primary   \n",
       "1                     SO 663              DCDB       Primary   \n",
       "2                   SO 67474              DCDB       Primary   \n",
       "3                   SO 58175              DCDB       Primary   \n",
       "4                  DP 165098              DCDB       Primary   \n",
       "...                      ...               ...           ...   \n",
       "537285             DP 433546  Fee Simple Title       Primary   \n",
       "537286  DP 427884, LT 454543  Fee Simple Title       Primary   \n",
       "537287             DP 533517  Fee Simple Title       Primary   \n",
       "537288             DP 429024  Fee Simple Title       Primary   \n",
       "537289  DP 427884, LT 454543  Fee Simple Title       Primary   \n",
       "\n",
       "                                        statutory_actions   land_district  \\\n",
       "0                                                    None  North Auckland   \n",
       "1                                                    None  North Auckland   \n",
       "2       [Create] Revested in the Crown Sec 5 Foreshore...  North Auckland   \n",
       "3       [Create] Crown Land Reserved from Sale Sec 58 ...  North Auckland   \n",
       "4                                                    None  North Auckland   \n",
       "...                                                   ...             ...   \n",
       "537285                                               None  North Auckland   \n",
       "537286                                               None  North Auckland   \n",
       "537287                                               None  North Auckland   \n",
       "537288                                               None  North Auckland   \n",
       "537289                                               None  North Auckland   \n",
       "\n",
       "           titles  survey_area   calc_area  \\\n",
       "0            None          NaN   1289690.0   \n",
       "1            None          NaN         1.0   \n",
       "2            None   31600000.0  31342451.0   \n",
       "3            None          NaN    467490.0   \n",
       "4       NA99B/977      22979.0     22972.0   \n",
       "...           ...          ...         ...   \n",
       "537285     528968        247.0       247.0   \n",
       "537286     520875        336.0       336.0   \n",
       "537287     876934        185.0       185.0   \n",
       "537288     513803        313.0       313.0   \n",
       "537289     520874        331.0       331.0   \n",
       "\n",
       "                                                 geometry  \\\n",
       "0       MULTIPOLYGON (((174.46092 -36.26249, 174.46083...   \n",
       "1       MULTIPOLYGON (((174.77836 -36.85187, 174.77838...   \n",
       "2       MULTIPOLYGON (((174.68836 -37.01631, 174.68898...   \n",
       "3       MULTIPOLYGON (((174.33091 -36.32797, 174.33059...   \n",
       "4       MULTIPOLYGON (((174.73406 -36.69245, 174.73408...   \n",
       "...                                                   ...   \n",
       "537285  MULTIPOLYGON (((174.93787 -37.03903, 174.93763...   \n",
       "537286  MULTIPOLYGON (((174.93990 -37.03814, 174.94015...   \n",
       "537287  MULTIPOLYGON (((174.67269 -36.59236, 174.67269...   \n",
       "537288  MULTIPOLYGON (((174.93753 -37.03880, 174.93747...   \n",
       "537289  MULTIPOLYGON (((174.94009 -37.03794, 174.94015...   \n",
       "\n",
       "                                    geometry_polygon_4326  \\\n",
       "0       MULTIPOLYGON (((174.46092 -36.26249, 174.46083...   \n",
       "1       MULTIPOLYGON (((174.77836 -36.85187, 174.77838...   \n",
       "2       MULTIPOLYGON (((174.68836 -37.01631, 174.68898...   \n",
       "3       MULTIPOLYGON (((174.33091 -36.32797, 174.33059...   \n",
       "4       MULTIPOLYGON (((174.73406 -36.69245, 174.73408...   \n",
       "...                                                   ...   \n",
       "537285  MULTIPOLYGON (((174.93787 -37.03903, 174.93763...   \n",
       "537286  MULTIPOLYGON (((174.93990 -37.03814, 174.94015...   \n",
       "537287  MULTIPOLYGON (((174.67269 -36.59236, 174.67269...   \n",
       "537288  MULTIPOLYGON (((174.93753 -37.03880, 174.93747...   \n",
       "537289  MULTIPOLYGON (((174.94009 -37.03794, 174.94015...   \n",
       "\n",
       "                                    geometry_polygon_2193  \\\n",
       "0       MULTIPOLYGON (((1731236.079 5985947.435, 17312...   \n",
       "1       MULTIPOLYGON (((1758545.404 5920084.329, 17585...   \n",
       "2       MULTIPOLYGON (((1750198.000 5901985.621, 17502...   \n",
       "3       MULTIPOLYGON (((1719456.228 5978851.350, 17194...   \n",
       "4       MULTIPOLYGON (((1754915.994 5937843.620, 17549...   \n",
       "...                                                   ...   \n",
       "537285  MULTIPOLYGON (((1772345.368 5899041.420, 17723...   \n",
       "537286  MULTIPOLYGON (((1772527.587 5899136.912, 17725...   \n",
       "537287  MULTIPOLYGON (((1749626.295 5949044.689, 17496...   \n",
       "537288  MULTIPOLYGON (((1772315.095 5899068.286, 17723...   \n",
       "537289  MULTIPOLYGON (((1772545.035 5899158.439, 17725...   \n",
       "\n",
       "                 geometry_centroid_2193        representative_point_2193  \\\n",
       "0       POINT (1730833.403 5986554.554)  POINT (1730274.187 5986576.037)   \n",
       "1       POINT (1758545.994 5920083.676)  POINT (1758546.083 5920083.350)   \n",
       "2       POINT (1753089.203 5903264.022)  POINT (1753675.314 5903641.416)   \n",
       "3       POINT (1719037.182 5979087.155)  POINT (1717846.315 5978813.456)   \n",
       "4       POINT (1754861.838 5937840.725)  POINT (1754850.862 5937822.818)   \n",
       "...                                 ...                              ...   \n",
       "537285  POINT (1772331.528 5899041.157)  POINT (1772331.123 5899040.628)   \n",
       "537286  POINT (1772541.274 5899134.582)  POINT (1772541.279 5899134.587)   \n",
       "537287  POINT (1749631.007 5949038.821)  POINT (1749631.275 5949037.736)   \n",
       "537288  POINT (1772316.982 5899081.834)  POINT (1772318.290 5899078.323)   \n",
       "537289  POINT (1772536.478 5899147.661)  POINT (1772536.572 5899148.446)   \n",
       "\n",
       "             geometry_centroid_4326    representative_point_4326  \\\n",
       "0       POINT (174.45634 -36.25707)  POINT (174.45011 -36.25695)   \n",
       "1       POINT (174.77837 -36.85187)  POINT (174.77837 -36.85188)   \n",
       "2       POINT (174.72059 -37.00433)  POINT (174.72710 -37.00083)   \n",
       "3       POINT (174.32621 -36.32590)  POINT (174.31298 -36.32851)   \n",
       "4       POINT (174.73346 -36.69248)  POINT (174.73334 -36.69264)   \n",
       "...                             ...                          ...   \n",
       "537285  POINT (174.93772 -37.03904)  POINT (174.93771 -37.03904)   \n",
       "537286  POINT (174.94005 -37.03816)  POINT (174.94005 -37.03816)   \n",
       "537287  POINT (174.67274 -36.59241)  POINT (174.67275 -36.59242)   \n",
       "537288  POINT (174.93755 -37.03868)  POINT (174.93756 -37.03871)   \n",
       "537289  POINT (174.94000 -37.03804)  POINT (174.94000 -37.03803)   \n",
       "\n",
       "        LINZ_parcel_ID  LINZ_parcel_centroid_lon  LINZ_parcel_centroid_lat  \\\n",
       "0              5266447                174.456340                -36.257071   \n",
       "1              4789727                174.778370                -36.851873   \n",
       "2              4810316                174.720592                -37.004326   \n",
       "3              4817943                174.326205                -36.325901   \n",
       "4              4827816                174.733456                -36.692482   \n",
       "...                ...                       ...                       ...   \n",
       "537285         7291940                174.937719                -37.039039   \n",
       "537286         7266269                174.940055                -37.038159   \n",
       "537287         8051540                174.672744                -36.592412   \n",
       "537288         7264065                174.937546                -37.038675   \n",
       "537289         7266268                174.939998                -37.038042   \n",
       "\n",
       "                                 LINZ_parcel_vertices_lon  \\\n",
       "0       [174.460923; 174.460829; 174.460676; 174.46063...   \n",
       "1                    [174.778363; 174.778375; 174.778372]   \n",
       "2       [174.688365; 174.688982; 174.689136; 174.68928...   \n",
       "3       [174.330909; 174.330586; 174.330375; 174.33034...   \n",
       "4       [174.734062; 174.73408; 174.734118; 174.734164...   \n",
       "...                                                   ...   \n",
       "537285  [174.937874; 174.937631; 174.937596; 174.93755...   \n",
       "537286  [174.9399; 174.94015; 174.940209; 174.940074; ...   \n",
       "537287  [174.67269; 174.672688; 174.672738; 174.672797...   \n",
       "537288  [174.937528; 174.937467; 174.937428; 174.93745...   \n",
       "537289  [174.940092; 174.94015; 174.9399; 174.939859; ...   \n",
       "\n",
       "                                 LINZ_parcel_vertices_lat  \\\n",
       "0       [-36.262488; -36.262398; -36.262201; -36.26216...   \n",
       "1                     [-36.851867; -36.851871; -36.85188]   \n",
       "2       [-37.016311; -37.015182; -37.014898; -37.01462...   \n",
       "3       [-36.327975; -36.328501; -36.329319; -36.32935...   \n",
       "4       [-36.692447; -36.692822; -36.692829; -36.69282...   \n",
       "...                                                   ...   \n",
       "537285  [-37.039034; -37.039112; -37.039124; -37.03905...   \n",
       "537286  [-37.038141; -37.03806; -37.038177; -37.038221...   \n",
       "537287  [-36.59236; -36.592317; -36.592315; -36.592358...   \n",
       "537288  [-37.038798; -37.038675; -37.038596; -37.03858...   \n",
       "537289  [-37.037943; -37.03806; -37.038141; -37.038058...   \n",
       "\n",
       "                             LINZ_parcel_roadvertices_lon  \\\n",
       "0       [174.460923; 174.460829; 174.460676; 174.46063...   \n",
       "1                    [174.778363; 174.778375; 174.778372]   \n",
       "2       [174.744393; 174.744382; 174.744359; 174.74435...   \n",
       "3                    [174.320527; 174.320349; 174.320215]   \n",
       "4                    [174.734205; 174.733945; 174.732684]   \n",
       "...                                                   ...   \n",
       "537285                           [174.937558; 174.937823]   \n",
       "537286                             [174.9399; 174.939959]   \n",
       "537287   [174.672688; 174.672738; 174.672797; 174.672806]   \n",
       "537288   [174.937528; 174.937664; 174.937653; 174.937529]   \n",
       "537289                             [174.9399; 174.939859]   \n",
       "\n",
       "                             LINZ_parcel_roadvertices_lat  \n",
       "0       [-36.262488; -36.262398; -36.262201; -36.26216...  \n",
       "1                     [-36.851867; -36.851871; -36.85188]  \n",
       "2       [-36.98912; -36.989153; -36.989188; -36.989204...  \n",
       "3                    [-36.337798; -36.337787; -36.337779]  \n",
       "4                    [-36.693016; -36.693165; -36.693287]  \n",
       "...                                                   ...  \n",
       "537285                           [-37.039054; -37.038954]  \n",
       "537286                           [-37.038141; -37.038258]  \n",
       "537287   [-36.592317; -36.592315; -36.592358; -36.592493]  \n",
       "537288   [-37.038798; -37.038755; -37.038758; -37.038797]  \n",
       "537289                           [-37.038141; -37.038058]  \n",
       "\n",
       "[537289 rows x 24 columns]"
      ]
     },
     "execution_count": 22,
     "metadata": {},
     "output_type": "execute_result"
    }
   ],
   "source": [
    "parcels_output[~parcels_output.LINZ_parcel_roadvertices_lat.isin([[]])]"
   ]
  },
  {
   "cell_type": "code",
   "execution_count": 23,
   "id": "6e712e32-5ad1-415c-9757-4226363781b5",
   "metadata": {},
   "outputs": [
    {
     "name": "stderr",
     "output_type": "stream",
     "text": [
      "/tmp/ipykernel_869635/2915316054.py:10: UserWarning: Geometry is in a geographic CRS. Results from 'buffer' are likely incorrect. Use 'GeoSeries.to_crs()' to re-project geometries to a projected CRS before this operation.\n",
      "\n",
      "  x1, y1, x2, y2 = sample.buffer(0.001).total_bounds\n"
     ]
    },
    {
     "data": {
      "image/png": "[encoded data removed]",
      "text/plain": [
       "<Figure size 1152x1152 with 1 Axes>"
      ]
     },
     "metadata": {
      "needs_background": "light"
     },
     "output_type": "display_data"
    }
   ],
   "source": [
    "# example\n",
    "# get a sample \n",
    "sample = parcels_output.sample(10000)\n",
    "# sample one row that has a non empty list of road vertices\n",
    "sample = sample[sample.apply(lambda x: len(x.LINZ_parcel_roadvertices_lat) != 0, axis=1)].sample(1)\n",
    "road_points = get_points_in_roads((None, sample.iloc[0]), return_matarray=False)\n",
    "ax = gpd.GeoDataFrame(geometry=road_points).plot()\n",
    "sample.plot(ax=ax, alpha=0.5)\n",
    "roads_dissolved.plot(ax=ax, color='red', alpha=0.5)\n",
    "x1, y1, x2, y2 = sample.buffer(0.001).total_bounds\n",
    "plt.xlim(x1, x2)\n",
    "plt.ylim(y1, y2)\n",
    "plt.draw()"
   ]
  },
  {
   "cell_type": "code",
   "execution_count": 24,
   "id": "a1c020bf-0181-4950-9a31-99905e208620",
   "metadata": {},
   "outputs": [
    {
     "name": "stdout",
     "output_type": "stream",
     "text": [
      "1fg complete\n",
      "3126.352714538574 seconds\n",
      "\n"
     ]
    }
   ],
   "source": [
    "print('1fg complete')\n",
    "print(time.time() - last, 'seconds')\n",
    "last = time.time()\n",
    "print()"
   ]
  },
  {
   "cell_type": "markdown",
   "id": "829d6ef6-a64b-450f-9abf-8560031ed9e5",
   "metadata": {
    "tags": []
   },
   "source": [
    "##### h. **LINZ_adjoining_parcel_ID** id of adjoining LINZ parcels  \n",
    "##### i. **LINZ_parcel_sides_zones** AUP Zone Code of adjoining parcels (this includes residential, business, and rural zones; it should also include roads, water and open spaces)  \n",
    "For convenience/speed, 1h and 1i can be gotten simultaneously.  \n",
    "**Note**: not doing it for each side of a parcel. Only taking a neighbouring parcel once, even if it borders more than one side.  \n",
    "\n",
    "Do 2a and 2b here first, which are needed for 1i.  \n",
    "\n",
    "What to use for joining parcels with AUP zones?  \n",
    "- intersect: fails because a parcel's exterior might intersect with an AUP zone's exterior, without any overlap\n",
    "- overlap: fails because it is false if one polygon is contained completely within the other  \n",
    "To use polygon/polygon operations, a combination would be needed; something like intersects but does not touch.  \n",
    "Better to use a representative point - which *may* miss cases when a parcel is spread over two AUP zones (not sure if that occurs).  \n",
    "Bonus: representative point + within is many, many, many times faster than using intersects + not touches (~10s vs not finishing before killing after at least 30 minutes)"
   ]
  },
  {
   "cell_type": "markdown",
   "id": "1303c7e7-3ccc-40cb-b822-4e199774a978",
   "metadata": {},
   "source": [
    "**first, 2a and 2b** - needed for 1i."
   ]
  },
  {
   "cell_type": "code",
   "execution_count": null,
   "id": "1d035600-4355-4d6b-ae61-fb715e3632bf",
   "metadata": {},
   "outputs": [],
   "source": [
    "# %%time\n",
    "aup_zones = gpd.read_file('input/2016_aup.zip!2016_Unitary_Plan_operational_15Nov/UP_OIP_15Nov2016_SHP/MASTER_UP_BaseZone.shp')\n",
    "aup_zones.sindex\n",
    "aup_zones.sample(3)"
   ]
  },
  {
   "cell_type": "code",
   "execution_count": null,
   "id": "6a51daf2-f454-4251-bb9a-1584839cd8ed",
   "metadata": {},
   "outputs": [],
   "source": [
    "# use 2193 for AUP; this will be useful later when calculating haversine distances to nearest zones\n",
    "# representative point is much faster for sjoin\n",
    "parcels['geometry'] = parcels.representative_point_2193\n",
    "parcels = parcels.set_crs(2193)\n",
    "aup_zones = aup_zones.to_crs(parcels.crs)\n",
    "aup_zones = aup_zones.rename(columns={'ZONE_resol': 'LINZmatch_AUP_name', 'ZONE': 'LINZmatch_AUP_code'})"
   ]
  },
  {
   "cell_type": "code",
   "execution_count": null,
   "id": "78e35efa-5207-406f-93f8-d9a92f3d4cdb",
   "metadata": {},
   "outputs": [],
   "source": [
    "# %%time\n",
    "parcels_zoned = gpd.sjoin(parcels, aup_zones[['LINZmatch_AUP_name', 'LINZmatch_AUP_code', 'geometry']], how='left', op='within').drop(columns=['index_right'])\n",
    "# index for dropping duplicates\n",
    "parcels_zoned['index_'] = parcels_zoned.index\n",
    "parcels_zoned = parcels_zoned.drop_duplicates(subset=['index_', 'LINZmatch_AUP_code'])\n",
    "# # only one parcel falls in two AUP zone polygons with different zone codes \n",
    "# display(parcels_zoned.loc[parcels_zoned.index.value_counts().index[0]][['LINZmatch_AUP_name', 'LINZmatch_AUP_code']])\n",
    "# print(np.unique(parcels_zoned.index.value_counts(), return_counts=True))"
   ]
  },
  {
   "cell_type": "code",
   "execution_count": null,
   "id": "c567f0b9-8260-463a-99f3-20a10b47b3fa",
   "metadata": {},
   "outputs": [],
   "source": [
    "# drop duplicate indexes and reassign to parcels\n",
    "parcels_zoned = parcels_zoned.drop_duplicates(subset=['index_'])\n",
    "parcels = parcels_zoned"
   ]
  },
  {
   "cell_type": "code",
   "execution_count": null,
   "id": "fe2327b2-8422-487a-b99a-883a5876ba40",
   "metadata": {},
   "outputs": [],
   "source": [
    "parcels_output['LINZmatch_AUP_code'] = parcels.loc[parcels_output.index].LINZmatch_AUP_code\n",
    "parcels_output['LINZmatch_AUP_name'] = parcels.loc[parcels_output.index].LINZmatch_AUP_name"
   ]
  },
  {
   "cell_type": "markdown",
   "id": "f78c654e-3295-452f-8a23-9f86b88304fe",
   "metadata": {},
   "source": [
    "**now do 1h & 1i** (now that parcels have zones)"
   ]
  },
  {
   "cell_type": "code",
   "execution_count": null,
   "id": "2d154b23-e255-46ad-92ef-2e7e6598eb56",
   "metadata": {},
   "outputs": [],
   "source": [
    "# need polygons, will check for touching neighbours\n",
    "parcels.geometry = parcels['geometry_polygon_4326']\n",
    "parcels = parcels.set_crs(4326)\n",
    "parcels_output.geometry = parcels_output['geometry_polygon_4326']\n",
    "parcels_output = parcels_output.set_crs(4326)"
   ]
  },
  {
   "cell_type": "code",
   "execution_count": null,
   "id": "9bda03e7-f78b-4e5a-b93d-7ca03df28532",
   "metadata": {},
   "outputs": [],
   "source": [
    "# %%time\n",
    "# number of rows to process at once\n",
    "row_chunk_size=100\n",
    "def find_neighbour_info(i):\n",
    "    \"\"\"find neighbours of parcels from i * row_chunk_size to (i+1) * row_chunk_size, then find ids and zones of those neighbouring parcels\"\"\"\n",
    "    parcels_chunk = parcels_output.iloc[i*row_chunk_size:min((i+1)*row_chunk_size, len(parcels_output))]\n",
    "    neighbour_gdf = gpd.sjoin(parcels_chunk, parcels, op='touches')\n",
    "    neighbour_zones = []\n",
    "    neighbour_ids = []\n",
    "    for idx in parcels_chunk.index:\n",
    "        if idx in neighbour_gdf.index:\n",
    "            neighbour_ids.append(neighbour_gdf.loc[[idx]].id_right.tolist())\n",
    "            neighbour_zones.append(neighbour_gdf.loc[[idx]].LINZmatch_AUP_code_right.tolist())\n",
    "        else:\n",
    "            neighbour_ids.append([])\n",
    "            neighbour_zones.append([])\n",
    "    return neighbour_ids, neighbour_zones\n",
    "        \n",
    "# each call to find_neighbours will return two lists like this: [list of neighbour ids], [list of niehgbour zones]\n",
    "# The final structure will be of shape (n_chunks, 2, n_neighbours), where n_neighbours will vary between lists\n",
    "parcel_neighbour_chunks = process_map(find_neighbour_info, list(range((int(np.ceil(len(parcels_output) / row_chunk_size))))), max_workers=max_workers, chunksize=10)"
   ]
  },
  {
   "cell_type": "code",
   "execution_count": null,
   "id": "e144ed58-1e4c-490e-b35c-1ee741445571",
   "metadata": {},
   "outputs": [],
   "source": [
    "parcels_output['LINZ_adjoining_parcel_ID'] = [ids for chunk in parcel_neighbour_chunks for ids in chunk[0]]\n",
    "parcels_output['LINZ_parcel_sides_zones'] = [zones for chunk in parcel_neighbour_chunks for zones in chunk[1]]"
   ]
  },
  {
   "cell_type": "code",
   "execution_count": null,
   "id": "e0ec063a-7ecb-4240-b04f-36cbcca14417",
   "metadata": {},
   "outputs": [],
   "source": [
    "# plot a random parcel and its neighbours\n",
    "sample = parcels_output.sample(1)\n",
    "ax = sample.plot(color='red')\n",
    "parcels[parcels.id.isin(sample.LINZ_adjoining_parcel_ID.values[0])].plot(ax=ax)\n"
   ]
  },
  {
   "cell_type": "code",
   "execution_count": null,
   "id": "49e34041-4d18-454f-a9a6-bd047221da33",
   "metadata": {},
   "outputs": [],
   "source": [
    "print('2ab 1hi complete')\n",
    "print(time.time() - last, 'seconds')\n",
    "last = time.time()\n",
    "print()"
   ]
  },
  {
   "cell_type": "markdown",
   "id": "e5bfbda8-15ea-4f52-ac52-0bd950cbba81",
   "metadata": {
    "tags": []
   },
   "source": [
    "##### j. i. **LINZ_TRNSPWR_ohead_indicator** Indicator (0 or 1) for LINZ parcel located under overhead transpower line. Leave blank otherwise. Note that ‘TRANSLINE’ denotes overhead transmission lines in the GIS dataset, while ‘CABLE’ denotes underground transmission lines and can be ignored. \n",
    "##### j. ii. **LINZ_TRNSPWR_ohead_name**  \n",
    "Note: What name to use? 'descriptio'? "
   ]
  },
  {
   "cell_type": "code",
   "execution_count": null,
   "id": "9e326119-b9f9-4a60-8783-13eefb547e76",
   "metadata": {},
   "outputs": [],
   "source": [
    "power = gpd.read_file('input/Transmission_Lines_exTRANSPOWER.zip!Transmission_Lines.shp').to_crs(parcels_output.crs)\n",
    "# only interested in overhead\n",
    "power = power[power['type'] == 'TRANSLINE']\n",
    "power.sample(3)"
   ]
  },
  {
   "cell_type": "code",
   "execution_count": null,
   "id": "9799028c-e4c0-4700-b574-b31d062bba0f",
   "metadata": {},
   "outputs": [],
   "source": [
    "# %%time\n",
    "# get dataframe associating parcel indices with overhead power lines\n",
    "# alternative approach is to do how='left', then combine on index using group by, but that seems much slower when incorporating the results into the final gdf\n",
    "power_intersect = gpd.sjoin(parcels_output, power[['descriptio', 'geometry']]).drop(columns=['index_right'])"
   ]
  },
  {
   "cell_type": "code",
   "execution_count": null,
   "id": "5ab09c95-1b07-4de7-a62c-86febf36bb89",
   "metadata": {},
   "outputs": [],
   "source": [
    "power_intersect.index.value_counts()"
   ]
  },
  {
   "cell_type": "code",
   "execution_count": null,
   "id": "7dbce5f0-d0fa-44a3-89aa-9763fce220da",
   "metadata": {},
   "outputs": [],
   "source": [
    "# %%time\n",
    "def get_powerlines(id):\n",
    "    if id in power_intersect.index:\n",
    "        powerlines = power_intersect.loc[[id]]\n",
    "        # filter out duplicates\n",
    "        return powerlines.descriptio.unique().tolist()\n",
    "#         return ','.join(powerlines.descriptio.unique())\n",
    "\n",
    "    else:\n",
    "        return None\n",
    "parcel_powerlines = process_map(get_powerlines, list(parcels_output.index), max_workers=max_workers, chunksize=1000)\n",
    "parcels_output['LINZ_TRNSPWR_ohead_name'] = parcel_powerlines\n",
    "parcels_output['LINZ_TRNSPWR_ohead_indicator'] = [int(p is not None) for p in parcel_powerlines]"
   ]
  },
  {
   "cell_type": "code",
   "execution_count": null,
   "id": "a377ffc9-9dce-4dce-855a-bcdd57af6299",
   "metadata": {},
   "outputs": [],
   "source": [
    "ax = parcels_output[parcels_output['LINZ_TRNSPWR_ohead_indicator'] == 1].plot()\n",
    "power.plot(column='designvolt', legend=True, ax=ax)\n",
    "plt.xlim((parcels_output.total_bounds[0], parcels_output.total_bounds[2]))\n",
    "plt.ylim((parcels_output.total_bounds[1], parcels_output.total_bounds[3]))\n",
    "ctx.add_basemap(ax, source=ctx.providers.Esri.WorldImagery, crs=parcels_output.crs)"
   ]
  },
  {
   "cell_type": "code",
   "execution_count": null,
   "id": "2badfe18-7640-4265-9852-4e16db234e41",
   "metadata": {},
   "outputs": [],
   "source": [
    "print('1j complete')\n",
    "print(time.time() - last, 'seconds')\n",
    "last = time.time()\n",
    "print()"
   ]
  },
  {
   "cell_type": "markdown",
   "id": "067315eb-6605-4bba-b8e9-7edd16c7cf1c",
   "metadata": {
    "tags": []
   },
   "source": [
    "##### k. i. **LINZ_VWSHFT_ohead_indicator** Indicator (0 or 1) for LINZ parcel located under viewshafts. Leave blank otherwise. \n",
    "##### k. ii. **LINZ_VWSHFT_ohead_name** Name of the volcanic cone (e.g. Mt Albert). Leave blank if no viewshaft applies. \n",
    "##### k. iii. **LINZ_VWSHFT_ohead_ID** OBJECTID of the viewshaft. Leave blank if no viewshaft applies.  "
   ]
  },
  {
   "cell_type": "code",
   "execution_count": null,
   "id": "8f9dcc64-4e54-4770-ae7a-5fc81c4f5cc9",
   "metadata": {},
   "outputs": [],
   "source": [
    "viewshafts_local = gpd.read_file('input/2016_aup.zip!2016_Unitary_Plan_operational_15Nov/UP_OIP_15Nov2016_SHP/MASTER_UP_LocallySignificantVolcanicViewshafts.shp').to_crs(parcels_output.crs)\n",
    "viewshafts_regional = gpd.read_file('input/2016_aup.zip!2016_Unitary_Plan_operational_15Nov/UP_OIP_15Nov2016_SHP/MASTER_UP_RegionallySignificantVolcanicViewShaftsAndHeightSensitiveAreasOverlay.shp').to_crs(parcels_output.crs)\n",
    "viewshafts_museum = gpd.read_file('input/2016_aup.zip!2016_Unitary_Plan_operational_15Nov/UP_OIP_15Nov2016_SHP/MASTER_UP_AucklandMuseumViewshaftOverlay.shp').to_crs(parcels_output.crs)\n",
    "\n",
    "# include dilworth?\n",
    "viewshafts_dilworth = gpd.read_file('input/2016_aup.zip!2016_Unitary_Plan_operational_15Nov/UP_OIP_15Nov2016_SHP/MASTER_UP_DilworthTerraceHousesViewshaftOverlay.shp').to_crs(parcels_output.crs)\n",
    "\n",
    "viewshafts_museum['OBJECTID'] = ['Museum_' + str(s) for s in viewshafts_museum['OBJECTID']]\n",
    "viewshafts_regional['OBJECTID'] = ['RSVS_' + str(s) for s in viewshafts_regional['OBJECTID']]\n",
    "viewshafts_local['OBJECTID'] = ['LSVS_' + str(s) for s in viewshafts_local['OBJECTID']]\n",
    "\n",
    "viewshafts = pd.concat([viewshafts_museum, viewshafts_local, viewshafts_regional])"
   ]
  },
  {
   "cell_type": "code",
   "execution_count": null,
   "id": "8a6ab0e3-1eaa-46be-ae45-14c0d4630c85",
   "metadata": {},
   "outputs": [],
   "source": [
    "# %%time\n",
    "joined = gpd.sjoin(parcels_output, viewshafts[[\"NAME\", \"OBJECTID\", \"geometry\"]])"
   ]
  },
  {
   "cell_type": "code",
   "execution_count": null,
   "id": "8d0bab08-f618-4d8a-adce-0afee0d6abba",
   "metadata": {},
   "outputs": [],
   "source": [
    "# %%time\n",
    "def get_viewshafts(id):\n",
    "    if id in joined.index:\n",
    "        vs = joined.loc[[id]]\n",
    "        # filter out duplicates\n",
    "        return vs[\"OBJECTID\"].unique().tolist(), vs[\"NAME\"].unique().tolist()\n",
    "    else:\n",
    "        return None\n",
    "    \n",
    "parcel_viewshafts = process_map(get_viewshafts, list(parcels_output.index), max_workers=max_workers, chunksize=1000)\n",
    "\n",
    "parcels_output['LINZ_VWSHFT_ohead_name'] = [vs[1] if vs is not None else None for vs in parcel_viewshafts]\n",
    "parcels_output['LINZ_VWSHFT_ohead_ID'] = [vs[0] if vs is not None else None for vs in parcel_viewshafts]\n",
    "parcels_output['LINZ_VWSHFT_ohead_indicator'] = [int(p is not None) for p in parcel_viewshafts]"
   ]
  },
  {
   "cell_type": "code",
   "execution_count": null,
   "id": "072dd267-2149-486c-92ce-c93645c7ac8d",
   "metadata": {},
   "outputs": [],
   "source": [
    "ax = parcels_output[parcels_output.LINZ_VWSHFT_ohead_indicator == 1].plot()\n",
    "ctx.add_basemap(ax, source=ctx.providers.Esri.WorldImagery, crs=parcels_output.crs)"
   ]
  },
  {
   "cell_type": "code",
   "execution_count": null,
   "id": "b1f57cac-652e-4abe-b8b7-df29e8d48058",
   "metadata": {},
   "outputs": [],
   "source": [
    "print('1 all complete')\n",
    "print(time.time() - last, 'seconds')\n",
    "last = time.time()\n",
    "print()"
   ]
  },
  {
   "cell_type": "markdown",
   "id": "bd404566-f933-4c50-824a-879cbe5393cf",
   "metadata": {
    "tags": []
   },
   "source": [
    "## 2. AUP shapefile information. Calculations are based on centroid of matched parcels: \n",
    "##### a. **LINZmatch_AUP_name** AUP zone (string) consent is located in (from the AUP shapefiles) \n",
    "##### b. **LINZmatch_AUP_code** AUP Zone Code (numerical) consent is located in   \n",
    "Done above in 1h and 1i."
   ]
  },
  {
   "cell_type": "markdown",
   "id": "88d1ca1b-cabd-4980-bbd2-e3dc3c6d8047",
   "metadata": {
    "tags": []
   },
   "source": [
    "##### c. **Hdist_rural** Minimum Haversine distance to nearest Rural Zone,   plus\n",
    "##### c. i. **Hdist_rural_name** Name of rural zone identified \n",
    "##### c. ii. **Hdist_rural_code** Numeric code of rural zone identified  \n",
    "I've included all of these as rural:  \n",
    "['Rural - Mixed Rural Zone',  \n",
    "'Rural - Rural Coastal Zone',  \n",
    "'Rural - Countryside Living Zone',  \n",
    "'Rural - Rural Production Zone',  \n",
    "'Rural - Rural Conservation Zone',  \n",
    "'Rural - Waitakere Ranges Zone',  \n",
    "'Rural - Waitakere Foothills Zone']    "
   ]
  },
  {
   "cell_type": "code",
   "execution_count": null,
   "id": "c6382d57-5051-4b81-b202-a800eb332af9",
   "metadata": {},
   "outputs": [],
   "source": [
    "# dealing with distances: everything should be epsg 2193\n",
    "parcels_output['geometry'] = parcels_output.geometry_polygon_2193\n",
    "parcels_output = parcels_output.set_crs(2193)"
   ]
  },
  {
   "cell_type": "code",
   "execution_count": null,
   "id": "e9436dd2-9b7d-4582-a8f5-e73a260aea9c",
   "metadata": {},
   "outputs": [],
   "source": [
    "# %%time\n",
    "aup_zones = gpd.read_file('input/2016_aup.zip!2016_Unitary_Plan_operational_15Nov/UP_OIP_15Nov2016_SHP/MASTER_UP_BaseZone.shp')\n",
    "aup_zones = aup_zones.to_crs(2193)\n",
    "aup_zones.sample(3)"
   ]
  },
  {
   "cell_type": "code",
   "execution_count": null,
   "id": "94411654-0b05-4b62-8d16-2c2522fa7e44",
   "metadata": {},
   "outputs": [],
   "source": [
    "rural_codes = aup_zones[aup_zones.ZONE_resol.str.lower().str.contains('rural - ', na=False)]['ZONE'].unique()"
   ]
  },
  {
   "cell_type": "code",
   "execution_count": null,
   "id": "6c096dac-4573-4ce7-906d-3a58618964cb",
   "metadata": {},
   "outputs": [],
   "source": [
    "# check that each rural zone code matches with a unique rural zone name \n",
    "assert all([len(aup_zones[aup_zones.ZONE == code].ZONE_resol.unique()) == 1 for code in rural_codes])\n",
    "# dictionary mapping code to names\n",
    "rural_code2name = {code: aup_zones[aup_zones.ZONE == code].ZONE_resol.unique()[0] for code in rural_codes}"
   ]
  },
  {
   "cell_type": "code",
   "execution_count": null,
   "id": "12227441-3734-4c43-948c-3e7602061a00",
   "metadata": {},
   "outputs": [],
   "source": [
    "aup_zones[aup_zones.ZONE_resol.isna()]"
   ]
  },
  {
   "cell_type": "code",
   "execution_count": null,
   "id": "d4ccf5b1-70a2-4f91-b5a7-3e2309607096",
   "metadata": {},
   "outputs": [],
   "source": [
    "# 2 NAs in ZONE_resol are from a zone 58, which only has observations\n",
    "aup_zones[aup_zones.ZONE == '58']"
   ]
  },
  {
   "cell_type": "code",
   "execution_count": null,
   "id": "4681e866-ae34-4e2d-83fa-98bd240e6b9e",
   "metadata": {},
   "outputs": [],
   "source": [
    "rural = aup_zones[aup_zones.ZONE.isin(rural_codes)]"
   ]
  },
  {
   "cell_type": "code",
   "execution_count": null,
   "id": "d461f7af-0b7c-45e2-b119-be2fc17bed98",
   "metadata": {},
   "outputs": [],
   "source": [
    "rural_by_zone_dict = {code: rural[rural.ZONE == code].dissolve() for code in rural_codes}\n",
    "\n",
    "def find_nearest(item):\n",
    "    index, row = item\n",
    "    distance_candidates = []\n",
    "    code_candidates = []\n",
    "    for code, rural_gdf in rural_by_zone_dict.items():\n",
    "        distance_candidates.append(row.geometry.distance(rural_gdf.geometry[0]))\n",
    "        code_candidates.append(rural_gdf.ZONE[0])\n",
    "    return distance_candidates, code_candidates\n",
    "\n",
    "# this might hang for a few minutes before multiprocessing starts\n",
    "output = process_map(find_nearest, parcels_output.iterrows(), max_workers=max_workers, chunksize=100, total=len(parcels_output))\n",
    "\n",
    "# all distances (to any zone)\n",
    "distance_candidates = np.array([x[0] for x in output])\n",
    "code_candidates = np.array([x[1] for x in output])\n",
    "\n",
    "# indices of minimum distances\n",
    "min_idx = np.argmin(distance_candidates, axis=-1)"
   ]
  },
  {
   "cell_type": "code",
   "execution_count": null,
   "id": "a3667b8a-8440-4ffb-bb79-82f7edf607ba",
   "metadata": {},
   "outputs": [],
   "source": [
    "parcels_output['Hdist_rural'] = distance_candidates[(np.arange(len(distance_candidates)), min_idx)]\n",
    "parcels_output['Hdist_rural_code'] = code_candidates[(np.arange(len(distance_candidates)), min_idx)]\n",
    "parcels_output['Hdist_rural_name'] = parcels_output.apply(lambda x: rural_code2name[x.Hdist_rural_code], axis=1)"
   ]
  },
  {
   "cell_type": "code",
   "execution_count": null,
   "id": "26d365bc-4b55-4b7a-8786-2d1739c54e86",
   "metadata": {},
   "outputs": [],
   "source": [
    "import matplotlib.patches as mpatches\n",
    "import matplotlib.pyplot as plt\n",
    "\n",
    "colours = ('blue', 'orange', 'green', 'red', 'purple', 'brown', 'pink', 'cyan')\n",
    "name2colour = {name: colour for name, colour in zip(rural_code2name.values(), colours)}\n",
    "\n",
    "column = 'Hdist_rural'\n",
    "subsample = parcels_output[parcels_output[column] > 0].sample(10)\n",
    "subsample['buffer'] = subsample.apply(lambda x: x.geometry.buffer(x[column]), axis=1)\n",
    "subsample['geometry'] = subsample['buffer']\n",
    "subsample = subsample[~subsample.is_empty]\n",
    "# ax = rural.plot(column='ZONE_resol', legend=True)\n",
    "# subsample.plot(column='Hdist_rural_name', alpha=0.4, ax=ax)\n",
    "ax = rural.plot(color=[name2colour[z] for z in rural.ZONE_resol])\n",
    "subsample.plot(color=[name2colour[z] for z in subsample.Hdist_rural_name], alpha=0.65, ax=ax)\n",
    "# plt.ylim((5.88e6, 5.96e6))\n",
    "\n",
    "# add legend\n",
    "legend_patches = [mpatches.Patch(color=col, label=name) for name, col in name2colour.items()]\n",
    "plt.legend(handles=legend_patches)\n",
    "\n",
    "# ctx.add_basemap(ax=ax, crs=subsample.crs)"
   ]
  },
  {
   "cell_type": "code",
   "execution_count": null,
   "id": "48fcc39f-f554-4219-b424-734f8ce28b8d",
   "metadata": {},
   "outputs": [],
   "source": [
    "print('2c complete')\n",
    "print(time.time() - last, 'seconds')\n",
    "last = time.time()\n",
    "print()"
   ]
  },
  {
   "cell_type": "markdown",
   "id": "972e52f3-0b0f-43a5-8d16-eaace8e9bd42",
   "metadata": {
    "tags": []
   },
   "source": [
    "##### d. **Hdist_bus** Minimum Haversine distance to nearest Business Zone\n",
    "##### d. i. **Hdist_bus_name**\n",
    "##### d. ii. **Hdist_bus_code**"
   ]
  },
  {
   "cell_type": "code",
   "execution_count": null,
   "id": "71004bc8-7236-4bc8-aede-a7fdb35c12aa",
   "metadata": {},
   "outputs": [],
   "source": [
    "business_codes = aup_zones[aup_zones.ZONE_resol.str.lower().str.contains('business - ', na=False)]['ZONE'].unique()"
   ]
  },
  {
   "cell_type": "code",
   "execution_count": null,
   "id": "2598c400-d4c9-4b7b-ae7f-5812f6c4de02",
   "metadata": {},
   "outputs": [],
   "source": [
    "# check that each business zone code matches with a unique business zone name \n",
    "if not all([len(aup_zones[aup_zones.ZONE == code].ZONE_resol.unique()) == 1 for code in business_codes]):\n",
    "    print('warning: business zone code(s) match non uniquely with business zone names\n",
    "# dictionary mapping code to names\n",
    "business_code2name = {code: aup_zones[aup_zones.ZONE == code].ZONE_resol.unique()[0] for code in business_codes}\n",
    "business_code2name"
   ]
  },
  {
   "cell_type": "code",
   "execution_count": null,
   "id": "4c62c2ba-5037-441d-8179-8ef67fbd656a",
   "metadata": {},
   "outputs": [],
   "source": [
    "business = aup_zones[aup_zones.ZONE.isin(business_codes)]"
   ]
  },
  {
   "cell_type": "code",
   "execution_count": null,
   "id": "6708bc80-b972-4b4b-a393-93dec1db8864",
   "metadata": {},
   "outputs": [],
   "source": [
    "business_by_zone_dict = {code: business[business.ZONE == code].dissolve() for code in business_codes}\n",
    "\n",
    "def find_nearest(item):\n",
    "    index, row = item\n",
    "    distance_candidates = []\n",
    "    code_candidates = []\n",
    "    for code, business_gdf in business_by_zone_dict.items():\n",
    "        distance_candidates.append(row.geometry.distance(business_gdf.geometry[0]))\n",
    "        code_candidates.append(business_gdf.ZONE[0])\n",
    "    return distance_candidates, code_candidates\n",
    "\n",
    "# this might hang for a few minutes before multiprocessing starts\n",
    "output = process_map(find_nearest, parcels_output.iterrows(), max_workers=max_workers, chunksize=100, total=len(parcels_output))\n",
    "\n",
    "# all distances (to any zone)\n",
    "distance_candidates = np.array([x[0] for x in output])\n",
    "code_candidates \n",
    "# indices of minimum distances\n",
    "min_idx = np.argmin(distance_candidates, axis=-1)"
   ]
  },
  {
   "cell_type": "code",
   "execution_count": null,
   "id": "2c209938-e693-4c6a-b2bd-2a538efe7714",
   "metadata": {},
   "outputs": [],
   "source": [
    "parcels_output['Hdist_bus'] = distance_candidates[(np.arange(len(distance_candidates)), min_idx)]\n",
    "parcels_output['Hdist_bus_code'] = code_candidates[(np.arange(len(distance_candidates)), min_idx)]\n",
    "parcels_output['Hdist_bus_name'] = parcels_output.apply(lambda x: business_code2name[x.Hdist_bus_code], axis=1)"
   ]
  },
  {
   "cell_type": "code",
   "execution_count": null,
   "id": "8ba3f763-9707-421b-9d0a-6e7afc6f7841",
   "metadata": {},
   "outputs": [],
   "source": [
    "import matplotlib.patches as mpatches\n",
    "import matplotlib.pyplot as plt\n",
    "\n",
    "colours = ('blue', 'orange', 'green', 'red', 'purple', 'brown', 'pink', 'cyan', 'black', 'white')\n",
    "name2colour = {name: colour for name, colour in zip(business_code2name.values(), colours)}\n",
    "\n",
    "# hard to see, subset to smaller area\n",
    "bounds = {'x1': 1.76e6, 'x2': 1.7613e6, 'y1': 5.9123e6, 'y2': 5.914e6}\n",
    "\n",
    "column = 'Hdist_bus'\n",
    "subsample = parcels_output.cx[bounds['x1']:bounds['x2'], bounds['y1']:bounds['y2']]\n",
    "subsample['buffer'] = subsample.apply(lambda x: x.geometry.buffer(x[column]), axis=1)\n",
    "subsample['geometry'] = subsample['buffer']\n",
    "\n",
    "subsample = subsample[~subsample.is_empty]\n",
    "\n",
    "business_plot = business.cx[bounds['x1']:bounds['x2'], bounds['y1']:bounds['y2']]\n",
    "ax = business_plot.plot(color=[name2colour[z] for z in business_plot.ZONE_resol])\n",
    "subsample.plot(color=[name2colour[z] for z in subsample.Hdist_bus_name], alpha=0.65, ax=ax)\n",
    "# plt.ylim((5.88e6, 5.96e6))\n",
    "\n",
    "# add legend\n",
    "legend_patches = [mpatches.Patch(color=col, label=name) for name, col in name2colour.items()]\n",
    "plt.legend(handles=legend_patches)\n",
    "\n",
    "# ctx.add_basemap(ax=ax, crs=subsample.crs)"
   ]
  },
  {
   "cell_type": "code",
   "execution_count": null,
   "id": "5844e289-22c7-442a-92c6-ea9585498412",
   "metadata": {},
   "outputs": [],
   "source": [
    "print('2d complete')\n",
    "print(time.time() - last, 'seconds')\n",
    "last = time.time()\n",
    "print()"
   ]
  },
  {
   "cell_type": "markdown",
   "id": "96e9db5d-79f7-49a4-b354-cc9c21681357",
   "metadata": {
    "tags": []
   },
   "source": [
    "##### e. **Hdist_resid** Minimum Haversine distance to nearest Residential Zone,\n",
    "##### e. i. **Hdist_resid_name**\n",
    "##### e. ii. **Hdist_resid_code**"
   ]
  },
  {
   "cell_type": "code",
   "execution_count": null,
   "id": "384ac5ba-139f-4505-a767-850222f04e4e",
   "metadata": {},
   "outputs": [],
   "source": [
    "resid_codes = aup_zones[aup_zones.ZONE_resol.str.lower().str.contains('resid', na=False)]['ZONE'].unique()"
   ]
  },
  {
   "cell_type": "code",
   "execution_count": null,
   "id": "bc2c89fd-ab3c-434e-9b7f-156694f58c38",
   "metadata": {},
   "outputs": [],
   "source": [
    "resid_codes"
   ]
  },
  {
   "cell_type": "code",
   "execution_count": null,
   "id": "0312a989-6b5f-4b51-883b-a0c9534c00b3",
   "metadata": {},
   "outputs": [],
   "source": [
    "# check that each resid zone code matches with a unique resid zone name \n",
    "assert all([len(aup_zones[aup_zones.ZONE == code].ZONE_resol.unique()) == 1 for code in resid_codes])\n",
    "# dictionary mapping code to names\n",
    "resid_code2name = {code: aup_zones[aup_zones.ZONE == code].ZONE_resol.unique()[0] for code in resid_codes}\n",
    "resid_code2name"
   ]
  },
  {
   "cell_type": "code",
   "execution_count": null,
   "id": "1cf65cfc-99ae-44c1-875b-e270b3622984",
   "metadata": {},
   "outputs": [],
   "source": [
    "resid = aup_zones[aup_zones.ZONE.isin(resid_codes)]"
   ]
  },
  {
   "cell_type": "code",
   "execution_count": null,
   "id": "4347a2f0-85e9-4e64-99fb-bbecf9b144f2",
   "metadata": {},
   "outputs": [],
   "source": [
    "resid_by_zone_dict = {code: resid[resid.ZONE == code].dissolve() for code in resid_codes}\n",
    "\n",
    "def find_nearest(item):\n",
    "    index, row = item\n",
    "    distance_candidates = []\n",
    "    code_candidates = []\n",
    "    for code, gdf in resid_by_zone_dict.items():\n",
    "        distance_candidates.append(row.geometry.distance(gdf.geometry[0]))\n",
    "        code_candidates.append(gdf.ZONE[0])\n",
    "    return distance_candidates, code_candidates\n",
    "\n",
    "# this might hang for a few minutes before multiprocessing starts\n",
    "output = process_map(find_nearest, parcels_output.iterrows(), max_workers=max_workers, chunksize=100, total=len(parcels_output))\n",
    "\n",
    "# all distances (to any zone)\n",
    "distance_candidates = np.array([x[0] for x in output])\n",
    "code_candidates = np.array([x[1] for x in output])\n",
    "\n",
    "# indices of minimum distances\n",
    "min_idx = np.argmin(distance_candidates, axis=-1)"
   ]
  },
  {
   "cell_type": "code",
   "execution_count": null,
   "id": "0614fa41-f8aa-4c69-bf59-e7dea415b914",
   "metadata": {},
   "outputs": [],
   "source": [
    "parcels_output['Hdist_resid'] = distance_candidates[(np.arange(len(distance_candidates)), min_idx)]\n",
    "parcels_output['Hdist_resid_code'] = code_candidates[(np.arange(len(distance_candidates)), min_idx)]\n",
    "parcels_output['Hdist_resid_name'] = parcels_output.apply(lambda x: resid_code2name[x.Hdist_resid_code], axis=1)"
   ]
  },
  {
   "cell_type": "code",
   "execution_count": null,
   "id": "adf7361f-8ad1-4ba2-bbcb-06f3b2c72fed",
   "metadata": {},
   "outputs": [],
   "source": [
    "import matplotlib.patches as mpatches\n",
    "import matplotlib.pyplot as plt\n",
    "\n",
    "colours = ('blue', 'orange', 'green', 'red', 'purple', 'brown', 'pink', 'cyan', 'black', 'white')\n",
    "name2colour = {name: colour for name, colour in zip(resid_code2name.values(), colours)}\n",
    "\n",
    "# hard to see, subset to smaller area\n",
    "bounds = {'x1': 1.76e6, 'x2': 1.7613e6, 'y1': 5.9123e6, 'y2': 5.914e6}\n",
    "\n",
    "column = 'Hdist_resid'\n",
    "subsample = parcels_output.cx[bounds['x1']:bounds['x2'], bounds['y1']:bounds['y2']]\n",
    "subsample['buffer'] = subsample.apply(lambda x: x.geometry.buffer(x[column]), axis=1)\n",
    "subsample['geometry'] = subsample['buffer']\n",
    "\n",
    "subsample = subsample[~subsample.is_empty]\n",
    "\n",
    "resid_plot = resid.cx[bounds['x1']:bounds['x2'], bounds['y1']:bounds['y2']]\n",
    "ax = resid_plot.plot(color=[name2colour[z] for z in resid_plot.ZONE_resol])\n",
    "subsample.plot(color=[name2colour[z] for z in subsample.Hdist_resid_name], alpha=0.65, ax=ax)\n",
    "# plt.ylim((5.88e6, 5.96e6))\n",
    "\n",
    "# add legend\n",
    "legend_patches = [mpatches.Patch(color=col, label=name) for name, col in name2colour.items()]\n",
    "plt.legend(handles=legend_patches)\n",
    "\n",
    "# ctx.add_basemap(ax=ax, crs=subsample.crs)"
   ]
  },
  {
   "cell_type": "code",
   "execution_count": null,
   "id": "b2286276-7af1-4fe2-99d8-5a0f0dee3f67",
   "metadata": {},
   "outputs": [],
   "source": [
    "print('2e complete')\n",
    "print(time.time() - last, 'seconds')\n",
    "last = time.time()\n",
    "print()"
   ]
  },
  {
   "cell_type": "markdown",
   "id": "158e8709-530a-4396-a00f-cb963e6fc5ef",
   "metadata": {},
   "source": [
    "##### f. **Hdist_SH** Minimum Haversine distance to Residential - Single House Zone \n",
    "##### g. **Hdist_MHS** Minimum Haversine distance to Residential - Mixed Housing Suburban Zone\n",
    "##### h. **Hdist_MHU** Minimum Haversine distance to Residential - Mixed Housing Urban Zone  \n",
    "##### i. **Zone Hdist_THA** Minimum Haversine distance to Residential - Terrace Housing and Apartments\n",
    "Note: this is the real name for i: 'Residential - Terrace Housing and Apartment Building Zone'"
   ]
  },
  {
   "cell_type": "code",
   "execution_count": null,
   "id": "6c091aee-2c67-4d22-bb2c-e0a3b9eb31bb",
   "metadata": {},
   "outputs": [],
   "source": [
    "# %%time\n",
    "postfix2name = {\n",
    "            'SH': 'Residential - Single House Zone',\n",
    "            'MHS': 'Residential - Mixed Housing Suburban Zone',\n",
    "            'MHU': 'Residential - Mixed Housing Urban Zone',\n",
    "            'THA': 'Residential - Terrace Housing and Apartment Building Zone'\n",
    "               }\n",
    "for postfix, zone in tqdm(postfix2name.items()):\n",
    "    resid_gdf = resid[resid.ZONE_resol == zone].dissolve()\n",
    "    def get_distance(geo):\n",
    "        return geo.distance(resid_gdf.geometry[0])\n",
    "    parcels_output[f'Hdist_{postfix}'] = process_map(get_distance, parcels_output.geometry, max_workers=max_workers, chunksize=100)"
   ]
  },
  {
   "cell_type": "code",
   "execution_count": null,
   "id": "27be5be6-16f7-4ffc-bc24-ce2f331bda78",
   "metadata": {},
   "outputs": [],
   "source": [
    "postfix = 'THA'\n",
    "column = f'Hdist_{postfix}'\n",
    "subsample = parcels_output.sample(10)\n",
    "subsample['buffer'] = subsample.apply(lambda x: x.geometry.buffer(x[column]), axis=1)\n",
    "subsample['geometry'] = subsample['buffer']\n",
    "ax = subsample.plot(color='red', alpha=0.4)\n",
    "resid[resid.ZONE_resol == postfix2name[postfix]].plot(ax=ax)\n",
    "ctx.add_basemap(ax, crs=2193)"
   ]
  },
  {
   "cell_type": "code",
   "execution_count": null,
   "id": "925c114e-2db3-45e8-b943-cbe44d662037",
   "metadata": {},
   "outputs": [],
   "source": [
    "print('2fghi complete')\n",
    "print(time.time() - last, 'seconds')\n",
    "last = time.time()\n",
    "print()"
   ]
  },
  {
   "cell_type": "code",
   "execution_count": null,
   "id": "e7fd02d2-27e5-4cf7-a030-bc7cf94349c7",
   "metadata": {},
   "outputs": [],
   "source": [
    "print('2 all complete')"
   ]
  },
  {
   "cell_type": "markdown",
   "id": "b16e4a21-eb52-4be6-8e06-03e0f75564b1",
   "metadata": {
    "tags": []
   },
   "source": [
    "## 3-7: Areas that parcels are located in (e.g. sa2, aup etc.)  \n",
    "3 - 7 will be done all at once, in a for loop below; but first, load in data and set up parameters.  \n",
    "Parcels often end up overlapping multiple areas; in this case, use the area with the greatest overlap."
   ]
  },
  {
   "cell_type": "code",
   "execution_count": null,
   "id": "f094a969-c4a6-455f-afb3-9120db8834e5",
   "metadata": {},
   "outputs": [],
   "source": [
    "parcels_output['geometry'] = parcels_output['geometry_polygon_2193']\n",
    "parcels_output = parcels_output.set_crs(2193)\n",
    "# gdf will have columns added to it (in the for loop below). Eventually it will be assigned to parcels_output.\n",
    "gdf = parcels_output\n",
    "# set of params to iterate over\n",
    "param_sets = []"
   ]
  },
  {
   "cell_type": "markdown",
   "id": "2ad107de-abd9-4761-8aec-b1f09125c880",
   "metadata": {
    "tags": []
   },
   "source": [
    "### 3. Local Area (LA) Information (information on the LA that the consent is located in): "
   ]
  },
  {
   "cell_type": "markdown",
   "id": "d9d3f597-ec3d-4594-817b-1d5b67652a39",
   "metadata": {},
   "source": [
    "##### a. Name (just the string is fine; I did not generate numeric codes for the local areas generated) **Local_Area_name**"
   ]
  },
  {
   "cell_type": "code",
   "execution_count": null,
   "id": "0f6cbb09-2078-4b79-82ad-e1da7e67e606",
   "metadata": {},
   "outputs": [],
   "source": [
    "LA = gpd.read_file('input/Modified_Community_Boards_SHP.zip').to_crs(parcels_output.crs)\n",
    "LA = LA.rename(columns={'Local_Area': 'Local_Area_name'})\n",
    "LA.sindex\n",
    "\n",
    "param_sets.append(\n",
    "    {\n",
    "        'area_gdf': LA,\n",
    "        'area_code_col': 'Local_Area_name',\n",
    "    }\n",
    ")\n",
    "\n",
    "LA.sample(3)"
   ]
  },
  {
   "cell_type": "markdown",
   "id": "6e0ca7f7-2abd-44ef-972c-061c14082a37",
   "metadata": {
    "tags": []
   },
   "source": [
    "### 4. 2018 Statistical Area 2 Information (information on the 2018SA2 that the consent is located in)"
   ]
  },
  {
   "cell_type": "markdown",
   "id": "f8f587b5-f5c0-412a-bd82-08f8a9cb0556",
   "metadata": {
    "tags": []
   },
   "source": [
    "##### a. Name (string) **SA22018_name**\n",
    "##### b. Numeric code **SA22018_code**"
   ]
  },
  {
   "cell_type": "code",
   "execution_count": null,
   "id": "8829212f-8607-4155-b5c1-e45d5b2b78e6",
   "metadata": {},
   "outputs": [],
   "source": [
    "sa2 = gpd.read_file('input/statsnzstatistical-area-2-higher-geographies-2018-clipped-generalis-FGDB.zip!statistical-area-2-higher-geographies-2018-clipped-generalis.gdb').to_crs(parcels_output.crs)\n",
    "sa2 = sa2.cx[parcels_output.total_bounds[0]:parcels_output.total_bounds[2], parcels_output.total_bounds[1]:parcels_output.total_bounds[3]]\n",
    "sa2 = sa2.rename(columns={'SA22018_V1_00': 'SA22018_code', 'SA22018_V1_00_NAME': 'SA22018_name'})\n",
    "sa2.sindex\n",
    "\n",
    "param_sets.append(\n",
    "    {\n",
    "        'area_gdf': sa2,\n",
    "        'area_code_col': 'SA22018_code',\n",
    "        'area_name_col': 'SA22018_name'\n",
    "    }\n",
    ")\n",
    "\n",
    "sa2.sample(3)"
   ]
  },
  {
   "cell_type": "markdown",
   "id": "40add55a-cb81-4614-a2b4-8a7527cfffcb",
   "metadata": {
    "tags": []
   },
   "source": [
    "### 5. Area Unit Information (information on the 2013AU  that the consent is located in):"
   ]
  },
  {
   "cell_type": "markdown",
   "id": "edae94fe-8740-41ef-9e82-924877cc5dcf",
   "metadata": {
    "tags": []
   },
   "source": [
    "##### a. Name (string) **AU2013_name**\n",
    "##### b. Numeric code **AU2013_code**"
   ]
  },
  {
   "cell_type": "code",
   "execution_count": null,
   "id": "ebe5fb40-456b-4dde-a675-cd4211f731a1",
   "metadata": {},
   "outputs": [],
   "source": [
    "au2013 = gpd.read_file('input/area-unit-2013.gdb.zip').to_crs(parcels_output.crs)\n",
    "au2013 = au2013.cx[parcels_output.total_bounds[0]:parcels_output.total_bounds[2], parcels_output.total_bounds[1]:parcels_output.total_bounds[3]]\n",
    "au2013 = au2013.rename(columns={'AU2013_V1_00': 'AU2013_code', 'AU2013_V1_00_NAME': 'AU2013_name'})\n",
    "au2013.sindex\n",
    "\n",
    "param_sets.append(\n",
    "    {\n",
    "        'area_gdf': au2013,\n",
    "        'area_code_col': 'AU2013_code',\n",
    "        'area_name_col': 'AU2013_name'\n",
    "    }\n",
    ")\n",
    "\n",
    "au2013.sample(3)"
   ]
  },
  {
   "cell_type": "markdown",
   "id": "f57b4c96-d27d-456c-b933-7e96acc7d101",
   "metadata": {
    "tags": []
   },
   "source": [
    "### 6. 2018 Meshblock Information (information on the 2018MB  that the consent is located in):"
   ]
  },
  {
   "cell_type": "markdown",
   "id": "dc3b37d3-46ba-4876-8cfc-cfe8e5779994",
   "metadata": {},
   "source": [
    "##### a. Code **MB2018_code**"
   ]
  },
  {
   "cell_type": "code",
   "execution_count": null,
   "id": "b325547f-b845-4c84-adc6-cf2ab38a0dcb",
   "metadata": {},
   "outputs": [],
   "source": [
    "mb2018 = gpd.read_file('input/meshblock-2018-clipped-generalised.gdb.zip').to_crs(parcels_output.crs)\n",
    "mb2018 = mb2018.cx[parcels_output.total_bounds[0]:parcels_output.total_bounds[2], parcels_output.total_bounds[1]:parcels_output.total_bounds[3]]\n",
    "mb2018 = mb2018.rename(columns={'MB2018_V1_00': 'MB2018_code'})\n",
    "mb2018.sindex\n",
    "\n",
    "param_sets.append(\n",
    "    {\n",
    "        'area_gdf': mb2018,\n",
    "        'area_code_col': 'MB2018_code'\n",
    "    }\n",
    ")\n",
    "\n",
    "mb2018.sample(3)"
   ]
  },
  {
   "cell_type": "markdown",
   "id": "ef46d1e2-900b-49e2-93ce-d25a8d328ae1",
   "metadata": {
    "tags": []
   },
   "source": [
    "### 7. 2013 Meshblock Information (information on the 2013MB  that the consent is located in):"
   ]
  },
  {
   "cell_type": "markdown",
   "id": "5568a93a-53f0-438a-89be-04a1cbb76420",
   "metadata": {},
   "source": [
    "##### a. Code **MB2013_code**"
   ]
  },
  {
   "cell_type": "code",
   "execution_count": null,
   "id": "99ca3cb3-9f02-40c3-930f-41386a302706",
   "metadata": {},
   "outputs": [],
   "source": [
    "mb2013 = gpd.read_file('input/meshblock-2013.gdb.zip').to_crs(parcels_output.crs)\n",
    "mb2013 = mb2013.cx[parcels_output.total_bounds[0]:parcels_output.total_bounds[2], parcels_output.total_bounds[1]:parcels_output.total_bounds[3]]\n",
    "mb2013 = mb2013.rename(columns={'MeshblockNumber': 'MB2013_code'})\n",
    "mb2013.sindex\n",
    "\n",
    "param_sets.append(\n",
    "    {\n",
    "        'area_gdf': mb2013,\n",
    "        'area_code_col': 'MB2013_code'\n",
    "    } \n",
    ")\n",
    "\n",
    "mb2013.sample(3)"
   ]
  },
  {
   "cell_type": "code",
   "execution_count": null,
   "id": "a641bea8-dfcc-4fb3-aa0a-cc5cf3e59631",
   "metadata": {},
   "outputs": [],
   "source": [
    "print('3-7 reading files complete')\n",
    "print(time.time() - last, 'seconds')\n",
    "last = time.time()\n",
    "print()"
   ]
  },
  {
   "cell_type": "markdown",
   "id": "f8ca8730-3720-459b-9703-fe3ae1d63f34",
   "metadata": {
    "tags": []
   },
   "source": [
    "## 3 - 7. perform the joins"
   ]
  },
  {
   "cell_type": "code",
   "execution_count": null,
   "id": "1a5371c7-4101-4c69-bb34-5ef193f0a870",
   "metadata": {},
   "outputs": [],
   "source": [
    "for params in param_sets:\n",
    "    area_gdf = params['area_gdf']\n",
    "    area_code_col = params['area_code_col']\n",
    "    area_name_col = params.get('area_name_col')\n",
    "    \n",
    "    print('adding', area_code_col)\n",
    "    \n",
    "    # join\n",
    "    keep_cols = ([area_name_col] if area_name_col else []) + [area_code_col]\n",
    "    joined = gpd.sjoin(gdf.drop(keep_cols, errors='ignore', axis=1), area_gdf[keep_cols + ['geometry']], how='left').drop(columns=['index_right'])\n",
    "\n",
    "    # find how many times each index value appears\n",
    "    # more than one appearence indicates more than one area has been matched\n",
    "    n_matched = joined.index.value_counts()\n",
    "    # get indices with more than one match\n",
    "    ambiguous_idx = n_matched[n_matched > 1].index\n",
    "\n",
    "    print(len(ambiguous_idx), 'parcels matched to multiple areas')\n",
    "\n",
    "    def find_greatest_area_match(idx):\n",
    "        \"\"\"find the overlapping area with the greatest area\"\"\"\n",
    "        # get the corresponding parcel\n",
    "        parcel = gdf.loc[[idx]][['geometry']]\n",
    "        # get the matching areas\n",
    "        matching = area_gdf[area_gdf[area_code_col].isin(joined.loc[idx][area_code_col])]\n",
    "        # break into distinct regions\n",
    "        overlaid = gpd.overlay(parcel, matching)\n",
    "        if area_name_col:\n",
    "            return overlaid.loc[np.argmax(overlaid.area)][area_code_col], overlaid.loc[np.argmax(overlaid.area)][area_name_col]\n",
    "        return overlaid.loc[np.argmax(overlaid.area)][area_code_col]\n",
    "\n",
    "    area_matches = process_map(find_greatest_area_match, ambiguous_idx, max_workers=max_workers, chunksize=10)\n",
    "\n",
    "    # keep first row of groups of duplicates indexes\n",
    "    joined = joined[~joined.index.duplicated(keep='first')]\n",
    "    # replace area code with that with largest overlap\n",
    "    \n",
    "    if area_name_col:\n",
    "        joined.loc[ambiguous_idx, area_code_col] = [a[0] for a in area_matches]\n",
    "        joined.loc[ambiguous_idx, area_name_col] = [a[1] for a in area_matches]\n",
    "    else:\n",
    "        joined.loc[ambiguous_idx, area_code_col] = area_matches\n",
    "    \n",
    "    gdf = joined\n",
    "    \n",
    "    print()\n",
    "    # store ambiguous idx for later, e.g. plotting\n",
    "    params['ambiguous_idx'] = ambiguous_idx"
   ]
  },
  {
   "cell_type": "code",
   "execution_count": null,
   "id": "bd1078a9-a959-4eb3-a1a8-028ff39c9177",
   "metadata": {},
   "outputs": [],
   "source": [
    "original_parcels_output = parcels_output.copy()\n",
    "parcels_output = gdf"
   ]
  },
  {
   "cell_type": "code",
   "execution_count": null,
   "id": "eaa9164f-afe8-4f71-9c1a-7f9427b6cdfe",
   "metadata": {},
   "outputs": [],
   "source": [
    "# red outline: parcel\n",
    "# hatched: largest overlapping area\n",
    "# others: other areas that intersect the parcel\n",
    "params = param_sets[np.random.randint(len(param_sets))]\n",
    "ambiguous_idx = params['ambiguous_idx']\n",
    "area_gdf = params['area_gdf']\n",
    "area_code_col = params['area_code_col']\n",
    "\n",
    "plot_idx = ambiguous_idx[np.random.randint(len(ambiguous_idx))]\n",
    "plot_gdf = gdf.loc[[plot_idx]]\n",
    "plot_mb = gpd.sjoin(params['area_gdf'][[params['area_code_col'], 'geometry']], plot_gdf[['geometry']]).drop(columns=['index_right'])\n",
    "\n",
    "plot_bounds = plot_gdf.buffer(100).total_bounds\n",
    "\n",
    "ax = area_gdf[area_gdf[area_code_col] == gdf.loc[plot_idx][area_code_col]].plot(facecolor='None',hatch= \"///\")\n",
    "plot_gdf.boundary.plot(color='red', ax=ax)\n",
    "\n",
    "plot_mb.boundary.plot(ax=ax, alpha=0.3)\n",
    "plot_mb.plot(ax=ax, column=area_code_col, legend=True, alpha=0.3)\n",
    "\n",
    "plt.xlim((plot_bounds[0], plot_bounds[2]))\n",
    "plt.ylim((plot_bounds[1], plot_bounds[3]))\n",
    "plt.title(area_code_col)\n",
    "# ctx.add_basemap(ax, crs=plot_gdf.crs, source=ctx.providers.Esri.WorldImagery)\n",
    "plt.draw()"
   ]
  },
  {
   "cell_type": "code",
   "execution_count": null,
   "id": "b141ffb6-ef60-49a2-a2a2-11987bb63b1f",
   "metadata": {},
   "outputs": [],
   "source": [
    "print('3-7 complete')\n",
    "print(time.time() - last, 'seconds')\n",
    "last = time.time()\n",
    "print()"
   ]
  },
  {
   "cell_type": "markdown",
   "id": "3021f0b5-a34d-480d-ba4e-04ead8ab08c8",
   "metadata": {
    "tags": []
   },
   "source": [
    "## 8. Additional distance information from consent location  \n",
    "For these distance calculations, use EPSG 2193 (less distortion)."
   ]
  },
  {
   "cell_type": "code",
   "execution_count": null,
   "id": "51d9a1f6-211c-48d0-88de-8bd8abfdfd71",
   "metadata": {},
   "outputs": [],
   "source": [
    "parcels_output['geometry'] = parcels_output['geometry_centroid_2193']\n",
    "parcels_output = parcels_output.set_crs(2193)"
   ]
  },
  {
   "cell_type": "markdown",
   "id": "6cb60000-05f5-451e-b496-ef7feabae7f0",
   "metadata": {},
   "source": [
    "#### a. Minimum Haversine distance to coastline **Hdist_coast**  \n",
    "There are a few different datasets that could be used for this:  \n",
    "    - NZ Coastlines (Topo 1:50k) https://data.linz.govt.nz/layer/50258-nz-coastlines-topo-150k/\n",
    "    - NZ Coastline - mean high water https://data.linz.govt.nz/layer/105085-nz-coastline-mean-high-water/\n",
    "    - NZ Coastlines and Islands Polygons (Topo 1:50k) https://data.linz.govt.nz/layer/51153-nz-coastlines-and-islands-polygons-topo-150k/  \n",
    "\n",
    "The first doesn't have islands (e.g. Waiheke).  \n",
    "The second is probably most appropriate."
   ]
  },
  {
   "cell_type": "code",
   "execution_count": null,
   "id": "fd8e4a6b-9b17-4dcb-ab27-2412e949a120",
   "metadata": {},
   "outputs": [],
   "source": [
    "# %%time\n",
    "coastline = gpd.read_file('input/lds-nz-coastline-mean-high-water-FGDB.zip!nz-coastline-mean-high-water.gdb').to_crs(2193)\n",
    "coastline = coastline.cx[parcels_output.total_bounds[0]:parcels_output.total_bounds[2], parcels_output.total_bounds[1]:parcels_output.total_bounds[3]]\n",
    "\n",
    "coastline_dissolved = coastline.dissolve()"
   ]
  },
  {
   "cell_type": "code",
   "execution_count": null,
   "id": "bdd5493a-a93d-40ab-a450-1c65d58c248f",
   "metadata": {},
   "outputs": [],
   "source": [
    "# %%time\n",
    "def extract_coastal_dist(geom):\n",
    "    return geom.distance(coastline_dissolved.geometry[0])\n",
    "\n",
    "parcels_output['Hdist_coast'] = process_map(extract_coastal_dist, parcels_output.geometry, max_workers=max_workers, chunksize=10)"
   ]
  },
  {
   "cell_type": "code",
   "execution_count": null,
   "id": "aec0f400-2329-4993-a093-fb32eb46be47",
   "metadata": {},
   "outputs": [],
   "source": [
    "# if distance work, then red circles should extend to the nearest coastline, and no further\n",
    "subsample = parcels_output.sample(10)\n",
    "subsample['coast_buffer'] = subsample.apply(lambda x: x.geometry.buffer(x.Hdist_coast), axis=1)\n",
    "subsample['geometry'] = subsample['coast_buffer']\n",
    "ax = subsample.plot(color='red', alpha=0.4)\n",
    "coastline.cx[1.7e6:1.8e6, 5.85e6:5.97e6].plot(ax=ax)"
   ]
  },
  {
   "cell_type": "code",
   "execution_count": null,
   "id": "0fe8eecf-a360-4750-9903-204fe9edcada",
   "metadata": {},
   "outputs": [],
   "source": [
    "print('8a complete')\n",
    "print(time.time() - last, 'seconds')\n",
    "last = time.time()\n",
    "print()"
   ]
  },
  {
   "cell_type": "markdown",
   "id": "ddb1d218-5e9f-4b4c-ac41-366c45191f27",
   "metadata": {},
   "source": [
    "##### b. Minimum Haversinedistance to Open Space(set of AUP Zones) **Hdist_open**"
   ]
  },
  {
   "cell_type": "markdown",
   "id": "526c4736-698d-426f-a641-042a6c4baa0a",
   "metadata": {},
   "source": [
    "##### c. Minimum Haversine distance to motorway **Hdist_motorway**\n",
    "##### d. Minimum Haversine distance to main arterial road **Hdist_main_road**"
   ]
  },
  {
   "cell_type": "code",
   "execution_count": null,
   "id": "8a5573ae-e726-4628-a649-56daaf8cdf2b",
   "metadata": {},
   "outputs": [],
   "source": [
    "parcels_output['geometry'] = parcels_output['geometry_centroid_2193']\n",
    "parcels_output = parcels_output.set_crs(2193)"
   ]
  },
  {
   "cell_type": "code",
   "execution_count": null,
   "id": "a889aa05-ac90-4bb3-a71a-2f3500dee242",
   "metadata": {},
   "outputs": [],
   "source": [
    "roads = gpd.read_file('input/lds-nz-road-centrelines-topo-150k-FGDB.zip!nz-road-centrelines-topo-150k.gdb').to_crs(2193)\n",
    "roads = roads.cx[parcels_output.total_bounds[0]:parcels_output.total_bounds[2], parcels_output.total_bounds[1]:parcels_output.total_bounds[3]]\n",
    "highways = roads[~roads.hway_num.isna()]\n",
    "highways_dissolved = highways.dissolve()\n",
    "arterial_roads = gpd.read_file('input/2016_aup.zip!2016_Unitary_Plan_operational_15Nov/UP_OIP_15Nov2016_SHP/MASTER_UP_ArterialRoad.shp').to_crs(2193)\n",
    "arterial_roads_dissolved = arterial_roads.dissolve()"
   ]
  },
  {
   "cell_type": "code",
   "execution_count": null,
   "id": "7b2b65a1-bcc8-41af-8ea8-be63de393475",
   "metadata": {},
   "outputs": [],
   "source": [
    "ax = highways.plot()\n",
    "arterial_roads.plot(ax=ax, color='red')\n",
    "ctx.add_basemap(ax, crs=arterial_roads.crs)"
   ]
  },
  {
   "cell_type": "code",
   "execution_count": null,
   "id": "4dfef20d-a71a-477d-a076-22d5032fb547",
   "metadata": {},
   "outputs": [],
   "source": [
    "def extract_highway_dist(geom):\n",
    "    return geom.distance(highways_dissolved.geometry[0])\n",
    "\n",
    "def extract_main_road_dist(geom):\n",
    "    return geom.distance(arterial_roads_dissolved.geometry[0])\n",
    "\n",
    "# parcels_output['Hdist_motorway'] = parcels_output.progress_apply(lambda x: x.geometry.distance(highways_dissolved.geometry[0]), axis=1)\n",
    "parcels_output['Hdist_motorway'] = process_map(extract_highway_dist, parcels_output.geometry, max_workers=max_workers, chunksize=10)\n",
    "# parcels_output['Hdist_main_road'] = parcels_output.progress_apply(lambda x: x.geometry.distance(arterial_roads_dissolved.geometry[0]), axis=1)\n",
    "parcels_output['Hdist_main_road'] = process_map(extract_main_road_dist, parcels_output.geometry, max_workers=max_workers, chunksize=10)"
   ]
  },
  {
   "cell_type": "code",
   "execution_count": null,
   "id": "bae7ee47-4cc6-412e-a8d8-16192b8b6cfa",
   "metadata": {},
   "outputs": [],
   "source": [
    "# if distance work, then red circles should extend to the nearest coastline, and no further\n",
    "subsample = parcels_output.sample(10)\n",
    "subsample['highway_buffer'] = subsample.apply(lambda x: x.geometry.buffer(x.Hdist_motorway), axis=1)\n",
    "subsample['geometry'] = subsample['highway_buffer']\n",
    "ax = subsample.plot(color='red', alpha=0.4)\n",
    "highways.plot(ax=ax)"
   ]
  },
  {
   "cell_type": "code",
   "execution_count": null,
   "id": "75889a7c-cce0-44e7-a8f9-3a482b4bc950",
   "metadata": {},
   "outputs": [],
   "source": [
    "print('8bcd complete')\n",
    "print(time.time() - last, 'seconds')\n",
    "last = time.time()\n",
    "print()"
   ]
  },
  {
   "cell_type": "markdown",
   "id": "ccf28811-6e91-4db1-997f-2a5eb748f310",
   "metadata": {},
   "source": [
    "##### e. Minimum Haversine distance to rail line **Hdist_rail**"
   ]
  },
  {
   "cell_type": "code",
   "execution_count": null,
   "id": "6bf671ac-c94a-435e-a227-ae8d1cc74811",
   "metadata": {},
   "outputs": [],
   "source": [
    "railroads = gpd.read_file('input/lds-nz-railway-centrelines-topo-150k-SHP.zip').to_crs(2193)\n",
    "railroads = railroads.cx[parcels_output.total_bounds[0]:parcels_output.total_bounds[2], parcels_output.total_bounds[1]:parcels_output.total_bounds[3]]\n",
    "railroads_dissolved = railroads.dissolve()"
   ]
  },
  {
   "cell_type": "code",
   "execution_count": null,
   "id": "f1d80df9-9f0a-4f83-b519-358b7d690686",
   "metadata": {},
   "outputs": [],
   "source": [
    "parcels_output['geometry'] = parcels_output['geometry_centroid_2193']\n",
    "parcels_output = parcels_output.set_crs(2193)\n",
    "def get_rail_distance(geom):\n",
    "    return geom.distance(railroads_dissolved.geometry[0])\n",
    "\n",
    "parcels_output['Hdist_rail'] = process_map(get_rail_distance, parcels_output.geometry, max_workers=max_workers, chunksize=10)"
   ]
  },
  {
   "cell_type": "code",
   "execution_count": null,
   "id": "0ca5fdc0-160b-4ec0-ac38-201f56100c8c",
   "metadata": {},
   "outputs": [],
   "source": [
    "subsample = parcels_output.sample(10)\n",
    "subsample['rail_buffer'] = subsample.apply(lambda x: x.geometry.buffer(x.Hdist_rail), axis=1)\n",
    "subsample['geometry'] = subsample['rail_buffer']\n",
    "ax = subsample.plot(color='red', alpha=0.4)\n",
    "railroads_dissolved.plot(ax=ax)\n",
    "ctx.add_basemap(ax, crs=subsample.crs)"
   ]
  },
  {
   "cell_type": "code",
   "execution_count": null,
   "id": "9f480efd-7c02-4651-b97e-213a75c5f3cc",
   "metadata": {},
   "outputs": [],
   "source": [
    "print('8e complete')\n",
    "print(time.time() - last, 'seconds')\n",
    "last = time.time()\n",
    "print()"
   ]
  },
  {
   "cell_type": "markdown",
   "id": "d6f7bd17-70d5-4eff-8d43-2088092fd779",
   "metadata": {},
   "source": [
    "##### f. Haversine distance to downtown (use Skytower coordinates) **Hdist_skytower**"
   ]
  },
  {
   "cell_type": "code",
   "execution_count": null,
   "id": "de527b70-4441-4cdb-990f-0610a86afc4c",
   "metadata": {},
   "outputs": [],
   "source": [
    "skytower = [-36.84838748948485, 174.7621736911587]\n",
    "skytower = gpd.points_from_xy(x=[skytower[1]], y=[skytower[0]])\n",
    "skytower = gpd.GeoDataFrame([{\"name\": \"Skytower\", \"value\": 1}], geometry=skytower, crs=\"EPSG:4326\").to_crs(epsg=2193)"
   ]
  },
  {
   "cell_type": "code",
   "execution_count": null,
   "id": "1e4866a6-5405-4828-af0c-e38c75b66912",
   "metadata": {},
   "outputs": [],
   "source": [
    "parcels_output['geometry'] = parcels_output['geometry_centroid_2193']\n",
    "parcels_output = parcels_output.set_crs(2193)\n",
    "\n",
    "def get_skytower_distance(geom):\n",
    "    return geom.distance(skytower.geometry[0])\n",
    "\n",
    "parcels_output['Hdist_skytower'] = process_map(get_skytower_distance, parcels_output.geometry, max_workers=max_workers, chunksize=10)"
   ]
  },
  {
   "cell_type": "code",
   "execution_count": null,
   "id": "7d3446c6-aa63-47ba-83ba-00987c9c3647",
   "metadata": {
    "tags": []
   },
   "outputs": [],
   "source": [
    "# if distance works, then red circles should extend to the nearest sky tower, and no further\n",
    "subsample = parcels_output.sample(10)\n",
    "subsample['skytower_buffer'] = subsample.apply(lambda x: x.geometry.buffer(x.Hdist_skytower), axis=1)\n",
    "subsample['geometry'] = subsample['skytower_buffer']\n",
    "ax = subsample.plot(color='red', alpha=0.2)\n",
    "skytower.plot(ax=ax, color='black')\n",
    "ctx.add_basemap(ax, crs=parcels_output.crs)"
   ]
  },
  {
   "cell_type": "code",
   "execution_count": null,
   "id": "984aa30d-40e0-4642-9210-c170c9ad2b2e",
   "metadata": {},
   "outputs": [],
   "source": [
    "print('8f complete')\n",
    "print(time.time() - last, 'seconds')\n",
    "last = time.time()\n",
    "print()"
   ]
  },
  {
   "cell_type": "markdown",
   "id": "3ff555e2-0cf5-45cc-a464-61883754ece9",
   "metadata": {
    "tags": []
   },
   "source": [
    "## 9. Special Housing Area (SpHAs)\n",
    "Indicator (1 or 0) for consent located in SpHAs **SpHA_indicator**  \n",
    "Note: here I've used centroids. Maybe should use parcel polygons instead."
   ]
  },
  {
   "cell_type": "code",
   "execution_count": null,
   "id": "e7421e49-edfb-42e6-97af-8debf702325d",
   "metadata": {
    "tags": []
   },
   "outputs": [],
   "source": [
    "spha = gpd.read_file('input/AC_Special_Housing_Area.zip').to_crs(2193)\n",
    "spha_dissolved = spha.dissolve()\n",
    "assert(len(spha_dissolved) == 1)"
   ]
  },
  {
   "cell_type": "code",
   "execution_count": null,
   "id": "3b385e0a-68f1-4077-b7e9-9efdad558e36",
   "metadata": {},
   "outputs": [],
   "source": [
    "# %%time\n",
    "parcels_output['geometry'] = parcels_output['geometry_centroid_2193']\n",
    "parcels_output = parcels_output.set_crs(2193)\n",
    "\n",
    "def get_spha_indicator(geom):\n",
    "    return spha_dissolved.geometry.contains(geom)[0]\n",
    "\n",
    "parcels_output['SpHA_indicator'] = process_map(get_spha_indicator, parcels_output.geometry, max_workers=max_workers, chunksize=10)"
   ]
  },
  {
   "cell_type": "code",
   "execution_count": null,
   "id": "d4643e6e-0c8d-4240-99be-be98dd490144",
   "metadata": {},
   "outputs": [],
   "source": [
    "subsample = parcels_output.sample(min(500, len(parcels_output)))\n",
    "ax=subsample.plot(column='SpHA_indicator')\n",
    "plt.ylim((5.89e6, 5.95e6))\n",
    "plt.xlim((1.73e6, 1.78e6))\n",
    "spha_dissolved.boundary.plot(ax=ax)\n",
    "ctx.add_basemap(ax, crs=spha_dissolved.crs)"
   ]
  },
  {
   "cell_type": "code",
   "execution_count": null,
   "id": "b2874e7c-5451-4f3c-a521-69480d364934",
   "metadata": {},
   "outputs": [],
   "source": [
    "print('9 complete')\n",
    "print(time.time() - last, 'seconds')\n",
    "last = time.time()\n",
    "print()"
   ]
  },
  {
   "cell_type": "markdown",
   "id": "c82fca06-02ee-4d55-ab84-f1e60e36a908",
   "metadata": {
    "tags": []
   },
   "source": [
    "## Save"
   ]
  },
  {
   "cell_type": "code",
   "execution_count": null,
   "id": "6f559240-0773-49ba-9ce0-23f2b9f8c05e",
   "metadata": {},
   "outputs": [],
   "source": [
    "orginal_columns"
   ]
  },
  {
   "cell_type": "code",
   "execution_count": null,
   "id": "6d2c8e6b-9c89-4639-a0a1-f67ee1fccc29",
   "metadata": {},
   "outputs": [],
   "source": [
    "parcels_output['geometry'] = parcels_output.geometry_polygon_4326\n",
    "parcels_output = parcels_output.set_crs(4326)"
   ]
  },
  {
   "cell_type": "code",
   "execution_count": null,
   "id": "466ab571-1dab-4bc0-88b3-1a66e6986eb3",
   "metadata": {},
   "outputs": [],
   "source": [
    "parcels_output.drop(orginal_columns, axis=1, errors='ignore').to_csv('output/parcels_phase0.csv')\n",
    "# errors out because some entries are lists:\n",
    "# parcels_output.drop([c for c in orginal_columns if c != 'geometry'], axis=1, errors='ignore').to_file('parcels_phase0.gpkg', driver='GPKG')"
   ]
  },
  {
   "cell_type": "code",
   "execution_count": null,
   "id": "21451548-863a-488c-8d3f-f0a0abb8eaeb",
   "metadata": {},
   "outputs": [],
   "source": [
    "from datetime import timedelta\n",
    "end = time.time()\n",
    "elapsed = end - start\n",
    "print('total execution time:', elapsed)\n",
    "str(timedelta(seconds=elapsed))"
   ]
  },
  {
   "cell_type": "code",
   "execution_count": null,
   "id": "f624a03f-9b75-441f-bcd6-9f76404bac0f",
   "metadata": {},
   "outputs": [],
   "source": [
    "print('saving complete')"
   ]
  },
  {
   "cell_type": "markdown",
   "id": "f7cc4259-40a8-4128-855a-f2ed65ffdc0d",
   "metadata": {
    "tags": []
   },
   "source": [
    "## 10. Ranged Address Indicator"
   ]
  },
  {
   "cell_type": "markdown",
   "id": "6d2138f5-d0e0-41c4-a42b-57b2b9487471",
   "metadata": {
    "tags": []
   },
   "source": [
    "## 11. Matching Type Indicators\n",
    "##### a. LINZ_MATCH_CODE\n",
    "##### b. LINZ_2ND_MATCH_CODE"
   ]
  }
 ],
 "metadata": {
  "kernelspec": {
   "display_name": "Python 3",
   "language": "python",
   "name": "python3"
  },
  "language_info": {
   "codemirror_mode": {
    "name": "ipython",
    "version": 3
   },
   "file_extension": ".py",
   "mimetype": "text/x-python",
   "name": "python",
   "nbconvert_exporter": "python",
   "pygments_lexer": "ipython3",
   "version": "3.9.7"
  }
 },
 "nbformat": 4,
 "nbformat_minor": 5
}
