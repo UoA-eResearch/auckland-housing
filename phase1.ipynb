{
 "cells": [
  {
   "cell_type": "code",
   "execution_count": 1,
   "id": "2793527c-e71d-4f1a-829f-a5943ea05ed0",
   "metadata": {},
   "outputs": [],
   "source": [
    "import numpy as np\n",
    "import pandas as pd\n",
    "import geopandas as gpd\n",
    "import fiona\n",
    "import glob\n",
    "import os\n",
    "import contextily as ctx\n",
    "from scipy.spatial import cKDTree\n",
    "from shapely.geometry import Point\n",
    "import json\n",
    "from tqdm.auto import tqdm\n",
    "pd.set_option('min_rows', 30)\n",
    "import sys\n",
    "sys.path.append('..')\n",
    "from importlib import reload\n",
    "# import src.utils as utils\n",
    "# reload(utils)\n",
    "import matplotlib.pyplot as plt\n",
    "plt.rcParams['figure.figsize'] = (12, 12)\n",
    "pd.set_option('display.max_columns', None)\n",
    "pd.set_option('display.max_rows', 10)"
   ]
  },
  {
   "cell_type": "markdown",
   "id": "edcdb93c-aa0c-4c00-bc54-fc115c5a378f",
   "metadata": {},
   "source": [
    "## Setup"
   ]
  },
  {
   "cell_type": "code",
   "execution_count": null,
   "id": "5edc2a26-7426-43be-9f28-9532dc0b271f",
   "metadata": {},
   "outputs": [],
   "source": [
    "%%time\n",
    "parcels = gpd.read_file('input/lds-nz-primary-parcels-CLIPPED-4326.gpkg')"
   ]
  },
  {
   "cell_type": "code",
   "execution_count": 80,
   "id": "867ff91a-fe90-4048-9c98-b26edfc0ad7b",
   "metadata": {},
   "outputs": [],
   "source": [
    "parcels_sample = parcels.sample(10000)"
   ]
  },
  {
   "cell_type": "code",
   "execution_count": 81,
   "id": "3eb42213-de8c-433f-ae93-29b7026d0132",
   "metadata": {},
   "outputs": [
    {
     "name": "stderr",
     "output_type": "stream",
     "text": [
      "<ipython-input-81-9e0513578c82>:2: UserWarning: Geometry is in a geographic CRS. Results from 'centroid' are likely incorrect. Use 'GeoSeries.to_crs()' to re-project geometries to a projected CRS before this operation.\n",
      "\n",
      "  parcels_sample['geometry_centroid'] = parcels_sample.geometry.centroid\n"
     ]
    }
   ],
   "source": [
    "# keep a centroid and polygon version - change between according to need\n",
    "parcels_sample['geometry_centroid'] = parcels_sample.geometry.centroid\n",
    "parcels_sample['geometry_polygon'] = parcels_sample.geometry"
   ]
  },
  {
   "cell_type": "markdown",
   "id": "bd404566-f933-4c50-824a-879cbe5393cf",
   "metadata": {
    "tags": []
   },
   "source": [
    "## 3. Local Area (LA) Information (information on the LA that the consent is located in): "
   ]
  },
  {
   "cell_type": "markdown",
   "id": "d9d3f597-ec3d-4594-817b-1d5b67652a39",
   "metadata": {},
   "source": [
    "#### a. Name (just the string is fine; I did not generate numeric codes for the local areas generated) **Local_Area_name**"
   ]
  },
  {
   "cell_type": "code",
   "execution_count": null,
   "id": "0f6cbb09-2078-4b79-82ad-e1da7e67e606",
   "metadata": {},
   "outputs": [],
   "source": []
  },
  {
   "cell_type": "markdown",
   "id": "6e0ca7f7-2abd-44ef-972c-061c14082a37",
   "metadata": {
    "tags": []
   },
   "source": [
    "## 4. 2018 Statistical Area 2 Information (information on the 2018SA2 that the consent is located in)"
   ]
  },
  {
   "cell_type": "markdown",
   "id": "f8f587b5-f5c0-412a-bd82-08f8a9cb0556",
   "metadata": {
    "tags": []
   },
   "source": [
    "#### a. Name (string) **SA22018_name**\n",
    "#### b. Numeric code **SA22018_code**"
   ]
  },
  {
   "cell_type": "code",
   "execution_count": 11,
   "id": "8829212f-8607-4155-b5c1-e45d5b2b78e6",
   "metadata": {},
   "outputs": [],
   "source": [
    "sa2 = gpd.read_file('NZ-SA/statistical-area-2-2020-generalised.gdb').to_crs(4326)\n",
    "sa2.sample(3)"
   ]
  },
  {
   "cell_type": "code",
   "execution_count": 82,
   "id": "6b465d21-46c8-44ea-ad39-b925305cf556",
   "metadata": {},
   "outputs": [
    {
     "name": "stdout",
     "output_type": "stream",
     "text": [
      "CPU times: user 8.29 s, sys: 3.88 ms, total: 8.29 s\n",
      "Wall time: 8.29 s\n"
     ]
    }
   ],
   "source": [
    "%%time\n",
    "parcels_sample['geometry'] = parcels_sample['geometry_centroid']\n",
    "parcels_sample = gpd.sjoin(parcels_sample, sa2[['SA22020_V1_00_NAME', 'SA22020_V1_00', 'geometry']]).drop(columns=['index_right'])\n",
    "parcels_sample = parcels_sample.rename(columns={'SA22020_V1_00_NAME': 'SA22018_name', 'SA22020_V1_00': 'SA22018_code'})"
   ]
  },
  {
   "cell_type": "markdown",
   "id": "40add55a-cb81-4614-a2b4-8a7527cfffcb",
   "metadata": {
    "tags": []
   },
   "source": [
    "## 5. Area Unit Information (information on the 2013AU  that the consent is located in):"
   ]
  },
  {
   "cell_type": "markdown",
   "id": "edae94fe-8740-41ef-9e82-924877cc5dcf",
   "metadata": {
    "tags": []
   },
   "source": [
    "#### a. Name (string) **AU2013_name**\n",
    "#### b. Numeric code **AU2013_code**"
   ]
  },
  {
   "cell_type": "code",
   "execution_count": 101,
   "id": "ebe5fb40-456b-4dde-a675-cd4211f731a1",
   "metadata": {},
   "outputs": [
    {
     "data": {
      "text/html": [
       "<div>\n",
       "<style scoped>\n",
       "    .dataframe tbody tr th:only-of-type {\n",
       "        vertical-align: middle;\n",
       "    }\n",
       "\n",
       "    .dataframe tbody tr th {\n",
       "        vertical-align: top;\n",
       "    }\n",
       "\n",
       "    .dataframe thead th {\n",
       "        text-align: right;\n",
       "    }\n",
       "</style>\n",
       "<table border=\"1\" class=\"dataframe\">\n",
       "  <thead>\n",
       "    <tr style=\"text-align: right;\">\n",
       "      <th></th>\n",
       "      <th>AU2013_V1_00</th>\n",
       "      <th>AU2013_V1_00_NAME</th>\n",
       "      <th>AREA_SQ_KM</th>\n",
       "      <th>LAND_AREA_SQ_KM</th>\n",
       "      <th>Shape_Length</th>\n",
       "      <th>geometry</th>\n",
       "    </tr>\n",
       "  </thead>\n",
       "  <tbody>\n",
       "    <tr>\n",
       "      <th>1481</th>\n",
       "      <td>573903</td>\n",
       "      <td>Newlands North</td>\n",
       "      <td>0.804087</td>\n",
       "      <td>0.804087</td>\n",
       "      <td>5958.640337</td>\n",
       "      <td>MULTIPOLYGON (((174.82896 -41.21949, 174.83011...</td>\n",
       "    </tr>\n",
       "    <tr>\n",
       "      <th>958</th>\n",
       "      <td>525202</td>\n",
       "      <td>Kawakawa-Orere</td>\n",
       "      <td>105.216001</td>\n",
       "      <td>105.216001</td>\n",
       "      <td>57437.556145</td>\n",
       "      <td>MULTIPOLYGON (((175.14259 -36.93214, 175.14265...</td>\n",
       "    </tr>\n",
       "    <tr>\n",
       "      <th>608</th>\n",
       "      <td>597102</td>\n",
       "      <td>Inland Water-Lake Ellesmere South</td>\n",
       "      <td>63.304671</td>\n",
       "      <td>0.000000</td>\n",
       "      <td>75233.330853</td>\n",
       "      <td>MULTIPOLYGON (((172.57398 -43.76779, 172.57401...</td>\n",
       "    </tr>\n",
       "  </tbody>\n",
       "</table>\n",
       "</div>"
      ],
      "text/plain": [
       "     AU2013_V1_00                  AU2013_V1_00_NAME  AREA_SQ_KM  \\\n",
       "1481       573903                     Newlands North    0.804087   \n",
       "958        525202                     Kawakawa-Orere  105.216001   \n",
       "608        597102  Inland Water-Lake Ellesmere South   63.304671   \n",
       "\n",
       "      LAND_AREA_SQ_KM  Shape_Length  \\\n",
       "1481         0.804087   5958.640337   \n",
       "958        105.216001  57437.556145   \n",
       "608          0.000000  75233.330853   \n",
       "\n",
       "                                               geometry  \n",
       "1481  MULTIPOLYGON (((174.82896 -41.21949, 174.83011...  \n",
       "958   MULTIPOLYGON (((175.14259 -36.93214, 175.14265...  \n",
       "608   MULTIPOLYGON (((172.57398 -43.76779, 172.57401...  "
      ]
     },
     "execution_count": 101,
     "metadata": {},
     "output_type": "execute_result"
    }
   ],
   "source": [
    "au2013 = gpd.read_file('input/area-unit-2013.gdb.zip').to_crs(4326)\n",
    "au2013.sample(3)"
   ]
  },
  {
   "cell_type": "code",
   "execution_count": 103,
   "id": "6e28cac6-5e04-48fb-95c2-5d2f5852ceae",
   "metadata": {},
   "outputs": [
    {
     "name": "stdout",
     "output_type": "stream",
     "text": [
      "CPU times: user 6.96 s, sys: 0 ns, total: 6.96 s\n",
      "Wall time: 6.96 s\n"
     ]
    }
   ],
   "source": [
    "%%time\n",
    "parcels_sample['geometry'] = parcels_sample['geometry_centroid']\n",
    "parcels_sample = gpd.sjoin(parcels_sample, au2013[['AU2013_V1_00_NAME', 'AU2013_V1_00', 'geometry']]).drop(columns=['index_right'])\n",
    "parcels_sample = parcels_sample.rename(columns={'AU2013_V1_00_NAME': 'AU2013_name', 'AU2013_V1_00': 'AU2013_code'})"
   ]
  },
  {
   "cell_type": "markdown",
   "id": "f57b4c96-d27d-456c-b933-7e96acc7d101",
   "metadata": {
    "tags": []
   },
   "source": [
    "## 6. 2018 Meshblock Information (information on the 2018MB  that the consent is located in):"
   ]
  },
  {
   "cell_type": "markdown",
   "id": "dc3b37d3-46ba-4876-8cfc-cfe8e5779994",
   "metadata": {},
   "source": [
    "#### a. Code **MB2018_code**"
   ]
  },
  {
   "cell_type": "code",
   "execution_count": 100,
   "id": "b325547f-b845-4c84-adc6-cf2ab38a0dcb",
   "metadata": {},
   "outputs": [
    {
     "data": {
      "text/html": [
       "<div>\n",
       "<style scoped>\n",
       "    .dataframe tbody tr th:only-of-type {\n",
       "        vertical-align: middle;\n",
       "    }\n",
       "\n",
       "    .dataframe tbody tr th {\n",
       "        vertical-align: top;\n",
       "    }\n",
       "\n",
       "    .dataframe thead th {\n",
       "        text-align: right;\n",
       "    }\n",
       "</style>\n",
       "<table border=\"1\" class=\"dataframe\">\n",
       "  <thead>\n",
       "    <tr style=\"text-align: right;\">\n",
       "      <th></th>\n",
       "      <th>MB2018_V1_00</th>\n",
       "      <th>LANDWATER</th>\n",
       "      <th>LANDWATER_NAME</th>\n",
       "      <th>LAND_AREA_SQ_KM</th>\n",
       "      <th>AREA_SQ_KM</th>\n",
       "      <th>SHAPE_Length</th>\n",
       "      <th>geometry</th>\n",
       "    </tr>\n",
       "  </thead>\n",
       "  <tbody>\n",
       "    <tr>\n",
       "      <th>52865</th>\n",
       "      <td>4011926</td>\n",
       "      <td>12</td>\n",
       "      <td>Mainland</td>\n",
       "      <td>0.173710</td>\n",
       "      <td>0.173710</td>\n",
       "      <td>2129.422679</td>\n",
       "      <td>MULTIPOLYGON (((174.91945 -36.94519, 174.92053...</td>\n",
       "    </tr>\n",
       "    <tr>\n",
       "      <th>23832</th>\n",
       "      <td>1429800</td>\n",
       "      <td>12</td>\n",
       "      <td>Mainland</td>\n",
       "      <td>0.021918</td>\n",
       "      <td>0.021918</td>\n",
       "      <td>731.394363</td>\n",
       "      <td>MULTIPOLYGON (((176.91682 -39.49291, 176.91702...</td>\n",
       "    </tr>\n",
       "    <tr>\n",
       "      <th>15554</th>\n",
       "      <td>0759520</td>\n",
       "      <td>12</td>\n",
       "      <td>Mainland</td>\n",
       "      <td>0.020695</td>\n",
       "      <td>0.020695</td>\n",
       "      <td>928.355735</td>\n",
       "      <td>MULTIPOLYGON (((174.91840 -37.01411, 174.91871...</td>\n",
       "    </tr>\n",
       "  </tbody>\n",
       "</table>\n",
       "</div>"
      ],
      "text/plain": [
       "      MB2018_V1_00 LANDWATER LANDWATER_NAME  LAND_AREA_SQ_KM  AREA_SQ_KM  \\\n",
       "52865      4011926        12       Mainland         0.173710    0.173710   \n",
       "23832      1429800        12       Mainland         0.021918    0.021918   \n",
       "15554      0759520        12       Mainland         0.020695    0.020695   \n",
       "\n",
       "       SHAPE_Length                                           geometry  \n",
       "52865   2129.422679  MULTIPOLYGON (((174.91945 -36.94519, 174.92053...  \n",
       "23832    731.394363  MULTIPOLYGON (((176.91682 -39.49291, 176.91702...  \n",
       "15554    928.355735  MULTIPOLYGON (((174.91840 -37.01411, 174.91871...  "
      ]
     },
     "execution_count": 100,
     "metadata": {},
     "output_type": "execute_result"
    }
   ],
   "source": [
    "mb2018 = gpd.read_file('input/meshblock-2018-clipped-generalised.gdb.zip').to_crs(4326)\n",
    "mb2018.sample(3)"
   ]
  },
  {
   "cell_type": "code",
   "execution_count": 97,
   "id": "99fe1fcd-c14b-4356-9073-3d9cb15b14ba",
   "metadata": {},
   "outputs": [
    {
     "name": "stdout",
     "output_type": "stream",
     "text": [
      "CPU times: user 11.3 s, sys: 8.2 ms, total: 11.3 s\n",
      "Wall time: 11.3 s\n"
     ]
    }
   ],
   "source": [
    "%%time\n",
    "parcels_sample['geometry'] = parcels_sample['geometry_centroid']\n",
    "parcels_sample = gpd.sjoin(parcels_sample, mb2018[['MB2018_V1_00', 'geometry']]).drop(columns=['index_right'])\n",
    "parcels_sample = parcels_sample.rename(columns={'MB2018_V1_00': 'MB2018_code'})"
   ]
  },
  {
   "cell_type": "markdown",
   "id": "ef46d1e2-900b-49e2-93ce-d25a8d328ae1",
   "metadata": {
    "tags": []
   },
   "source": [
    "## 7. 2013 Meshblock Information (information on the 2013MB  that the consent is located in):"
   ]
  },
  {
   "cell_type": "markdown",
   "id": "5568a93a-53f0-438a-89be-04a1cbb76420",
   "metadata": {},
   "source": [
    "#### a. Code **MB2013_code**"
   ]
  },
  {
   "cell_type": "code",
   "execution_count": 84,
   "id": "99ca3cb3-9f02-40c3-930f-41386a302706",
   "metadata": {},
   "outputs": [],
   "source": [
    "mb2013 = gpd.read_file('input/meshblock-2013.gdb.zip').to_crs(4326)\n",
    "mb2013.sample(3)"
   ]
  },
  {
   "cell_type": "code",
   "execution_count": 87,
   "id": "3891be81-c7b8-4fb3-8f41-54f5bc8aa2fd",
   "metadata": {},
   "outputs": [
    {
     "name": "stdout",
     "output_type": "stream",
     "text": [
      "CPU times: user 11.4 s, sys: 7.05 ms, total: 11.4 s\n",
      "Wall time: 11.4 s\n"
     ]
    }
   ],
   "source": [
    "%%time\n",
    "parcels_sample['geometry'] = parcels_sample['geometry_centroid']\n",
    "parcels_sample = gpd.sjoin(parcels_sample, mb2013[['MeshblockNumber', 'geometry']]).drop(columns=['index_right'])\n",
    "parcels_sample = parcels_sample.rename(columns={'MeshblockNumber': 'MB2013_code'})"
   ]
  },
  {
   "cell_type": "markdown",
   "id": "3021f0b5-a34d-480d-ba4e-04ead8ab08c8",
   "metadata": {
    "tags": []
   },
   "source": [
    "## 8. Additional distance information from consent location\n",
    "- b. Minimum Haversinedistance to Open Space(set of AUP Zones) **Hdist_open**\n",
    "- c. Minimum Haversine distance to motorway**Hdist_motorway**\n",
    "- d. Minimum Haversine distanceto main arterial road **Hdist_main_road**\n",
    "- e. Minimum Haversine distance to rail line **Hdist_rail**\n",
    "- f. Haversine distance to downtown (use Skytower coordinates) **Hdist_skytowe**"
   ]
  },
  {
   "cell_type": "markdown",
   "id": "6cb60000-05f5-451e-b496-ef7feabae7f0",
   "metadata": {},
   "source": [
    "- a. Minimum Haversine distance to coastline **Hdist_coast**  \n",
    "There are a few different datasets that could be used for this:  \n",
    "    - NZ Coastlines (Topo 1:50k) https://data.linz.govt.nz/layer/50258-nz-coastlines-topo-150k/\n",
    "    - NZ Coastline - mean high water https://data.linz.govt.nz/layer/105085-nz-coastline-mean-high-water/\n",
    "    - NZ Coastlines and Islands Polygons (Topo 1:50k) https://data.linz.govt.nz/layer/51153-nz-coastlines-and-islands-polygons-topo-150k/  \n",
    "\n",
    "The first doesn't have islands (e.g. Waiheke)."
   ]
  },
  {
   "cell_type": "markdown",
   "id": "ddb1d218-5e9f-4b4c-ac41-366c45191f27",
   "metadata": {},
   "source": [
    "- b. Minimum Haversinedistance to Open Space(set of AUP Zones) **Hdist_open**\n",
    "- c. Minimum Haversine distance to motorway**Hdist_motorway**\n",
    "- d. Minimum Haversine distanceto main arterial road **Hdist_main_road**\n",
    "- e. Minimum Haversine distance to rail line **Hdist_rail**\n",
    "- f. Haversine distance to downtown (use Skytower coordinates) **Hdist_skytowe**"
   ]
  }
 ],
 "metadata": {
  "kernelspec": {
   "display_name": "Python 3",
   "language": "python",
   "name": "python3"
  },
  "language_info": {
   "codemirror_mode": {
    "name": "ipython",
    "version": 3
   },
   "file_extension": ".py",
   "mimetype": "text/x-python",
   "name": "python",
   "nbconvert_exporter": "python",
   "pygments_lexer": "ipython3",
   "version": "3.8.8"
  }
 },
 "nbformat": 4,
 "nbformat_minor": 5
}
