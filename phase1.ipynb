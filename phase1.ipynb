{
 "cells": [
  {
   "cell_type": "markdown",
   "id": "d732be1a",
   "metadata": {},
   "source": [
    "# Phase 1: Residential Building Consent Dataset\n",
    "\n",
    "## INPUTS\n",
    "1.\tGeocoded individual consent data  \n",
    "Various information (specified below under OUTPUTS) need to be added to each observation in these two datasets \n",
    "-\tcsv file containing building consents for 2000 to 2020 [filename: BCs_issued_by_AUP_TLADCs_2021DEC.xlsx]\n",
    "2.\tLINZ spine from phase 0\n",
    "\n",
    "## OUTPUTS\n",
    "csv file of building consents with the data fields 1-9 above. The matching process for assigning each consent to a LINZ parcel is described below. \n",
    "The following additional data fields are added. These are flags to designate the match to the LINZ dataset.\n",
    "\n",
    "10.\tRanged Address Indicator  \n",
    "a.\tIndicator (1 or 0) for LINZ parcel that is part of a ranged address consent Ranged_Address_indicator"
   ]
  },
  {
   "cell_type": "code",
   "execution_count": null,
   "id": "7907d816",
   "metadata": {
    "node_exists": false,
    "node_name": "0c53ba159ca046fa830e502d22486d60"
   },
   "outputs": [],
   "source": [
    "#pragma nodebook off\n",
    "#Use nodebook for better reproducibility https://github.com/uoa-eResearch/nodebook\n",
    "%reload_ext nodebook.ipython\n",
    "%nodebook disk phase1"
   ]
  },
  {
   "cell_type": "code",
   "execution_count": null,
   "id": "0b8c79ab",
   "metadata": {
    "node_exists": true,
    "node_name": "084acce60a974dc88b7768be239698ea"
   },
   "outputs": [],
   "source": [
    "# load libraries\n",
    "import geopandas as gpd # vector data\n",
    "import pandas as pd # tabular data, loading CSVs\n",
    "import numpy as np # numeric data\n",
    "from util import *\n",
    "import matplotlib # plotting\n",
    "import contextily as ctx # Used for contextual basemaps\n",
    "from scipy.spatial import cKDTree\n",
    "from matplotlib_scalebar.scalebar import ScaleBar # scalebar for plot\n",
    "import matplotlib.pyplot as plt # plotting\n",
    "from tqdm.auto import tqdm # progress bars\n",
    "tqdm.pandas()\n",
    "import requests\n",
    "import requests_cache\n",
    "requests_cache.install_cache('requests_cache')\n",
    "import json\n",
    "from shapely.geometry import Point, shape, LineString, MultiLineString, GeometryCollection, MultiPoint, Polygon  # creating points\n",
    "plt.rcParams['figure.figsize'] = (20, 20)\n",
    "pd.set_option('max_columns', None)\n",
    "pd.set_option('max_rows', 300)"
   ]
  },
  {
   "cell_type": "code",
   "execution_count": null,
   "id": "ae466750",
   "metadata": {
    "node_exists": true,
    "node_name": "600a6436bf4a42999c729f95845b31f4"
   },
   "outputs": [],
   "source": [
    "%%time\n",
    "df = pd.read_excel(\"restricted/BCs_issued_by_AUP_TLADCs_2021DEC.xlsx\")\n",
    "df = gpd.GeoDataFrame(df, geometry=gpd.points_from_xy(df.X_Coordinate, df.Y_Coordinate), crs=4326)"
   ]
  },
  {
   "cell_type": "code",
   "execution_count": null,
   "id": "6679094b",
   "metadata": {
    "node_exists": true,
    "node_name": "1f24f6312fec4023981f152888e919ee"
   },
   "outputs": [],
   "source": [
    "df"
   ]
  },
  {
   "cell_type": "code",
   "execution_count": null,
   "id": "abe65915",
   "metadata": {
    "node_exists": true,
    "node_name": "2a3c92fb48b44ae180c05ac59c11fd98"
   },
   "outputs": [],
   "source": [
    "df[\"Ranged_Address_indicator\"] = df.ADDRESS_1.str.contains('\\d\\w?\\s?-', regex=True, na=False)\n",
    "df[\"Ranged_Address_indicator\"].value_counts()"
   ]
  },
  {
   "cell_type": "markdown",
   "id": "0474ec28",
   "metadata": {
    "node_exists": false,
    "node_name": "7c39d0bd885948d08026687d2cbb4924"
   },
   "source": [
    "11.\tMatching Type Indicators:  \n",
    "a.\tLINZ_MATCH_CODE  \n",
    "b.\tLINZ_2ND_MATCH_CODE  \n",
    "PROCEDURE FOR MATCHING CONSENTS TO LINZ PARCELS  \n",
    "MATCHING FOR NON-RANGED ADDRESSES:  \n",
    "   Find the LINZ parcel of the geo-coordinate of the consent.  \n",
    "a. Check whether the address of the consent and the address of the LINZ parcel match, by matching on number and first word. If so, stop and set LINZ_MATCH_CODE = 1. If not, go on to 2:"
   ]
  },
  {
   "cell_type": "code",
   "execution_count": null,
   "id": "75f32d92",
   "metadata": {
    "node_exists": true,
    "node_name": "61e3a7d936d742f392799a3f9f824ce2"
   },
   "outputs": [],
   "source": [
    "%%time\n",
    "# get number and name of street (but not 'road', 'street', 'place' etc)\n",
    "# this can be used to match addresses with building consents\n",
    "\n",
    "def number_name_bc(x):\n",
    "    \"\"\"extract street number and first complete word of the street name from building consents\"\"\"\n",
    "    if x.ADDRESS_1 is None:\n",
    "        pass\n",
    "    else:\n",
    "        # get number and first word of address\n",
    "        joined_address = ' '.join([str(x[f'ADDRESS_{i}']) for i in [1,2, 3]]).lower()\n",
    "        return ' '.join(joined_address.split(' ')[:2])\n",
    "\n",
    "def full_address_bc(x):\n",
    "    \"\"\"extract full address from building consents\"\"\"\n",
    "    if x.ADDRESS_1 is None:\n",
    "        pass\n",
    "    else:\n",
    "        # get number and first word of address\n",
    "        joined_address = ' '.join([str(x[f'ADDRESS_{i}']) for i in [1,2, 3] if not str(x[f'ADDRESS_{i}']) == 'nan']).lower()\n",
    "        return joined_address\n",
    "\n",
    "df['number_name'] = df.apply(number_name_bc, axis=1)\n",
    "df['full_address'] = df.apply(full_address_bc, axis=1)"
   ]
  },
  {
   "cell_type": "code",
   "execution_count": null,
   "id": "ede1f60d",
   "metadata": {
    "node_exists": true,
    "node_name": "4d2bff5a6ac44524837f180d346838db"
   },
   "outputs": [],
   "source": [
    "any(df.full_address.str.contains(\"[āēīōū]\"))"
   ]
  },
  {
   "cell_type": "code",
   "execution_count": null,
   "id": "a56acf85",
   "metadata": {
    "node_exists": true,
    "node_name": "d30ef96f2ccc47b683189f5dc21ba7e4"
   },
   "outputs": [],
   "source": [
    "parcels = gpd.read_file('input/NZ_Primary_Parcels_Nov_2016_filtered.gpkg').to_crs(2193)\n",
    "parcels = parcels.set_index(\"id\")\n",
    "parcels"
   ]
  },
  {
   "cell_type": "code",
   "execution_count": null,
   "id": "4839ad9d",
   "metadata": {
    "node_exists": true,
    "node_name": "4fd986bb4dfe4c778d57e61b960d6853"
   },
   "outputs": [],
   "source": [
    "addresses = gpd.read_file('input/lds-nz-addresses-pilot-FGDB.zip!nz-addresses-pilot.gdb').to_crs(2193)\n",
    "addresses"
   ]
  },
  {
   "cell_type": "code",
   "execution_count": null,
   "id": "761d2e0d",
   "metadata": {
    "node_exists": true,
    "node_name": "2004f7404b784a7e8c6fd4331a87679a"
   },
   "outputs": [],
   "source": [
    "def number_name_addresses(x):\n",
    "    return ' '.join(x.split(' ')[:2]).lower()\n",
    "addresses['address_number_name'] = addresses.full_address_ascii.apply(number_name_addresses)\n",
    "addresses"
   ]
  },
  {
   "cell_type": "code",
   "execution_count": null,
   "id": "59761ed5",
   "metadata": {
    "node_exists": true,
    "node_name": "2c5ab7f391ff46ae827665e8871abf08"
   },
   "outputs": [],
   "source": [
    "%%time\n",
    "parcels_addressed = gpd.sjoin(parcels, addresses)"
   ]
  },
  {
   "cell_type": "code",
   "execution_count": null,
   "id": "90addd27",
   "metadata": {
    "node_exists": true,
    "node_name": "56063b05841e4bdf8a1c020b8c9a04bc"
   },
   "outputs": [],
   "source": [
    "%%time\n",
    "parcels[\"addresses\"] = parcel_address_number_name = parcels_addressed.groupby('id')['address_number_name'].apply(list)\n",
    "display(parcels[\"addresses\"])\n",
    "parcels[\"full_addresses\"] = parcels_addressed.groupby('id')[\"full_address\"].apply(list)\n",
    "display(parcels[\"full_addresses\"])"
   ]
  },
  {
   "cell_type": "code",
   "execution_count": null,
   "id": "d7b6bcb4",
   "metadata": {
    "node_exists": true,
    "node_name": "9be849e0bbdb488bad78294fcf8fc01e"
   },
   "outputs": [],
   "source": [
    "%%time\n",
    "df = gpd.sjoin(df.to_crs(2193), parcels[[\"addresses\",\"full_addresses\",\"geometry\"]], how=\"left\")"
   ]
  },
  {
   "cell_type": "code",
   "execution_count": null,
   "id": "4cdb3a62",
   "metadata": {
    "node_exists": true,
    "node_name": "ebcc437c8d3d4c358ce87572f045933d"
   },
   "outputs": [],
   "source": [
    "print(sum(df.number_name.str.contains(\"mt\")),\n",
    "sum(df.number_name.str.contains(\"mount\")),\n",
    "sum(addresses.address_number_name.str.contains(\"mt\")),\n",
    "sum(addresses.address_number_name.str.contains(\"mount\")))"
   ]
  },
  {
   "cell_type": "code",
   "execution_count": null,
   "id": "b9cc6044",
   "metadata": {
    "node_exists": true,
    "node_name": "59b15107e37d4062994c56e536426e30"
   },
   "outputs": [],
   "source": [
    "df = df.rename(columns={\"index_right\": \"LINZ_parcel_ID\"})\n",
    "df.LINZ_parcel_ID = df.LINZ_parcel_ID.astype(\"Int64\")\n",
    "df"
   ]
  },
  {
   "cell_type": "code",
   "execution_count": null,
   "id": "4bb3c397",
   "metadata": {
    "node_exists": true,
    "node_name": "196dcf32e66548c2be274c0790f663c6"
   },
   "outputs": [],
   "source": [
    "assert df.index.is_unique"
   ]
  },
  {
   "cell_type": "code",
   "execution_count": null,
   "id": "4aa35a12",
   "metadata": {
    "node_exists": true,
    "node_name": "dcf61eeac2e84db9832e50c918b92505"
   },
   "outputs": [],
   "source": [
    "def check_match(row):\n",
    "    if row.number_name in row.addresses:\n",
    "        return 1\n",
    "    return np.nan\n",
    "match = df[~pd.isna(df.number_name) & ~pd.isna(df.addresses)].apply(check_match, axis=1)\n",
    "df[\"LINZ_MATCH_CODE\"] = match\n",
    "df.LINZ_MATCH_CODE.value_counts(dropna=False)"
   ]
  },
  {
   "cell_type": "markdown",
   "id": "df117292",
   "metadata": {},
   "source": [
    "Find all the LINZ parcels within r radius of the geo-coordinate of the consent  \n",
    "a.       Search for a match of the consent address within the set of LINZ parcels within the radius r. If a match is found, stop and set LINZ_MATCH_CODE = 2. If there is no match, go on to 3:"
   ]
  },
  {
   "cell_type": "code",
   "execution_count": null,
   "id": "376443dd",
   "metadata": {
    "node_exists": true,
    "node_name": "91663b21f9e742e1ba149f08ade0e470"
   },
   "outputs": [],
   "source": [
    "parcel_tree = cKDTree(list(parcels.centroid.apply(lambda x: (x.x, x.y))))\n",
    "parcel_tree"
   ]
  },
  {
   "cell_type": "code",
   "execution_count": null,
   "id": "63191a77",
   "metadata": {
    "node_exists": true,
    "node_name": "f4befa913308468286e5f5a2d78ebe8f"
   },
   "outputs": [],
   "source": [
    "sample = df[pd.isna(df[\"LINZ_MATCH_CODE\"]) & df.number_name.isin(addresses.address_number_name)].head(1)\n",
    "sample"
   ]
  },
  {
   "cell_type": "code",
   "execution_count": null,
   "id": "db451e3c",
   "metadata": {
    "node_exists": true,
    "node_name": "b563a95bd79c45a989255b42180e4a1b"
   },
   "outputs": [],
   "source": [
    "indices_in_range = parcel_tree.query_ball_point([sample.centroid.iloc[0].x, sample.centroid.iloc[0].y], 1250)\n",
    "ax = sample.to_crs(epsg=3857).plot(color=\"red\", alpha=1)\n",
    "sample.buffer(1250).to_crs(epsg=3857).plot(ax=ax, alpha=.5, color=\"green\")\n",
    "potential_matches = parcels.iloc[indices_in_range]\n",
    "potential_matches.to_crs(epsg=3857).plot(ax=ax, alpha=.5, edgecolor=\"black\")\n",
    "potential_matches[potential_matches.addresses.str.contains(sample.number_name.iloc[0], na=False, regex=False)].to_crs(epsg=3857).plot(ax=ax, color=\"red\")\n",
    "ctx.add_basemap(ax, source=ctx.providers.Esri.WorldImagery)"
   ]
  },
  {
   "cell_type": "code",
   "execution_count": null,
   "id": "63cc2ceb",
   "metadata": {
    "node_exists": true,
    "node_name": "5043729dc9be481296db848280c95860"
   },
   "outputs": [],
   "source": [
    "def find_match_in_range(row):\n",
    "    indices_in_range = parcel_tree.query_ball_point([row.geometry.x, row.geometry.y], 1250)\n",
    "    potential_matches = parcels.iloc[indices_in_range]\n",
    "    match = potential_matches[potential_matches.addresses.str.contains(row.number_name, na=False, regex=False)]\n",
    "    if len(match):\n",
    "        row.LINZ_parcel_ID = match.index[0]\n",
    "        row.addresses = match.addresses.iloc[0]\n",
    "        row.full_addresses = match.full_addresses.iloc[0]\n",
    "        row.LINZ_MATCH_CODE = 2\n",
    "    return row\n",
    "matches = df[\n",
    "    ~pd.isna(df.number_name) &\n",
    "    pd.isna(df[\"LINZ_MATCH_CODE\"]) &\n",
    "    df.number_name.isin(addresses.address_number_name)].progress_apply(find_match_in_range, axis=1)"
   ]
  },
  {
   "cell_type": "code",
   "execution_count": null,
   "id": "1e261dbe",
   "metadata": {
    "node_exists": true,
    "node_name": "6b88d7c6aff2401fadd00cba00729358"
   },
   "outputs": [],
   "source": [
    "matches"
   ]
  },
  {
   "cell_type": "code",
   "execution_count": null,
   "id": "bc43a037",
   "metadata": {
    "node_exists": true,
    "node_name": "f40e05f4e797453688689da64527152e"
   },
   "outputs": [],
   "source": [
    "df.update(matches)\n",
    "df.LINZ_MATCH_CODE.value_counts(dropna=False)"
   ]
  },
  {
   "cell_type": "code",
   "execution_count": null,
   "id": "06d8e401",
   "metadata": {
    "node_exists": true,
    "node_name": "89cd2ff2f4d148a7acfaa7853d9fd789"
   },
   "outputs": [],
   "source": [
    "df[pd.isna(df[\"LINZ_MATCH_CODE\"]) & df.number_name.isin(addresses.address_number_name)]"
   ]
  },
  {
   "cell_type": "code",
   "execution_count": null,
   "id": "b3aa6df7",
   "metadata": {
    "node_exists": true,
    "node_name": "32d65ca782064e0f8cec6f19c9bf6daf"
   },
   "outputs": [],
   "source": [
    "%%time\n",
    "number_name_lookup = {}\n",
    "for parcel_id, addresses in parcels.addresses[~pd.isna(parcels.addresses)].items():\n",
    "    for address in addresses:\n",
    "        if address not in number_name_lookup:\n",
    "            number_name_lookup[address] = []\n",
    "        number_name_lookup[address].append(parcel_id)"
   ]
  },
  {
   "cell_type": "code",
   "execution_count": null,
   "id": "63c8099e",
   "metadata": {
    "node_exists": true,
    "node_name": "10fdd24ea5f74efda78feda87b335ec2"
   },
   "outputs": [],
   "source": [
    "%%time\n",
    "def find_text_match(row):\n",
    "    matching_ids = number_name_lookup.get(row.number_name)\n",
    "    if len(matching_ids):\n",
    "        match = parcels.loc[matching_ids]\n",
    "        closest_parcel_id = match.distance(row.geometry).idxmin()\n",
    "        row.LINZ_parcel_ID = closest_parcel_id\n",
    "        row.addresses = match.addresses[closest_parcel_id]\n",
    "        row.full_addresses = match.full_addresses[closest_parcel_id]\n",
    "        row.LINZ_MATCH_CODE = 3\n",
    "    return row\n",
    "matches = df[pd.isna(df[\"LINZ_MATCH_CODE\"]) & df.number_name.isin(number_name_lookup.keys())].progress_apply(find_text_match, axis=1)\n",
    "df.update(matches)\n",
    "df.LINZ_MATCH_CODE.value_counts(dropna=False)"
   ]
  },
  {
   "cell_type": "code",
   "execution_count": null,
   "id": "f827de9f",
   "metadata": {
    "node_exists": true,
    "node_name": "e7a212f2346541f59b23b9b94240b96e"
   },
   "outputs": [],
   "source": [
    "df.Ranged_Address_indicator = df.Ranged_Address_indicator.astype(bool)"
   ]
  },
  {
   "cell_type": "code",
   "execution_count": null,
   "id": "2964e02e",
   "metadata": {
    "node_exists": true,
    "node_name": "45cce28dbd474170bc68f78e83b25353"
   },
   "outputs": [],
   "source": [
    "maybe_subdivision = df[df.number_name.str.contains(\"/\") & pd.isna(df.LINZ_MATCH_CODE) & ~df.Ranged_Address_indicator]\n",
    "maybe_subdivision"
   ]
  },
  {
   "cell_type": "code",
   "execution_count": null,
   "id": "8376e7b5",
   "metadata": {
    "node_exists": true,
    "node_name": "416f97b5c3884d9889ef43bf306ea0e7"
   },
   "outputs": [],
   "source": [
    "maybe_subdivision.number_name = maybe_subdivision.number_name.str.split(\"/\").str[-1]"
   ]
  },
  {
   "cell_type": "code",
   "execution_count": null,
   "id": "20a5b51f",
   "metadata": {
    "node_exists": true,
    "node_name": "0baa1347d29b45578142d26258b19467"
   },
   "outputs": [],
   "source": [
    "def check_match(row):\n",
    "    if row.number_name in row.addresses:\n",
    "        return 1\n",
    "    return np.nan\n",
    "match = maybe_subdivision[~pd.isna(maybe_subdivision.addresses)].apply(check_match, axis=1)\n",
    "maybe_subdivision.LINZ_MATCH_CODE = match\n",
    "match.value_counts(dropna=False)"
   ]
  },
  {
   "cell_type": "code",
   "execution_count": null,
   "id": "8d992bce",
   "metadata": {
    "node_exists": true,
    "node_name": "4f75a742c2e7442d83db1914c4909a85"
   },
   "outputs": [],
   "source": [
    "matches = maybe_subdivision[\n",
    "    pd.isna(match) &\n",
    "    maybe_subdivision.number_name.isin(number_name_lookup.keys())].progress_apply(find_match_in_range, axis=1)"
   ]
  },
  {
   "cell_type": "code",
   "execution_count": null,
   "id": "712aaea1",
   "metadata": {
    "node_exists": true,
    "node_name": "5a3e04b850b14113a261faef795b91a2"
   },
   "outputs": [],
   "source": [
    "matches"
   ]
  },
  {
   "cell_type": "code",
   "execution_count": null,
   "id": "9505b6de",
   "metadata": {
    "node_exists": true,
    "node_name": "c417364adf1e47ec8ddf7a27d3d8e85d"
   },
   "outputs": [],
   "source": [
    "maybe_subdivision.update(matches)\n",
    "maybe_subdivision.LINZ_MATCH_CODE.value_counts(dropna=False)"
   ]
  },
  {
   "cell_type": "code",
   "execution_count": null,
   "id": "cd2033e8",
   "metadata": {
    "node_exists": true,
    "node_name": "4f79999baf3c4ec78b8c63923bbc96cb"
   },
   "outputs": [],
   "source": [
    "matches = maybe_subdivision[pd.isna(maybe_subdivision[\"LINZ_MATCH_CODE\"]) & maybe_subdivision.number_name.isin(number_name_lookup.keys())].progress_apply(find_text_match, axis=1)\n",
    "maybe_subdivision.update(matches)\n",
    "maybe_subdivision.LINZ_MATCH_CODE.value_counts(dropna=False)"
   ]
  },
  {
   "cell_type": "code",
   "execution_count": null,
   "id": "71337967",
   "metadata": {
    "node_exists": true,
    "node_name": "cfebcd9c8f8542bd9f4d8202fe12586a"
   },
   "outputs": [],
   "source": [
    "maybe_subdivision"
   ]
  },
  {
   "cell_type": "code",
   "execution_count": null,
   "id": "614c35a1",
   "metadata": {
    "node_exists": true,
    "node_name": "0b3692fce3de48e39a6bc37607ec1556"
   },
   "outputs": [],
   "source": [
    "maybe_subdivision.LINZ_MATCH_CODE = maybe_subdivision.LINZ_MATCH_CODE.replace({1: 4, 2: 5, 3: 6})\n",
    "maybe_subdivision.LINZ_MATCH_CODE.value_counts()"
   ]
  },
  {
   "cell_type": "code",
   "execution_count": null,
   "id": "0d09fff8",
   "metadata": {
    "node_exists": true,
    "node_name": "f7ff9b35a4f1412f8c232e9c49e50672"
   },
   "outputs": [],
   "source": [
    "df.update(maybe_subdivision)"
   ]
  },
  {
   "cell_type": "code",
   "execution_count": null,
   "id": "55ceafeb",
   "metadata": {
    "node_exists": true,
    "node_name": "bdb1c4424f3e48ea8000417b9a67197e"
   },
   "outputs": [],
   "source": [
    "maybe_subdivision = df[\n",
    "    df.number_name.str.contains(\"[0-9][a-zA-Z] \") &\n",
    "    pd.isna(df.LINZ_MATCH_CODE) &\n",
    "    (df.Ranged_Address_indicator == False)\n",
    "]\n",
    "maybe_subdivision"
   ]
  },
  {
   "cell_type": "code",
   "execution_count": null,
   "id": "7db5c8fd",
   "metadata": {
    "node_exists": true,
    "node_name": "b9a5816333a240398e0bedd8914abe1c"
   },
   "outputs": [],
   "source": [
    "def strip_char(s):\n",
    "    number, name = s.split()\n",
    "    number = \"\".join([c for c in number if c.isnumeric()])\n",
    "    return number + \" \" + name\n",
    "maybe_subdivision.number_name = maybe_subdivision.number_name.apply(strip_char)"
   ]
  },
  {
   "cell_type": "code",
   "execution_count": null,
   "id": "3a7d0bab",
   "metadata": {
    "node_exists": true,
    "node_name": "517977439ef34da995ece7010a5eb16c"
   },
   "outputs": [],
   "source": [
    "def check_match(row):\n",
    "    if row.number_name in row.addresses:\n",
    "        return 1\n",
    "    return np.nan\n",
    "match = maybe_subdivision[~pd.isna(maybe_subdivision.addresses)].apply(check_match, axis=1)\n",
    "maybe_subdivision.LINZ_MATCH_CODE = match\n",
    "match.value_counts(dropna=False)"
   ]
  },
  {
   "cell_type": "code",
   "execution_count": null,
   "id": "015f0124",
   "metadata": {
    "node_exists": true,
    "node_name": "04856b54e7234b4fafce9a2852c85a97"
   },
   "outputs": [],
   "source": [
    "matches = maybe_subdivision[\n",
    "    pd.isna(match) &\n",
    "    maybe_subdivision.number_name.isin(number_name_lookup.keys())].progress_apply(find_match_in_range, axis=1)"
   ]
  },
  {
   "cell_type": "code",
   "execution_count": null,
   "id": "a13b6aa7",
   "metadata": {
    "node_exists": true,
    "node_name": "82f1fe5ec211430488407ad0f8491913"
   },
   "outputs": [],
   "source": [
    "maybe_subdivision.update(matches)\n",
    "maybe_subdivision.LINZ_MATCH_CODE.value_counts(dropna=False)"
   ]
  },
  {
   "cell_type": "code",
   "execution_count": null,
   "id": "b5e55930",
   "metadata": {
    "node_exists": true,
    "node_name": "e837191f2317464191b22ef89fc5de99"
   },
   "outputs": [],
   "source": [
    "matches = maybe_subdivision[pd.isna(maybe_subdivision[\"LINZ_MATCH_CODE\"]) & maybe_subdivision.number_name.isin(number_name_lookup.keys())].progress_apply(find_text_match, axis=1)\n",
    "maybe_subdivision.update(matches)\n",
    "maybe_subdivision.LINZ_MATCH_CODE.value_counts(dropna=False)"
   ]
  },
  {
   "cell_type": "code",
   "execution_count": null,
   "id": "614b24f0",
   "metadata": {
    "node_exists": true,
    "node_name": "7231a31f0fb74ac587320b62bbc47e93"
   },
   "outputs": [],
   "source": [
    "maybe_subdivision"
   ]
  },
  {
   "cell_type": "code",
   "execution_count": null,
   "id": "f3afc6a9",
   "metadata": {
    "node_exists": true,
    "node_name": "565ce40405ba47a7b6cf89859f9d6f95"
   },
   "outputs": [],
   "source": [
    "maybe_subdivision.LINZ_MATCH_CODE = maybe_subdivision.LINZ_MATCH_CODE.replace({1: 4, 2: 5, 3: 6})\n",
    "maybe_subdivision.LINZ_MATCH_CODE.value_counts()"
   ]
  },
  {
   "cell_type": "code",
   "execution_count": null,
   "id": "8d3d6bb5",
   "metadata": {
    "node_exists": true,
    "node_name": "898cc92251c94a668188d9ddaae07953"
   },
   "outputs": [],
   "source": [
    "df.update(maybe_subdivision)"
   ]
  },
  {
   "cell_type": "code",
   "execution_count": null,
   "id": "bd0c4b49",
   "metadata": {
    "node_exists": true,
    "node_name": "27ed1fc661564d2890fa04d7666065db"
   },
   "outputs": [],
   "source": [
    "%%time\n",
    "distances = df[~pd.isna(df.LINZ_parcel_ID)].distance(parcels.loc[df.LINZ_parcel_ID[~pd.isna(df.LINZ_parcel_ID)]], align=False)\n",
    "distances"
   ]
  },
  {
   "cell_type": "code",
   "execution_count": null,
   "id": "183abd26",
   "metadata": {
    "node_exists": true,
    "node_name": "88d4dc6ce3c04972813d8428a420a6c0"
   },
   "outputs": [],
   "source": [
    "distances[distances>0].describe()"
   ]
  },
  {
   "cell_type": "code",
   "execution_count": null,
   "id": "a1d67377",
   "metadata": {
    "node_exists": true,
    "node_name": "3c1ed2e095c14953bc4fe8e339e5d1b0"
   },
   "outputs": [],
   "source": [
    "df[\"distance_to_parcel\"] = distances"
   ]
  },
  {
   "cell_type": "markdown",
   "id": "c737849c",
   "metadata": {},
   "source": [
    " Identify the LINZ parcel of the geo-coordinate of the consent. If the name of the road in the address of the LINZ parcel matches the road name of the address given in the consent dataset, set the parcel to be the LINZ parcel of the of geocoordinate of the consent. Set LINZ_MATCH_CODE = 7 and stop. If not, proceed to 8:"
   ]
  },
  {
   "cell_type": "code",
   "execution_count": null,
   "id": "18c3195d",
   "metadata": {
    "node_exists": true,
    "node_name": "ac391c32ec4844bb8285222cc6b1b6df"
   },
   "outputs": [],
   "source": [
    "df[[\"number_name\", \"addresses\"]]"
   ]
  },
  {
   "cell_type": "code",
   "execution_count": null,
   "id": "5f177f62",
   "metadata": {
    "node_exists": true,
    "node_name": "b3624a18e17f4fe0b9826aaa65a73ec7"
   },
   "outputs": [],
   "source": [
    "def check_street_match(row):\n",
    "    if row.number_name and len(row.number_name)>1:\n",
    "        street = row.number_name.split()[-1]\n",
    "        if street in str(row.addresses):\n",
    "            return 7\n",
    "    return np.nan\n",
    "street_matches = df[pd.isna(df.LINZ_MATCH_CODE)].progress_apply(check_street_match, axis=1)\n",
    "display(street_matches.value_counts(dropna=False))\n",
    "df.LINZ_MATCH_CODE.update(street_matches)"
   ]
  },
  {
   "cell_type": "markdown",
   "id": "1c1bd988",
   "metadata": {},
   "source": [
    "Identify the LINZ parcel of the geo-coordinate of the consent and use this. Set LINZ_MATCH_CODE = 8 and stop. If there is no parcel under the geo-coordinate, go to step 9:"
   ]
  },
  {
   "cell_type": "code",
   "execution_count": null,
   "id": "73ffb228",
   "metadata": {
    "node_exists": true,
    "node_name": "c4e9e66514ca47b2875546d9d5da206a"
   },
   "outputs": [],
   "source": [
    "df.LINZ_MATCH_CODE[~pd.isna(df.LINZ_parcel_ID) & pd.isna(df.LINZ_MATCH_CODE)] = 8"
   ]
  },
  {
   "cell_type": "markdown",
   "id": "6a8ce354",
   "metadata": {},
   "source": [
    "Set LINZ_MATCH_CODE = 9. This indicates no match even with just the consent long-lat."
   ]
  },
  {
   "cell_type": "code",
   "execution_count": null,
   "id": "08ce2e77",
   "metadata": {
    "node_exists": true,
    "node_name": "3a8c22fb21f04c4c9d947093e526deb0"
   },
   "outputs": [],
   "source": [
    "df.LINZ_MATCH_CODE = df.LINZ_MATCH_CODE.fillna(9)\n",
    "df.LINZ_MATCH_CODE.value_counts()"
   ]
  },
  {
   "cell_type": "code",
   "execution_count": null,
   "id": "dbdc8633",
   "metadata": {
    "node_exists": true,
    "node_name": "9c311956ac8d412d8aa1c8faa6d848f8"
   },
   "outputs": [],
   "source": [
    "df.LINZ_MATCH_CODE[df.Ranged_Address_indicator].value_counts()"
   ]
  },
  {
   "cell_type": "markdown",
   "id": "05b23568",
   "metadata": {},
   "source": [
    "MATCHING FOR RANGED ADDRESSES:\n",
    "For ranged addresses, follow the same approach for each individual address, using the same geo-coordinate for each address in step 1. However, we set r in step 2 to a larger number in order to do a wider search. If no matches are found at step 2, but at least one match in the ranged address is found at step 1 or step 2, go to step 5. This avoids matching parcels that are far away from the rest of the group. Only if there is no match within the ranged addresses at either step 1 or step 2 do we proceed to step 3. \n",
    "\n",
    "We include an additional flag for each ranged address that indicates the best (i.e. lowest) LINZ_MATCH_CODE for that range. E.g. for a ranged address with five addresses, if at least one of them had LINZ_MATCH_CODE = 2, and all others were LINZ_MATCH_CODE > 2, then the best LINZ_MATCH_CODE would be 2. This is call LINZ_2ND_MATCH_CODE below.\n",
    "Each address (in the ranged address set) is assigned its own unique LINZ parcel. Each parcel is then assigned the information given in 1 through 11 below. Because the parcels share the same consent ID, we can tell that the different parcels pertain to the same consent, thereby avoiding double counting. "
   ]
  },
  {
   "cell_type": "code",
   "execution_count": null,
   "id": "83d2b4f8",
   "metadata": {
    "node_exists": true,
    "node_name": "2e7a5db2b3c34e39887b0e3af630ffe1"
   },
   "outputs": [],
   "source": [
    "ranged = df[df.Ranged_Address_indicator & (df.LINZ_MATCH_CODE > 2)]\n",
    "ranged"
   ]
  },
  {
   "cell_type": "code",
   "execution_count": null,
   "id": "b95dc208",
   "metadata": {
    "node_exists": true,
    "node_name": "09aa6ea50c2549fc840ddc0f21f09be6"
   },
   "outputs": [],
   "source": [
    "def parse_int(value):\n",
    "    return int(''.join(filter(lambda c: c.isdigit(), value)))\n",
    "\n",
    "def char_range(c1, c2):\n",
    "    \"\"\"Generates the characters from `c1` to `c2`, inclusive.\"\"\"\n",
    "    for c in range(ord(c1), ord(c2)+1):\n",
    "        yield chr(c)\n",
    "\n",
    "def range_expand(r):\n",
    "    \"\"\"given a range r, like '20-23', expand the range on one side of the road, e.g. ['20', '21', '22', '23']\"\"\"\n",
    "    if '/' in r:\n",
    "        a, b = r.split('/')\n",
    "        if \"-\" in a:\n",
    "            r = a\n",
    "            suffix = \"/\" + b\n",
    "        else:\n",
    "            r = b\n",
    "            suffix = \"/\" + a\n",
    "    else:\n",
    "        suffix = ''\n",
    "    r1, r2 = r.split('-')\n",
    "    if r2 == \"sep\" or r2 == \"\":\n",
    "        return [r1]\n",
    "    if r2.isalpha():\n",
    "        return [r1.replace(r1[-1], char) for char in char_range(r1[-1], r2)]\n",
    "    r1 = parse_int(r1)\n",
    "    r2 = parse_int(r2)\n",
    "    if suffix:\n",
    "        step = 1\n",
    "    else:\n",
    "        step = 2\n",
    "    if r1 < r2:\n",
    "        return [str(i) + suffix for i in range(r1, r2 + 1, step)]\n",
    "    else:\n",
    "        return [str(i) + suffix for i in range(r2, r1 + 1, step)]\n",
    "\n",
    "corrections = {\n",
    "    \"1/ 231-235\": \"231-235 hinemoa\",\n",
    "    \"2/ 16-18\": \"16-18 montgomery\",\n",
    "    \"2/ 2-8\": \"2-8 matipo\",\n",
    "    \"r 35-41\": \"35-41 birkenhead\",\n",
    "    \"r 31-35\": \"31-35 cresta\",\n",
    "    \"27 -\": \"27-31 victoria\",\n",
    "    \"1 &\": \"2-1/96 bernleigh\",\n",
    "    \"55121-23 morrison\": \"21-23 morrison\",\n",
    "    \"1954-60 great\": \"1954-1960 great\",\n",
    "    \"3-9 \": \"3-9 faldo\",\n",
    "    \"22 -\": \"22-26 rawalpindi\",\n",
    "    \"36 -\": \"36-38 border\",\n",
    "    \"57a -\": \"57-61 woodward\",\n",
    "    \"102 -\": \"102-104 may\"\n",
    "}\n",
    "ranged.number_name = ranged.number_name.replace(corrections)\n",
    "\n",
    "for r in ranged.number_name:\n",
    "    e = None\n",
    "    try:\n",
    "        number, name = r.split()\n",
    "        range_expanded = range_expand(number)\n",
    "        assert len(range_expanded) > 0 and len(range_expanded) < 1000\n",
    "    except Exception as e:\n",
    "        print(f\"Parsing of {r} failed: {e}\")\n",
    "        display(ranged[ranged.number_name == r])"
   ]
  },
  {
   "cell_type": "code",
   "execution_count": null,
   "id": "dda378b5",
   "metadata": {
    "node_exists": true,
    "node_name": "2ee19a19ed0a49ed849e7aecc9f99563"
   },
   "outputs": [],
   "source": [
    "for test_case in ['20-28', '1-5/32a', '53a-c']:\n",
    "    print(f\"{test_case}: {range_expand(test_case)}\")"
   ]
  },
  {
   "cell_type": "code",
   "execution_count": null,
   "id": "5855515e",
   "metadata": {
    "node_exists": true,
    "node_name": "c9bad1d9a30c469e8c72007d7fb9a393"
   },
   "outputs": [],
   "source": [
    "%%time\n",
    "expanded_ranged_addresses = []\n",
    "for i, sample in tqdm(ranged.iterrows(), total=len(ranged)):\n",
    "    # Expand this ranged address into it's own dataframe, with each number as it's own row\n",
    "    number, name = sample.number_name.split()\n",
    "    rows = []\n",
    "    for n in range_expand(number):\n",
    "        row = sample.copy()\n",
    "        row.number_name = n + \" \" + name\n",
    "        row[\"unique_id\"] = f\"{row.OBS}_{n}\"\n",
    "        rows.append(row)\n",
    "    sample = pd.DataFrame(rows).set_index(\"unique_id\")\n",
    "    if not sample.index.is_unique:\n",
    "        display(sample)\n",
    "        raise\n",
    "\n",
    "    # Step 1\n",
    "    def check_match(row):\n",
    "        if row.number_name in row.addresses:\n",
    "            return 1\n",
    "        return np.nan\n",
    "    match = sample[~pd.isna(sample.number_name) & ~pd.isna(sample.addresses)].apply(check_match, axis=1)\n",
    "    if len(match):\n",
    "        sample[\"LINZ_MATCH_CODE\"] = match\n",
    "    else:\n",
    "        sample[\"LINZ_MATCH_CODE\"] = np.nan\n",
    "\n",
    "    #However, we set r in step 2 to a larger number in order to do a wider search.\n",
    "\n",
    "    def find_match_in_range(row):\n",
    "        if str(row.geometry) == \"nan\":\n",
    "            return row\n",
    "        indices_in_range = parcel_tree.query_ball_point([row.geometry.x, row.geometry.y], 2000)\n",
    "        potential_matches = parcels.iloc[indices_in_range]\n",
    "        match = potential_matches[potential_matches.addresses.str.contains(row.number_name, na=False, regex=False)]\n",
    "        if len(match):\n",
    "            row.LINZ_parcel_ID = match.index[0]\n",
    "            row.addresses = match.addresses.iloc[0]\n",
    "            row.full_addresses = match.full_addresses.iloc[0]\n",
    "            row.LINZ_MATCH_CODE = 2\n",
    "        return row\n",
    "    matches = sample[\n",
    "        ~pd.isna(sample.number_name) &\n",
    "        pd.isna(sample[\"LINZ_MATCH_CODE\"])].apply(find_match_in_range, axis=1)\n",
    "    sample.update(matches)\n",
    "\n",
    "    # If no matches are found at step 2, but at least one match in the ranged address is found at step 1 or step 2, stop and set LINZ_match_code to 10\n",
    "    # This avoids matching parcels that are far away from the rest of the group\n",
    "    if all(pd.isna(sample.LINZ_MATCH_CODE)): # all na here means no matches in step 1 or 2\n",
    "        # Only if there is no match within the ranged addresses at either step 1 or step 2 do we proceed to step 3. \n",
    "        matches = sample[pd.isna(sample[\"LINZ_MATCH_CODE\"]) & sample.number_name.isin(number_name_lookup.keys())].apply(find_text_match, axis=1)\n",
    "        sample.update(matches)\n",
    "        maybe_subdivision = sample[sample.number_name.str.contains(\"/\") & pd.isna(sample.LINZ_MATCH_CODE)]\n",
    "        if len(maybe_subdivision):\n",
    "            maybe_subdivision.number_name = maybe_subdivision.number_name.str.split(\"/\").str[-1]\n",
    "            # step 1\n",
    "            match = maybe_subdivision[~pd.isna(maybe_subdivision.addresses)].apply(check_match, axis=1)\n",
    "            if len(match):\n",
    "                maybe_subdivision[\"LINZ_MATCH_CODE\"] = match\n",
    "            else:\n",
    "                maybe_subdivision[\"LINZ_MATCH_CODE\"] = np.nan\n",
    "            # step 2\n",
    "            matches = maybe_subdivision[\n",
    "                pd.isna(match) &\n",
    "                maybe_subdivision.number_name.isin(number_name_lookup.keys())\n",
    "            ].apply(find_match_in_range, axis=1)\n",
    "            maybe_subdivision.update(matches)\n",
    "            # step 3\n",
    "            matches = maybe_subdivision[\n",
    "                pd.isna(maybe_subdivision[\"LINZ_MATCH_CODE\"]) & maybe_subdivision.number_name.isin(number_name_lookup.keys())\n",
    "            ].apply(find_text_match, axis=1)\n",
    "            maybe_subdivision.update(matches)\n",
    "            maybe_subdivision.LINZ_MATCH_CODE = maybe_subdivision.LINZ_MATCH_CODE.replace({1: 4, 2: 5, 3: 6})\n",
    "            sample.update(maybe_subdivision)\n",
    "        maybe_subdivision = sample[\n",
    "            sample.number_name.str.contains(\"[0-9][a-zA-Z] \") &\n",
    "            pd.isna(sample.LINZ_MATCH_CODE)\n",
    "        ]\n",
    "        if len(maybe_subdivision):\n",
    "            maybe_subdivision.number_name = maybe_subdivision.number_name.apply(strip_char)\n",
    "            # step 1\n",
    "            match = maybe_subdivision[~pd.isna(maybe_subdivision.addresses)].apply(check_match, axis=1)\n",
    "            if len(match):\n",
    "                maybe_subdivision[\"LINZ_MATCH_CODE\"] = match\n",
    "            else:\n",
    "                maybe_subdivision[\"LINZ_MATCH_CODE\"] = np.nan\n",
    "            # step 2\n",
    "            matches = maybe_subdivision[\n",
    "                pd.isna(match) &\n",
    "                maybe_subdivision.number_name.isin(number_name_lookup.keys())\n",
    "            ].apply(find_match_in_range, axis=1)\n",
    "            maybe_subdivision.update(matches)\n",
    "            # step 3\n",
    "            matches = maybe_subdivision[\n",
    "                pd.isna(maybe_subdivision[\"LINZ_MATCH_CODE\"]) & maybe_subdivision.number_name.isin(number_name_lookup.keys())\n",
    "            ].apply(find_text_match, axis=1)\n",
    "            maybe_subdivision.update(matches)\n",
    "            maybe_subdivision.LINZ_MATCH_CODE = maybe_subdivision.LINZ_MATCH_CODE.replace({1: 4, 2: 5, 3: 6})\n",
    "            sample.update(maybe_subdivision)\n",
    "\n",
    "        if all(pd.isna(sample.LINZ_MATCH_CODE)):\n",
    "            street_matches = sample[pd.isna(sample.LINZ_MATCH_CODE)].apply(check_street_match, axis=1)\n",
    "            sample.LINZ_MATCH_CODE.update(street_matches)\n",
    "            sample.loc[~pd.isna(sample.LINZ_parcel_ID) & pd.isna(sample.LINZ_MATCH_CODE), \"LINZ_MATCH_CODE\"] = 8\n",
    "            sample.LINZ_MATCH_CODE = sample.LINZ_MATCH_CODE.fillna(9)\n",
    "        else:\n",
    "            sample.LINZ_MATCH_CODE = sample.LINZ_MATCH_CODE.fillna(10)\n",
    "    else:\n",
    "        sample.LINZ_MATCH_CODE = sample.LINZ_MATCH_CODE.fillna(10)\n",
    "    #We include an additional flag for each ranged address that indicates the best (i.e. lowest) LINZ_MATCH_CODE for that range.\n",
    "    #E.g. for a ranged address with five addresses, if at least one of them had LINZ_MATCH_CODE = 2,\n",
    "    #and all others were LINZ_MATCH_CODE > 2, then the best LINZ_MATCH_CODE would be 2. This is call LINZ_2ND_MATCH_CODE below.\n",
    "    # Each address (in the ranged address set) is assigned its own unique LINZ parcel.\n",
    "    # Each parcel is then assigned the information given in 1 through 11 below.\n",
    "    # Because the parcels share the same consent ID, we can tell that the different parcels pertain to the same consent, thereby avoiding double counting. \n",
    "    sample[\"LINZ_2ND_MATCH_CODE\"] = sample.LINZ_MATCH_CODE.min()\n",
    "    expanded_ranged_addresses.append(sample)"
   ]
  },
  {
   "cell_type": "code",
   "execution_count": null,
   "id": "50dc6d3e",
   "metadata": {
    "node_exists": true,
    "node_name": "b2330b30ddeb460c8d2d54b4a33bc77a"
   },
   "outputs": [],
   "source": [
    "df = df.drop(ranged.index)\n",
    "df = pd.concat([df] + expanded_ranged_addresses)\n",
    "df"
   ]
  },
  {
   "cell_type": "code",
   "execution_count": null,
   "id": "c28d77b7",
   "metadata": {
    "node_exists": true,
    "node_name": "013b515b82f94631a04810e241b1504d"
   },
   "outputs": [],
   "source": [
    "df.LINZ_MATCH_CODE[df.Ranged_Address_indicator].value_counts(dropna=False)"
   ]
  },
  {
   "cell_type": "code",
   "execution_count": null,
   "id": "1b00437f",
   "metadata": {
    "node_exists": true,
    "node_name": "ce899edc583f4cfebea9dd9b10461ecb"
   },
   "outputs": [],
   "source": [
    "df.LINZ_2ND_MATCH_CODE[df.Ranged_Address_indicator].value_counts(dropna=False)"
   ]
  },
  {
   "cell_type": "code",
   "execution_count": null,
   "id": "49390618",
   "metadata": {
    "node_exists": true,
    "node_name": "c4f639bd9d7d4bbb942da34fc0b2eddc"
   },
   "outputs": [],
   "source": [
    "df.LINZ_MATCH_CODE.value_counts(dropna=False)"
   ]
  },
  {
   "cell_type": "code",
   "execution_count": null,
   "id": "d1a25e5e",
   "metadata": {
    "node_exists": true,
    "node_name": "1e96c59b3a15456a88e64f0479bc033f"
   },
   "outputs": [],
   "source": [
    "%%time\n",
    "df = df.reset_index()\n",
    "distances = df[~pd.isna(df.LINZ_parcel_ID)].distance(parcels.loc[df.LINZ_parcel_ID[~pd.isna(df.LINZ_parcel_ID)]], align=False)\n",
    "display(distances)\n",
    "display(distances[distances>0].describe())"
   ]
  },
  {
   "cell_type": "code",
   "execution_count": null,
   "id": "bb94a6d1",
   "metadata": {
    "node_exists": true,
    "node_name": "93b6758768ae43e0859bbb371e4d2d87"
   },
   "outputs": [],
   "source": [
    "df[\"distance_to_parcel\"] = distances"
   ]
  },
  {
   "cell_type": "code",
   "execution_count": null,
   "id": "b6768cf8",
   "metadata": {
    "node_exists": true,
    "node_name": "3b1f21a3b7094cf48dbffb8f52886b5b"
   },
   "outputs": [],
   "source": [
    "df[(df.LINZ_MATCH_CODE == 3) & (df.distance_to_parcel > 10000)]"
   ]
  },
  {
   "cell_type": "code",
   "execution_count": null,
   "id": "daeacb02",
   "metadata": {
    "node_exists": true,
    "node_name": "d64e6f190b2e49488c64edb8fb9f9b7d"
   },
   "outputs": [],
   "source": [
    "%%time\n",
    "def fix_full_address(row):\n",
    "    number_name = ' '.join(row.full_address.split(' ')[:2])\n",
    "    row.full_address = row.full_address.replace(number_name, row.number_name)\n",
    "    return row\n",
    "df = df.progress_apply(fix_full_address, axis=1)\n",
    "df"
   ]
  },
  {
   "cell_type": "code",
   "execution_count": null,
   "id": "844f2d0c",
   "metadata": {
    "node_exists": true,
    "node_name": "a04fd36e6e1f40b6a790bd4550ca8346"
   },
   "outputs": [],
   "source": [
    "session = requests.Session()\n",
    "def geocode(address):\n",
    "    result = session.get(\"https://api-proxy.auckland-cer.cloud.edu.au/nominatim/search.php?q=\" + address).json()\n",
    "    if result:\n",
    "        return pd.Series(result[0])\n",
    "    else:\n",
    "        return pd.Series()\n",
    "bad_matches = df.full_address[df.LINZ_MATCH_CODE.isin([3,6,7,8,9,10])]\n",
    "geocoding_results = bad_matches.progress_apply(geocode)\n",
    "geocoding_results"
   ]
  },
  {
   "cell_type": "code",
   "execution_count": null,
   "id": "add38ba6",
   "metadata": {
    "node_exists": true,
    "node_name": "fc62179cbf3a44af8405f9d21a217a5c"
   },
   "outputs": [],
   "source": [
    "geocoding_results = geocoding_results.dropna()\n",
    "display(geocoding_results.category.value_counts())\n",
    "display(geocoding_results.type.value_counts())"
   ]
  },
  {
   "cell_type": "code",
   "execution_count": null,
   "id": "3dd9a02f",
   "metadata": {
    "node_exists": true,
    "node_name": "784c75ad2a5b46428fdc2e3266a8bb40"
   },
   "outputs": [],
   "source": [
    "geocoding_results = gpd.GeoDataFrame(geocoding_results, geometry=gpd.points_from_xy(geocoding_results.lon, geocoding_results.lat), crs=4326).to_crs(2193)\n",
    "geocoding_results"
   ]
  },
  {
   "cell_type": "code",
   "execution_count": null,
   "id": "8dcb6265",
   "metadata": {
    "node_exists": true,
    "node_name": "9515112dba2841da99dcdc72d85af2b7"
   },
   "outputs": [],
   "source": [
    "df[\"distance_from_geocoding_result\"] = df.loc[geocoding_results.index].distance(geocoding_results)\n",
    "df[\"distance_from_geocoding_result\"].describe()"
   ]
  },
  {
   "cell_type": "code",
   "execution_count": null,
   "id": "656f006b",
   "metadata": {
    "node_exists": true,
    "node_name": "ef5a9c2cec224ddd83ed09fda19c1dc0"
   },
   "outputs": [],
   "source": [
    "%%time\n",
    "# redo join with updated coordinates\n",
    "geocoding_results = gpd.sjoin(geocoding_results, parcels[[\"addresses\",\"geometry\"]], how=\"left\")"
   ]
  },
  {
   "cell_type": "code",
   "execution_count": null,
   "id": "0d3c393c",
   "metadata": {
    "node_exists": true,
    "node_name": "e63ead18eada4e1f8385047d8b4198f1"
   },
   "outputs": [],
   "source": [
    "geocoding_results = geocoding_results.rename(columns={\"index_right\": \"LINZ_parcel_ID\"})\n",
    "geocoding_results.LINZ_parcel_ID = geocoding_results.LINZ_parcel_ID.astype(\"Int64\")\n",
    "geocoding_results"
   ]
  },
  {
   "cell_type": "code",
   "execution_count": null,
   "id": "134804bf",
   "metadata": {
    "node_exists": true,
    "node_name": "264b9fe811564ce682231117ad035e9a"
   },
   "outputs": [],
   "source": [
    "geocoding_results[\"number_name\"] = df.number_name[geocoding_results.index]\n",
    "match = geocoding_results[~pd.isna(geocoding_results.number_name) & ~pd.isna(geocoding_results.addresses)].apply(check_match, axis=1)\n",
    "geocoding_results[\"LINZ_MATCH_CODE\"] = match\n",
    "geocoding_results.LINZ_MATCH_CODE.value_counts(dropna=False)"
   ]
  },
  {
   "cell_type": "code",
   "execution_count": null,
   "id": "52f1fd77",
   "metadata": {
    "node_exists": true,
    "node_name": "00814ebc601a410a8eaec6f077c19cca"
   },
   "outputs": [],
   "source": [
    "geocoding_results[\"LINZ_2ND_MATCH_CODE\"] = df.LINZ_2ND_MATCH_CODE[geocoding_results.index]\n",
    "def find_match_in_range(row):\n",
    "    if np.isnan(row.LINZ_2ND_MATCH_CODE):\n",
    "        r = 1250\n",
    "    else:\n",
    "        r = 2000\n",
    "    indices_in_range = parcel_tree.query_ball_point([row.geometry.x, row.geometry.y], r)\n",
    "    potential_matches = parcels.iloc[indices_in_range]\n",
    "    match = potential_matches[potential_matches.addresses.str.contains(row.number_name, na=False, regex=False)]\n",
    "    if len(match):\n",
    "        row.LINZ_parcel_ID = match.index[0]\n",
    "        row.addresses = match.addresses.iloc[0]\n",
    "        row.full_addresses = match.full_addresses.iloc[0]\n",
    "        row.LINZ_MATCH_CODE = 2\n",
    "    return row\n",
    "matches = geocoding_results[\n",
    "    ~pd.isna(geocoding_results.number_name) &\n",
    "    pd.isna(geocoding_results[\"LINZ_MATCH_CODE\"]) &\n",
    "    geocoding_results.number_name.isin(number_name_lookup.keys())].progress_apply(find_match_in_range, axis=1)"
   ]
  },
  {
   "cell_type": "code",
   "execution_count": null,
   "id": "967a581a",
   "metadata": {
    "node_exists": true,
    "node_name": "dfd9071156414ffda2f719ffcae163e7"
   },
   "outputs": [],
   "source": [
    "geocoding_results.update(matches)\n",
    "geocoding_results.LINZ_MATCH_CODE.value_counts(dropna=False)"
   ]
  },
  {
   "cell_type": "code",
   "execution_count": null,
   "id": "f77cbfb9",
   "metadata": {
    "node_exists": true,
    "node_name": "87b707b2fb2342d4b42c41b4a49ed213"
   },
   "outputs": [],
   "source": [
    "geocoding_results[\"original_LINZ_MATCH_CODE\"] = df.LINZ_MATCH_CODE[geocoding_results.index]"
   ]
  },
  {
   "cell_type": "code",
   "execution_count": null,
   "id": "0038ae30",
   "metadata": {
    "node_exists": true,
    "node_name": "2c6ad8193994474d9a9286f5e2b3adda"
   },
   "outputs": [],
   "source": [
    "geocoding_results"
   ]
  },
  {
   "cell_type": "code",
   "execution_count": null,
   "id": "6548ac51",
   "metadata": {
    "node_exists": true,
    "node_name": "b69432681093403b8bd53937fea18e3c"
   },
   "outputs": [],
   "source": [
    "text_match = geocoding_results.original_LINZ_MATCH_CODE.isin([3,6]) & pd.isna(geocoding_results.LINZ_MATCH_CODE)\n",
    "print(sum(text_match))\n",
    "geocoding_results = geocoding_results[~text_match]"
   ]
  },
  {
   "cell_type": "code",
   "execution_count": null,
   "id": "3ba84fe9",
   "metadata": {
    "node_exists": true,
    "node_name": "cd4cf3ff304c49b78eeda747b265b5e7"
   },
   "outputs": [],
   "source": [
    "street_matches = geocoding_results[pd.isna(geocoding_results.LINZ_MATCH_CODE)].progress_apply(check_street_match, axis=1)\n",
    "display(street_matches.value_counts(dropna=False))\n",
    "geocoding_results.LINZ_MATCH_CODE.update(street_matches)"
   ]
  },
  {
   "cell_type": "code",
   "execution_count": null,
   "id": "7f3a772e",
   "metadata": {
    "node_exists": true,
    "node_name": "3c29ad085ecd45f184df3f5b9a9887e5"
   },
   "outputs": [],
   "source": [
    "geocoding_results.LINZ_MATCH_CODE[\n",
    "    pd.isna(geocoding_results.LINZ_MATCH_CODE) &\n",
    "    pd.isna(geocoding_results.LINZ_2ND_MATCH_CODE) &\n",
    "    ~pd.isna(geocoding_results.LINZ_parcel_ID)] = 8\n",
    "geocoding_results.LINZ_MATCH_CODE[\n",
    "    pd.isna(geocoding_results.LINZ_MATCH_CODE) &\n",
    "    pd.isna(geocoding_results.LINZ_2ND_MATCH_CODE) &\n",
    "    pd.isna(geocoding_results.LINZ_parcel_ID)] = 9"
   ]
  },
  {
   "cell_type": "code",
   "execution_count": null,
   "id": "4324e2bd",
   "metadata": {
    "node_exists": true,
    "node_name": "b695b55574f649fd897d93689039416c"
   },
   "outputs": [],
   "source": [
    "geocoding_results.LINZ_MATCH_CODE.value_counts(dropna=False)"
   ]
  },
  {
   "cell_type": "code",
   "execution_count": null,
   "id": "2c1b6c0b",
   "metadata": {
    "node_exists": true,
    "node_name": "0d38017e32db48b986c49386514d076d"
   },
   "outputs": [],
   "source": [
    "geocoding_results[\"OBS\"] = df.OBS[geocoding_results.index]\n",
    "geocoding_results.LINZ_MATCH_CODE[pd.isna(geocoding_results.LINZ_MATCH_CODE) &\n",
    "    geocoding_results.LINZ_2ND_MATCH_CODE.isin([1,2,4,5])\n",
    "] = 10\n",
    "geocoding_results.LINZ_MATCH_CODE[pd.isna(geocoding_results.LINZ_MATCH_CODE) & ~pd.isna(geocoding_results.LINZ_parcel_ID)] = 8"
   ]
  },
  {
   "cell_type": "code",
   "execution_count": null,
   "id": "f22ffd20",
   "metadata": {
    "node_exists": true,
    "node_name": "0c9dee77f8014eb7a07484763ce27645"
   },
   "outputs": [],
   "source": [
    "# Actually, this operation is equivalent to +=3\n",
    "geocoding_results.LINZ_MATCH_CODE.update(geocoding_results.LINZ_MATCH_CODE[geocoding_results.original_LINZ_MATCH_CODE.isin([4,5,6])].replace({1: 4, 2: 5, 3: 6}))"
   ]
  },
  {
   "cell_type": "code",
   "execution_count": null,
   "id": "5ffcb770",
   "metadata": {
    "node_exists": true,
    "node_name": "da40743fc3564e9ca77c0700f64d51b4"
   },
   "outputs": [],
   "source": [
    "made_it_worse = geocoding_results.LINZ_MATCH_CODE > geocoding_results.original_LINZ_MATCH_CODE\n",
    "print(sum(made_it_worse))\n",
    "geocoding_results = geocoding_results[~made_it_worse]"
   ]
  },
  {
   "cell_type": "code",
   "execution_count": null,
   "id": "61e59d7f",
   "metadata": {
    "node_exists": true,
    "node_name": "9d3facb10ba745428aef53af62ad2c72"
   },
   "outputs": [],
   "source": [
    "geocoding_results[\"change\"] = geocoding_results.apply(lambda row: f\"{row.original_LINZ_MATCH_CODE} -> {row.LINZ_MATCH_CODE}\", axis=1)\n",
    "geocoding_results[\"change\"].value_counts()"
   ]
  },
  {
   "cell_type": "code",
   "execution_count": null,
   "id": "1a35ba0e",
   "metadata": {
    "node_exists": true,
    "node_name": "e9250d03052b4e77896f718c1d8d09d6"
   },
   "outputs": [],
   "source": [
    "display(geocoding_results.change[pd.isna(geocoding_results.LINZ_2ND_MATCH_CODE)].value_counts())\n",
    "display(geocoding_results.change[~pd.isna(geocoding_results.LINZ_2ND_MATCH_CODE)].value_counts())"
   ]
  },
  {
   "cell_type": "code",
   "execution_count": null,
   "id": "eac4834e",
   "metadata": {
    "node_exists": true,
    "node_name": "26f94ccc41274e448207713c6666d3ba"
   },
   "outputs": [],
   "source": [
    "good_changes = geocoding_results.LINZ_MATCH_CODE < geocoding_results.original_LINZ_MATCH_CODE\n",
    "print(sum(good_changes))\n",
    "geocoding_results = geocoding_results[good_changes]\n",
    "geocoding_results[\"change\"].value_counts()"
   ]
  },
  {
   "cell_type": "code",
   "execution_count": null,
   "id": "12fdc1c4",
   "metadata": {
    "node_exists": true,
    "node_name": "cc4afc9167f44ea281bbc7711aac960f"
   },
   "outputs": [],
   "source": [
    "df.update(geocoding_results)\n",
    "df"
   ]
  },
  {
   "cell_type": "code",
   "execution_count": null,
   "id": "8de39710",
   "metadata": {
    "node_exists": true,
    "node_name": "0201a922c5464b0f9674346390cb7b5a"
   },
   "outputs": [],
   "source": [
    "df.LINZ_MATCH_CODE.value_counts(dropna=False)"
   ]
  },
  {
   "cell_type": "code",
   "execution_count": null,
   "id": "6dfc2e43",
   "metadata": {
    "node_exists": true,
    "node_name": "7112e68d16e649128610c54a0cf44cbb"
   },
   "outputs": [],
   "source": [
    "sum(df.LINZ_MATCH_CODE < df.LINZ_2ND_MATCH_CODE)"
   ]
  },
  {
   "cell_type": "code",
   "execution_count": null,
   "id": "aa684192",
   "metadata": {
    "node_exists": true,
    "node_name": "f881af5f0d564aed833beacd7c4228bd"
   },
   "outputs": [],
   "source": [
    "group = df[~pd.isna(df.LINZ_2ND_MATCH_CODE)].groupby(\"OBS\")\n",
    "group"
   ]
  },
  {
   "cell_type": "code",
   "execution_count": null,
   "id": "482d1c6c",
   "metadata": {
    "node_exists": true,
    "node_name": "a2f970c816b349c98b3e4b4cb52a0da8"
   },
   "outputs": [],
   "source": [
    "updates = []\n",
    "for ix, sample in tqdm(group):\n",
    "    minmatch = sample.LINZ_MATCH_CODE.min()\n",
    "    if minmatch <=2:\n",
    "        sample.loc[sample.LINZ_MATCH_CODE>2, \"LINZ_MATCH_CODE\"] = 10\n",
    "    elif minmatch <=5:\n",
    "        sample.loc[sample.LINZ_MATCH_CODE>5, \"LINZ_MATCH_CODE\"] = 10\n",
    "    sample.LINZ_2ND_MATCH_CODE = minmatch\n",
    "    updates.append(sample)\n",
    "updates = pd.concat(updates)\n",
    "updates"
   ]
  },
  {
   "cell_type": "code",
   "execution_count": null,
   "id": "c020823b",
   "metadata": {
    "node_exists": true,
    "node_name": "03262951324c42a3a3b282514e1d8f13"
   },
   "outputs": [],
   "source": [
    "df.update(updates)"
   ]
  },
  {
   "cell_type": "code",
   "execution_count": null,
   "id": "cb3ea3c1",
   "metadata": {
    "node_exists": true,
    "node_name": "f7d0cb38d3b749b48cb9c2fc75536250"
   },
   "outputs": [],
   "source": [
    "assert sum(df.LINZ_MATCH_CODE < df.LINZ_2ND_MATCH_CODE) == 0"
   ]
  },
  {
   "cell_type": "code",
   "execution_count": null,
   "id": "506068a5",
   "metadata": {
    "node_exists": true,
    "node_name": "d5ee3abdfb204b478941ee6888f507ad"
   },
   "outputs": [],
   "source": [
    "df.LINZ_MATCH_CODE.value_counts()"
   ]
  },
  {
   "cell_type": "code",
   "execution_count": null,
   "id": "01927f16",
   "metadata": {
    "node_exists": true,
    "node_name": "0d0426346c2c45958a06ecb0a0ae8685"
   },
   "outputs": [],
   "source": [
    "df.LINZ_parcel_ID[df.LINZ_MATCH_CODE >= 9] = np.nan\n",
    "df.addresses[df.LINZ_MATCH_CODE >= 9] = np.nan\n",
    "df.full_addresses[df.LINZ_MATCH_CODE >= 9] = np.nan"
   ]
  },
  {
   "cell_type": "code",
   "execution_count": null,
   "id": "2c87a66c",
   "metadata": {
    "node_exists": true,
    "node_name": "eb9353c0a12247668e5eddb7ab0c40fa"
   },
   "outputs": [],
   "source": [
    "distances = df[~pd.isna(df.LINZ_parcel_ID)].distance(parcels.loc[df.LINZ_parcel_ID[~pd.isna(df.LINZ_parcel_ID)]], align=False)\n",
    "display(distances)\n",
    "display(distances[distances>0].describe())"
   ]
  },
  {
   "cell_type": "code",
   "execution_count": null,
   "id": "0402559f",
   "metadata": {
    "node_exists": true,
    "node_name": "f5a65dd30111411f8c410edf8ad56db6"
   },
   "outputs": [],
   "source": [
    "df[\"distance_to_parcel\"] = distances"
   ]
  },
  {
   "cell_type": "code",
   "execution_count": null,
   "id": "111de09d",
   "metadata": {
    "node_exists": true,
    "node_name": "d88aa0954ab14f968633d80f5cd011a9"
   },
   "outputs": [],
   "source": [
    "print(sum((df.LINZ_MATCH_CODE < 7) & (df.addresses.str.len()!=df.full_addresses.str.len())))"
   ]
  },
  {
   "cell_type": "code",
   "execution_count": null,
   "id": "baef659a",
   "metadata": {
    "node_exists": true,
    "node_name": "b77cda2848f241db9884543c91bbaa1e"
   },
   "outputs": [],
   "source": [
    "non_na_parcel_ids = df.LINZ_parcel_ID[~pd.isna(df.LINZ_parcel_ID)]\n",
    "full_addrs = parcels.full_addresses[non_na_parcel_ids]\n",
    "full_addrs.index = non_na_parcel_ids.index\n",
    "df.full_addresses = full_addrs\n",
    "print(sum((df.LINZ_MATCH_CODE < 7) & (df.addresses.str.len()!=df.full_addresses.str.len())))\n",
    "display(df)"
   ]
  },
  {
   "cell_type": "code",
   "execution_count": null,
   "id": "7800cc6a",
   "metadata": {
    "node_exists": true,
    "node_name": "34aa107e844540c5988dbe380334c2a5"
   },
   "outputs": [],
   "source": [
    "def get_full_addr(row):\n",
    "    try:\n",
    "        return row.full_addresses[row.addresses.index(row.number_name)]\n",
    "    except:\n",
    "        display(row)\n",
    "df[\"matched_address\"] = df[df.LINZ_MATCH_CODE < 7].progress_apply(get_full_addr, axis=1)\n",
    "df"
   ]
  },
  {
   "cell_type": "code",
   "execution_count": null,
   "id": "1619061c",
   "metadata": {
    "node_exists": true,
    "node_name": "e971a102bcc4410f8c18a0b9c836caaa"
   },
   "outputs": [],
   "source": [
    "%%time\n",
    "phase0 = pd.read_csv(\"output/parcels_phase0.csv\", index_col=\"LINZ_parcel_ID\", low_memory=False, lineterminator=\"\\n\")\n",
    "phase0"
   ]
  },
  {
   "cell_type": "code",
   "execution_count": null,
   "id": "a72ca31c",
   "metadata": {
    "node_exists": true,
    "node_name": "e54f4af5c43447b4be18b29f11ff5b57"
   },
   "outputs": [],
   "source": [
    "len(df), len(df.LINZ_parcel_ID.unique()), len(phase0), len(phase0.index.unique())"
   ]
  },
  {
   "cell_type": "code",
   "execution_count": null,
   "id": "cc46fee2",
   "metadata": {
    "node_exists": true,
    "node_name": "31f2618c92b3450e8214bc36fd31ac7a"
   },
   "outputs": [],
   "source": [
    "%%time\n",
    "df = df.drop(columns=\"geometry\").merge(phase0, on=\"LINZ_parcel_ID\", how=\"left\")\n",
    "df"
   ]
  },
  {
   "cell_type": "code",
   "execution_count": null,
   "id": "afbc65ce",
   "metadata": {
    "node_exists": true,
    "node_name": "1d114f08be5d4a908a1d040e92d1154e"
   },
   "outputs": [],
   "source": [
    "df.columns"
   ]
  },
  {
   "cell_type": "code",
   "execution_count": null,
   "id": "7590ce5a",
   "metadata": {
    "node_exists": true,
    "node_name": "4dc3a6231b2a4c5483d93f76a71d3363"
   },
   "outputs": [],
   "source": [
    "df.to_csv(\"restricted/BCs_issued_by_AUP_TLADCs_2021DEC_augmented.csv\", index=False)"
   ]
  },
  {
   "cell_type": "code",
   "execution_count": null,
   "id": "6a40f2df",
   "metadata": {
    "node_exists": false,
    "node_name": "23248f968a31436d919a5a8f162df459"
   },
   "outputs": [],
   "source": []
  },
  {
   "cell_type": "code",
   "execution_count": null,
   "id": "fc178423",
   "metadata": {
    "node_exists": false,
    "node_name": "17fb82fcc0624f2e8dfea8138eadcb2d"
   },
   "outputs": [],
   "source": []
  }
 ],
 "metadata": {
  "kernelspec": {
   "display_name": "Python 3",
   "language": "python",
   "name": "python3"
  },
  "language_info": {
   "codemirror_mode": {
    "name": "ipython",
    "version": 3
   },
   "file_extension": ".py",
   "mimetype": "text/x-python",
   "name": "python",
   "nbconvert_exporter": "python",
   "pygments_lexer": "ipython3",
   "version": "3.8.5"
  }
 },
 "nbformat": 4,
 "nbformat_minor": 5
}
