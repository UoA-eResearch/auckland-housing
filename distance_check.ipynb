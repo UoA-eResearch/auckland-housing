{
 "cells": [
  {
   "cell_type": "code",
   "execution_count": 1,
   "id": "8a45443e",
   "metadata": {},
   "outputs": [
    {
     "name": "stdout",
     "output_type": "stream",
     "text": [
      "geodesic:\t 2808.42236439133 km\n",
      "great_circle:\t 2810.434557630691 km\n",
      "EPSG:2193:\t 2814.5684292007204\n",
      "EPSG:27200:\t 2820.577489834727\n"
     ]
    }
   ],
   "source": [
    "import geopandas as gpd\n",
    "from shapely.geometry import Point\n",
    "from geopy.distance import geodesic, great_circle\n",
    "\n",
    "N = Point(-177.86957899263666, -29.231440487079798)\n",
    "S = Point(169.1272753839956, -52.61676648744082)\n",
    "print(\"geodesic:\\t\", geodesic((N.y, N.x), (S.y, S.x)))\n",
    "print(\"great_circle:\\t\", great_circle((N.y, N.x), (S.y, S.x)))\n",
    "\n",
    "series = gpd.GeoSeries([N, S], crs=\"EPSG:4326\").to_crs(epsg=2193)\n",
    "print(\"EPSG:2193:\\t\", series[0].distance(series[1]) / 1000)\n",
    "series = gpd.GeoSeries([N, S], crs=\"EPSG:4326\").to_crs(epsg=27200)\n",
    "print(\"EPSG:27200:\\t\", series[0].distance(series[1]) / 1000)"
   ]
  }
 ],
 "metadata": {
  "kernelspec": {
   "display_name": "Python 3",
   "language": "python",
   "name": "python3"
  },
  "language_info": {
   "codemirror_mode": {
    "name": "ipython",
    "version": 3
   },
   "file_extension": ".py",
   "mimetype": "text/x-python",
   "name": "python",
   "nbconvert_exporter": "python",
   "pygments_lexer": "ipython3",
   "version": "3.8.5"
  }
 },
 "nbformat": 4,
 "nbformat_minor": 5
}
